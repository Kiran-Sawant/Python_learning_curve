{
 "cells": [
  {
   "cell_type": "code",
   "execution_count": 1,
   "metadata": {},
   "outputs": [],
   "source": [
    "import time\n",
    "from copy import deepcopy\n",
    "import json\n",
    "\n",
    "import requests\n",
    "from bs4 import BeautifulSoup\n",
    "import pandas as pd\n",
    "from tqdm.notebook import tqdm"
   ]
  },
  {
   "source": [
    "# A warning on robots\n",
    "  \n",
    "go to example.com/robots.txt and you should find a text file that defines what & how web crawlers(robots) can crawl the website.  \n",
    "\n",
    "Examle:  \n",
    "        User-agent: *  \n",
    "        Crawl-delay: 10   \n",
    "        Allow: /pages/   \n",
    "        Disallow: /scripts/  \n",
    "\n",
    "it means general bots should make a request once per 10 seconds, and they are allowed to scrape pages and not scripts."
   ],
   "cell_type": "markdown",
   "metadata": {}
  },
  {
   "cell_type": "code",
   "execution_count": 2,
   "metadata": {},
   "outputs": [],
   "source": [
    "# Function for saving html\n",
    "\n",
    "def save_html(html, path):\n",
    "    with open(path, mode='wb')as f:\n",
    "        f.write(html)"
   ]
  },
  {
   "cell_type": "code",
   "execution_count": 3,
   "metadata": {},
   "outputs": [],
   "source": [
    "# Function for reading a local html file\n",
    "\n",
    "def open_html(path):\n",
    "    with open(path, mode='rb') as f:\n",
    "        return f.read()"
   ]
  },
  {
   "cell_type": "markdown",
   "metadata": {},
   "source": [
    "## # Sending GET request\n",
    "\n",
    "Sending a get request and storing the response in response variable"
   ]
  },
  {
   "cell_type": "code",
   "execution_count": 4,
   "metadata": {},
   "outputs": [],
   "source": [
    "url = \"https://www.allsides.com/media-bias/media-bias-ratings\"\n",
    "\n",
    "response = requests.get(url)"
   ]
  },
  {
   "cell_type": "code",
   "execution_count": 5,
   "metadata": {},
   "outputs": [
    {
     "output_type": "stream",
     "name": "stdout",
     "text": [
      "b'<!DOCTYPE html>\\n<!--[if IEMobile 7]><html class=\"iem7\"  lang=\"en\" dir=\"ltr\"><![endif]-->\\n<!--[if lte'\n"
     ]
    }
   ],
   "source": [
    "print(response.content[:100])"
   ]
  },
  {
   "cell_type": "markdown",
   "metadata": {},
   "source": [
    "## # Creating a soup object\n",
    "\n",
    "A soup object defines many methods that can be used to find elements and their contents."
   ]
  },
  {
   "cell_type": "code",
   "execution_count": 6,
   "metadata": {},
   "outputs": [],
   "source": [
    "soup = BeautifulSoup(response.content, features='html.parser')"
   ]
  },
  {
   "cell_type": "code",
   "execution_count": 7,
   "metadata": {},
   "outputs": [],
   "source": [
    "rows = soup.select(\"tbody tr\")"
   ]
  },
  {
   "cell_type": "code",
   "execution_count": 8,
   "metadata": {},
   "outputs": [
    {
     "output_type": "execute_result",
     "data": {
      "text/plain": [
       "'ABC News (Online)'"
      ]
     },
     "metadata": {},
     "execution_count": 8
    }
   ],
   "source": [
    "# print(rows[0].select_one(\".source-title\").text.strip())\n",
    "\n",
    "name = rows[0].select_one(\".source-title\").text.strip()\n",
    "name"
   ]
  },
  {
   "cell_type": "code",
   "execution_count": 9,
   "metadata": {
    "tags": []
   },
   "outputs": [
    {
     "output_type": "execute_result",
     "data": {
      "text/plain": [
       "'/news-source/abc-news-media-bias'"
      ]
     },
     "metadata": {},
     "execution_count": 9
    }
   ],
   "source": [
    "# getting the relative URL in href of anchor tag\n",
    "# use brackets to select HTML attribute values\n",
    "\n",
    "abc = rows[0].select_one('.source-title a')['href']\n",
    "abc"
   ]
  },
  {
   "cell_type": "code",
   "execution_count": 10,
   "metadata": {},
   "outputs": [
    {
     "output_type": "execute_result",
     "data": {
      "text/plain": [
       "'https://www.allsides.com/news-source/abc-news-media-bias'"
      ]
     },
     "metadata": {},
     "execution_count": 10
    }
   ],
   "source": [
    "# creating an absolute URL\n",
    "\n",
    "allsides_abcpage = \"https://www.allsides.com\" + abc\n",
    "\n",
    "allsides_abcpage"
   ]
  },
  {
   "cell_type": "markdown",
   "metadata": {},
   "source": [
    "### # Getting political bias info"
   ]
  },
  {
   "cell_type": "code",
   "execution_count": 12,
   "metadata": {},
   "outputs": [
    {
     "output_type": "execute_result",
     "data": {
      "text/plain": [
       "'left-center'"
      ]
     },
     "metadata": {},
     "execution_count": 12
    }
   ],
   "source": [
    "bias = rows[0].select_one(\".views-field-field-bias-image a\")['href'].split('/')[-1]\n",
    "bias"
   ]
  },
  {
   "source": [
    "#### # How many people agree with the bias rating?"
   ],
   "cell_type": "markdown",
   "metadata": {}
  },
  {
   "cell_type": "code",
   "execution_count": 13,
   "metadata": {},
   "outputs": [
    {
     "output_type": "execute_result",
     "data": {
      "text/plain": [
       "33387"
      ]
     },
     "metadata": {},
     "execution_count": 13
    }
   ],
   "source": [
    "agree = int(rows[0].select_one('.agree').text)\n",
    "agree"
   ]
  },
  {
   "source": [
    "#### # How many people disagree with the bias rating?"
   ],
   "cell_type": "markdown",
   "metadata": {}
  },
  {
   "cell_type": "code",
   "execution_count": 14,
   "metadata": {},
   "outputs": [
    {
     "output_type": "execute_result",
     "data": {
      "text/plain": [
       "17034"
      ]
     },
     "metadata": {},
     "execution_count": 14
    }
   ],
   "source": [
    "disagree = int(rows[0].select_one('.disagree').text)\n",
    "disagree"
   ]
  },
  {
   "cell_type": "code",
   "execution_count": 15,
   "metadata": {},
   "outputs": [
    {
     "output_type": "execute_result",
     "data": {
      "text/plain": [
       "1.9600211342021838"
      ]
     },
     "metadata": {},
     "execution_count": 15
    }
   ],
   "source": [
    "agree_ratio = agree/ disagree\n",
    "agree_ratio"
   ]
  },
  {
   "cell_type": "code",
   "execution_count": 16,
   "metadata": {},
   "outputs": [
    {
     "output_type": "stream",
     "name": "stdout",
     "text": [
      "Agree: 33387, disagree: 17034, ratio:  1.96\n"
     ]
    }
   ],
   "source": [
    "print(f\"Agree: {agree}, disagree: {disagree}, ratio: {agree_ratio: .2f}\")"
   ]
  },
  {
   "cell_type": "code",
   "execution_count": 17,
   "metadata": {},
   "outputs": [],
   "source": [
    "def get_agreeance_text(ratio):\n",
    "    if ratio > 3: return \"absolutely agrees\"\n",
    "    elif 2 < ratio <= 3: return \"strongly agrees\"\n",
    "    elif 1.5 < ratio <= 2: return \"agrees\"\n",
    "    elif 1 < ratio <= 1.5: return \"somewhat agrees\"\n",
    "    elif ratio == 1: return \"neutral\"\n",
    "    elif 0.67 < ratio < 1: return \"somewhat disagrees\"\n",
    "    elif 0.5 < ratio <= 0.67: return \"disagrees\"\n",
    "    elif 0.33 < ratio <= 0.5: return \"strongly disagree\"\n",
    "    elif ratio <= 0.33: return \"absolutly disagrees\"\n",
    "    else: return None"
   ]
  },
  {
   "cell_type": "code",
   "execution_count": 18,
   "metadata": {},
   "outputs": [],
   "source": [
    "data = list()\n",
    "\n",
    "for row in rows:\n",
    "    \n",
    "    d = dict()\n",
    "    d['name'] = row.select_one('.source-title').text.strip()\n",
    "    d['allsides_page'] = \"https://www.allsides.com\" + row.select_one('.source-title a')['href']\n",
    "    d['bias'] = row.select_one(\".views-field-field-bias-image a\")['href'].split('/')[-1]\n",
    "    d['agree'] = int(row.select_one('.agree').text)\n",
    "    d['disagree'] = int(row.select_one('.disagree').text)\n",
    "    d['agree_ratio'] = d['agree'] / d['disagree']\n",
    "    d['agreeance_text'] = get_agreeance_text(d['agree_ratio'])\n",
    "    \n",
    "    data.append(d)"
   ]
  },
  {
   "cell_type": "code",
   "execution_count": 21,
   "metadata": {
    "collapsed": true,
    "jupyter": {
     "outputs_hidden": true
    },
    "tags": []
   },
   "outputs": [
    {
     "output_type": "execute_result",
     "data": {
      "text/plain": [
       "[{'name': 'ABC News (Online)',\n",
       "  'allsides_page': 'https://www.allsides.com/news-source/abc-news-media-bias',\n",
       "  'bias': 'left-center',\n",
       "  'agree': 33387,\n",
       "  'disagree': 17034,\n",
       "  'agree_ratio': 1.9600211342021838,\n",
       "  'agreeance_text': 'agrees'},\n",
       " {'name': 'AlterNet',\n",
       "  'allsides_page': 'https://www.allsides.com/news-source/alternet-media-bias',\n",
       "  'bias': 'left',\n",
       "  'agree': 12619,\n",
       "  'disagree': 2574,\n",
       "  'agree_ratio': 4.902486402486402,\n",
       "  'agreeance_text': 'absolutely agrees'},\n",
       " {'name': 'AP Politics & Fact Check',\n",
       "  'allsides_page': 'https://www.allsides.com/news-source/ap-fact-check-media-bias',\n",
       "  'bias': 'left-center',\n",
       "  'agree': 3893,\n",
       "  'disagree': 4630,\n",
       "  'agree_ratio': 0.8408207343412527,\n",
       "  'agreeance_text': 'somewhat disagrees'}]"
      ]
     },
     "metadata": {},
     "execution_count": 21
    }
   ],
   "source": [
    "data[0:3]"
   ]
  },
  {
   "cell_type": "code",
   "execution_count": 20,
   "metadata": {},
   "outputs": [],
   "source": [
    "pages = [\n",
    "    'https://www.allsides.com/media-bias/media-bias-ratings',\n",
    "    'https://www.allsides.com/media-bias/media-bias-ratings?page=1'\n",
    "]"
   ]
  },
  {
   "cell_type": "code",
   "execution_count": 21,
   "metadata": {},
   "outputs": [
    {
     "name": "stdout",
     "output_type": "stream",
     "text": [
      "loop 1\n",
      "loop 2\n",
      "done\n"
     ]
    }
   ],
   "source": [
    "data = list()\n",
    "n = 1\n",
    "for page in pages:\n",
    "     \n",
    "    r = requests.get(page)\n",
    "    soup = BeautifulSoup(r.content, 'html.parser')\n",
    "    rows = soup.select(\"tbody tr\")\n",
    "\n",
    "    for row in rows:\n",
    "\n",
    "        d = dict()\n",
    "        \n",
    "        d['name'] = row.select_one('.source-title').text.strip()\n",
    "        d['allsides_page'] = \"https://www.allsides.com\" + row.select_one('.source-title a')['href']\n",
    "        d['bias'] = row.select_one(\".views-field-field-bias-image a\")['href'].split('/')[-1]\n",
    "        d['agree'] = int(row.select_one('.agree').text)\n",
    "        d['disagree'] = int(row.select_one('.disagree').text)\n",
    "        d['agree_ratio'] = d['agree'] / d['disagree']\n",
    "        d['agreeance_text'] = get_agreeance_text(d['agree_ratio'])\n",
    "\n",
    "        data.append(d)\n",
    "    print(f\"loop {n}\")\n",
    "    n += 1\n",
    "    time.sleep(10)\n",
    "print(\"done\")"
   ]
  },
  {
   "cell_type": "code",
   "execution_count": 22,
   "metadata": {
    "tags": []
   },
   "outputs": [
    {
     "data": {
      "text/plain": [
       "{'name': 'ABC News (Online)',\n",
       " 'allsides_page': 'https://www.allsides.com/news-source/abc-news-media-bias',\n",
       " 'bias': 'left-center',\n",
       " 'agree': 32991,\n",
       " 'disagree': 16893,\n",
       " 'agree_ratio': 1.95293908719588,\n",
       " 'agreeance_text': 'agrees'}"
      ]
     },
     "execution_count": 22,
     "metadata": {},
     "output_type": "execute_result"
    }
   ],
   "source": [
    "data[0]"
   ]
  },
  {
   "cell_type": "code",
   "execution_count": 25,
   "metadata": {
    "jupyter": {
     "outputs_hidden": true
    },
    "scrolled": true,
    "tags": []
   },
   "outputs": [
    {
     "data": {
      "text/html": [
       "<div>\n",
       "<style scoped>\n",
       "    .dataframe tbody tr th:only-of-type {\n",
       "        vertical-align: middle;\n",
       "    }\n",
       "\n",
       "    .dataframe tbody tr th {\n",
       "        vertical-align: top;\n",
       "    }\n",
       "\n",
       "    .dataframe thead th {\n",
       "        text-align: right;\n",
       "    }\n",
       "</style>\n",
       "<table border=\"1\" class=\"dataframe\">\n",
       "  <thead>\n",
       "    <tr style=\"text-align: right;\">\n",
       "      <th></th>\n",
       "      <th>name</th>\n",
       "      <th>allsides_page</th>\n",
       "      <th>bias</th>\n",
       "      <th>agree</th>\n",
       "      <th>disagree</th>\n",
       "      <th>agree_ratio</th>\n",
       "      <th>agreeance_text</th>\n",
       "    </tr>\n",
       "  </thead>\n",
       "  <tbody>\n",
       "    <tr>\n",
       "      <th>0</th>\n",
       "      <td>ABC News (Online)</td>\n",
       "      <td>https://www.allsides.com/news-source/abc-news-...</td>\n",
       "      <td>left-center</td>\n",
       "      <td>32991</td>\n",
       "      <td>16893</td>\n",
       "      <td>1.952939</td>\n",
       "      <td>agrees</td>\n",
       "    </tr>\n",
       "    <tr>\n",
       "      <th>1</th>\n",
       "      <td>AlterNet</td>\n",
       "      <td>https://www.allsides.com/news-source/alternet-...</td>\n",
       "      <td>left</td>\n",
       "      <td>12420</td>\n",
       "      <td>2538</td>\n",
       "      <td>4.893617</td>\n",
       "      <td>absolutely agrees</td>\n",
       "    </tr>\n",
       "    <tr>\n",
       "      <th>2</th>\n",
       "      <td>AP Politics &amp; Fact Check</td>\n",
       "      <td>https://www.allsides.com/news-source/ap-fact-c...</td>\n",
       "      <td>left-center</td>\n",
       "      <td>3699</td>\n",
       "      <td>4460</td>\n",
       "      <td>0.829372</td>\n",
       "      <td>somewhat disagrees</td>\n",
       "    </tr>\n",
       "    <tr>\n",
       "      <th>3</th>\n",
       "      <td>Associated Press</td>\n",
       "      <td>https://www.allsides.com/news-source/associate...</td>\n",
       "      <td>center</td>\n",
       "      <td>24780</td>\n",
       "      <td>18558</td>\n",
       "      <td>1.335273</td>\n",
       "      <td>somewhat agrees</td>\n",
       "    </tr>\n",
       "    <tr>\n",
       "      <th>4</th>\n",
       "      <td>Axios</td>\n",
       "      <td>https://www.allsides.com/news-source/axios</td>\n",
       "      <td>center</td>\n",
       "      <td>5094</td>\n",
       "      <td>5360</td>\n",
       "      <td>0.950373</td>\n",
       "      <td>somewhat disagrees</td>\n",
       "    </tr>\n",
       "    <tr>\n",
       "      <th>5</th>\n",
       "      <td>BBC News</td>\n",
       "      <td>https://www.allsides.com/news-source/bbc-news-...</td>\n",
       "      <td>center</td>\n",
       "      <td>27426</td>\n",
       "      <td>23447</td>\n",
       "      <td>1.169702</td>\n",
       "      <td>somewhat agrees</td>\n",
       "    </tr>\n",
       "    <tr>\n",
       "      <th>6</th>\n",
       "      <td>Bloomberg</td>\n",
       "      <td>https://www.allsides.com/news-source/bloomberg...</td>\n",
       "      <td>left-center</td>\n",
       "      <td>14822</td>\n",
       "      <td>20209</td>\n",
       "      <td>0.733436</td>\n",
       "      <td>somewhat disagrees</td>\n",
       "    </tr>\n",
       "    <tr>\n",
       "      <th>7</th>\n",
       "      <td>Breitbart News</td>\n",
       "      <td>https://www.allsides.com/news-source/breitbart</td>\n",
       "      <td>right</td>\n",
       "      <td>37090</td>\n",
       "      <td>10794</td>\n",
       "      <td>3.436168</td>\n",
       "      <td>absolutely agrees</td>\n",
       "    </tr>\n",
       "    <tr>\n",
       "      <th>8</th>\n",
       "      <td>BuzzFeed News</td>\n",
       "      <td>https://www.allsides.com/news-source/buzzfeed-...</td>\n",
       "      <td>left</td>\n",
       "      <td>22624</td>\n",
       "      <td>8893</td>\n",
       "      <td>2.544023</td>\n",
       "      <td>strongly agrees</td>\n",
       "    </tr>\n",
       "    <tr>\n",
       "      <th>9</th>\n",
       "      <td>CBS News (Online)</td>\n",
       "      <td>https://www.allsides.com/news-source/cbs-news-...</td>\n",
       "      <td>left-center</td>\n",
       "      <td>17782</td>\n",
       "      <td>11380</td>\n",
       "      <td>1.562566</td>\n",
       "      <td>agrees</td>\n",
       "    </tr>\n",
       "    <tr>\n",
       "      <th>10</th>\n",
       "      <td>Christian Science Monitor</td>\n",
       "      <td>https://www.allsides.com/news-source/christian...</td>\n",
       "      <td>center</td>\n",
       "      <td>14799</td>\n",
       "      <td>18436</td>\n",
       "      <td>0.802723</td>\n",
       "      <td>somewhat disagrees</td>\n",
       "    </tr>\n",
       "    <tr>\n",
       "      <th>11</th>\n",
       "      <td>CNN (Online News)</td>\n",
       "      <td>https://www.allsides.com/news-source/cnn-media...</td>\n",
       "      <td>left</td>\n",
       "      <td>47501</td>\n",
       "      <td>46532</td>\n",
       "      <td>1.020824</td>\n",
       "      <td>somewhat agrees</td>\n",
       "    </tr>\n",
       "    <tr>\n",
       "      <th>12</th>\n",
       "      <td>CNN (Opinion)</td>\n",
       "      <td>https://www.allsides.com/news-source/cnn-edito...</td>\n",
       "      <td>left</td>\n",
       "      <td>30539</td>\n",
       "      <td>6733</td>\n",
       "      <td>4.535720</td>\n",
       "      <td>absolutely agrees</td>\n",
       "    </tr>\n",
       "    <tr>\n",
       "      <th>13</th>\n",
       "      <td>Daily Beast</td>\n",
       "      <td>https://www.allsides.com/news-source/daily-bea...</td>\n",
       "      <td>left</td>\n",
       "      <td>17951</td>\n",
       "      <td>5806</td>\n",
       "      <td>3.091802</td>\n",
       "      <td>absolutely agrees</td>\n",
       "    </tr>\n",
       "    <tr>\n",
       "      <th>14</th>\n",
       "      <td>Daily Mail</td>\n",
       "      <td>https://www.allsides.com/news-source/daily-mail</td>\n",
       "      <td>right</td>\n",
       "      <td>10672</td>\n",
       "      <td>5875</td>\n",
       "      <td>1.816511</td>\n",
       "      <td>agrees</td>\n",
       "    </tr>\n",
       "    <tr>\n",
       "      <th>15</th>\n",
       "      <td>Democracy Now</td>\n",
       "      <td>https://www.allsides.com/news-source/democracy...</td>\n",
       "      <td>left</td>\n",
       "      <td>12383</td>\n",
       "      <td>2827</td>\n",
       "      <td>4.380262</td>\n",
       "      <td>absolutely agrees</td>\n",
       "    </tr>\n",
       "    <tr>\n",
       "      <th>16</th>\n",
       "      <td>Forbes</td>\n",
       "      <td>https://www.allsides.com/news-source/forbes</td>\n",
       "      <td>center</td>\n",
       "      <td>12590</td>\n",
       "      <td>7410</td>\n",
       "      <td>1.699055</td>\n",
       "      <td>agrees</td>\n",
       "    </tr>\n",
       "    <tr>\n",
       "      <th>17</th>\n",
       "      <td>Fox News (Online News)</td>\n",
       "      <td>https://www.allsides.com/news-source/fox-news-...</td>\n",
       "      <td>right-center</td>\n",
       "      <td>39042</td>\n",
       "      <td>45768</td>\n",
       "      <td>0.853041</td>\n",
       "      <td>somewhat disagrees</td>\n",
       "    </tr>\n",
       "    <tr>\n",
       "      <th>18</th>\n",
       "      <td>Fox News (Opinion)</td>\n",
       "      <td>https://www.allsides.com/news-source/fox-news-...</td>\n",
       "      <td>right</td>\n",
       "      <td>25332</td>\n",
       "      <td>5933</td>\n",
       "      <td>4.269678</td>\n",
       "      <td>absolutely agrees</td>\n",
       "    </tr>\n",
       "    <tr>\n",
       "      <th>19</th>\n",
       "      <td>HuffPost</td>\n",
       "      <td>https://www.allsides.com/news-source/huffpost-...</td>\n",
       "      <td>left</td>\n",
       "      <td>33964</td>\n",
       "      <td>21965</td>\n",
       "      <td>1.546278</td>\n",
       "      <td>agrees</td>\n",
       "    </tr>\n",
       "    <tr>\n",
       "      <th>20</th>\n",
       "      <td>Mother Jones</td>\n",
       "      <td>https://www.allsides.com/news-source/mother-jo...</td>\n",
       "      <td>left</td>\n",
       "      <td>14172</td>\n",
       "      <td>2055</td>\n",
       "      <td>6.896350</td>\n",
       "      <td>absolutely agrees</td>\n",
       "    </tr>\n",
       "    <tr>\n",
       "      <th>21</th>\n",
       "      <td>MSNBC</td>\n",
       "      <td>https://www.allsides.com/news-source/msnbc</td>\n",
       "      <td>left</td>\n",
       "      <td>19262</td>\n",
       "      <td>5056</td>\n",
       "      <td>3.809731</td>\n",
       "      <td>absolutely agrees</td>\n",
       "    </tr>\n",
       "    <tr>\n",
       "      <th>22</th>\n",
       "      <td>National Review</td>\n",
       "      <td>https://www.allsides.com/news-source/national-...</td>\n",
       "      <td>right</td>\n",
       "      <td>17735</td>\n",
       "      <td>7229</td>\n",
       "      <td>2.453313</td>\n",
       "      <td>strongly agrees</td>\n",
       "    </tr>\n",
       "    <tr>\n",
       "      <th>23</th>\n",
       "      <td>NBC News (Online)</td>\n",
       "      <td>https://www.allsides.com/news-source/nbc-news-...</td>\n",
       "      <td>left-center</td>\n",
       "      <td>11205</td>\n",
       "      <td>11182</td>\n",
       "      <td>1.002057</td>\n",
       "      <td>somewhat agrees</td>\n",
       "    </tr>\n",
       "    <tr>\n",
       "      <th>24</th>\n",
       "      <td>New York Post (News)</td>\n",
       "      <td>https://www.allsides.com/news-source/new-york-...</td>\n",
       "      <td>right-center</td>\n",
       "      <td>12849</td>\n",
       "      <td>7001</td>\n",
       "      <td>1.835309</td>\n",
       "      <td>agrees</td>\n",
       "    </tr>\n",
       "    <tr>\n",
       "      <th>25</th>\n",
       "      <td>New York Times (News)</td>\n",
       "      <td>https://www.allsides.com/news-source/new-york-...</td>\n",
       "      <td>left-center</td>\n",
       "      <td>27484</td>\n",
       "      <td>37206</td>\n",
       "      <td>0.738698</td>\n",
       "      <td>somewhat disagrees</td>\n",
       "    </tr>\n",
       "    <tr>\n",
       "      <th>26</th>\n",
       "      <td>New York Times (Opinion)</td>\n",
       "      <td>https://www.allsides.com/news-source/new-york-...</td>\n",
       "      <td>left</td>\n",
       "      <td>13033</td>\n",
       "      <td>3509</td>\n",
       "      <td>3.714164</td>\n",
       "      <td>absolutely agrees</td>\n",
       "    </tr>\n",
       "    <tr>\n",
       "      <th>27</th>\n",
       "      <td>NPR (Online News)</td>\n",
       "      <td>https://www.allsides.com/news-source/npr-media...</td>\n",
       "      <td>center</td>\n",
       "      <td>30371</td>\n",
       "      <td>27549</td>\n",
       "      <td>1.102436</td>\n",
       "      <td>somewhat agrees</td>\n",
       "    </tr>\n",
       "    <tr>\n",
       "      <th>28</th>\n",
       "      <td>NPR (Opinion)</td>\n",
       "      <td>https://www.allsides.com/news-source/npr-edito...</td>\n",
       "      <td>left-center</td>\n",
       "      <td>7581</td>\n",
       "      <td>8453</td>\n",
       "      <td>0.896841</td>\n",
       "      <td>somewhat disagrees</td>\n",
       "    </tr>\n",
       "    <tr>\n",
       "      <th>29</th>\n",
       "      <td>Politico</td>\n",
       "      <td>https://www.allsides.com/news-source/politico-...</td>\n",
       "      <td>left-center</td>\n",
       "      <td>22328</td>\n",
       "      <td>29222</td>\n",
       "      <td>0.764082</td>\n",
       "      <td>somewhat disagrees</td>\n",
       "    </tr>\n",
       "    <tr>\n",
       "      <th>30</th>\n",
       "      <td>Reason</td>\n",
       "      <td>https://www.allsides.com/news-source/reason</td>\n",
       "      <td>right-center</td>\n",
       "      <td>8841</td>\n",
       "      <td>5391</td>\n",
       "      <td>1.639955</td>\n",
       "      <td>agrees</td>\n",
       "    </tr>\n",
       "    <tr>\n",
       "      <th>31</th>\n",
       "      <td>Reuters</td>\n",
       "      <td>https://www.allsides.com/news-source/reuters</td>\n",
       "      <td>center</td>\n",
       "      <td>16814</td>\n",
       "      <td>9105</td>\n",
       "      <td>1.846678</td>\n",
       "      <td>agrees</td>\n",
       "    </tr>\n",
       "    <tr>\n",
       "      <th>32</th>\n",
       "      <td>Slate</td>\n",
       "      <td>https://www.allsides.com/news-source/slate</td>\n",
       "      <td>left</td>\n",
       "      <td>8738</td>\n",
       "      <td>3313</td>\n",
       "      <td>2.637489</td>\n",
       "      <td>strongly agrees</td>\n",
       "    </tr>\n",
       "    <tr>\n",
       "      <th>33</th>\n",
       "      <td>The American Spectator</td>\n",
       "      <td>https://www.allsides.com/news-source/american-...</td>\n",
       "      <td>right</td>\n",
       "      <td>11492</td>\n",
       "      <td>3961</td>\n",
       "      <td>2.901288</td>\n",
       "      <td>strongly agrees</td>\n",
       "    </tr>\n",
       "    <tr>\n",
       "      <th>34</th>\n",
       "      <td>The Atlantic</td>\n",
       "      <td>https://www.allsides.com/news-source/atlantic</td>\n",
       "      <td>left-center</td>\n",
       "      <td>13604</td>\n",
       "      <td>7222</td>\n",
       "      <td>1.883689</td>\n",
       "      <td>agrees</td>\n",
       "    </tr>\n",
       "    <tr>\n",
       "      <th>35</th>\n",
       "      <td>The Daily Caller</td>\n",
       "      <td>https://www.allsides.com/news-source/daily-caller</td>\n",
       "      <td>right</td>\n",
       "      <td>9321</td>\n",
       "      <td>3738</td>\n",
       "      <td>2.493579</td>\n",
       "      <td>strongly agrees</td>\n",
       "    </tr>\n",
       "    <tr>\n",
       "      <th>36</th>\n",
       "      <td>The Daily Wire</td>\n",
       "      <td>https://www.allsides.com/news-source/daily-wire</td>\n",
       "      <td>right</td>\n",
       "      <td>9506</td>\n",
       "      <td>3427</td>\n",
       "      <td>2.773855</td>\n",
       "      <td>strongly agrees</td>\n",
       "    </tr>\n",
       "    <tr>\n",
       "      <th>37</th>\n",
       "      <td>The Economist</td>\n",
       "      <td>https://www.allsides.com/news-source/economist</td>\n",
       "      <td>left-center</td>\n",
       "      <td>5251</td>\n",
       "      <td>9251</td>\n",
       "      <td>0.567614</td>\n",
       "      <td>disagrees</td>\n",
       "    </tr>\n",
       "    <tr>\n",
       "      <th>38</th>\n",
       "      <td>The Epoch Times</td>\n",
       "      <td>https://www.allsides.com/news-source/epoch-tim...</td>\n",
       "      <td>right-center</td>\n",
       "      <td>10366</td>\n",
       "      <td>4604</td>\n",
       "      <td>2.251520</td>\n",
       "      <td>strongly agrees</td>\n",
       "    </tr>\n",
       "    <tr>\n",
       "      <th>39</th>\n",
       "      <td>The Federalist</td>\n",
       "      <td>https://www.allsides.com/news-source/federalist</td>\n",
       "      <td>right</td>\n",
       "      <td>8346</td>\n",
       "      <td>2543</td>\n",
       "      <td>3.281950</td>\n",
       "      <td>absolutely agrees</td>\n",
       "    </tr>\n",
       "    <tr>\n",
       "      <th>40</th>\n",
       "      <td>The Guardian</td>\n",
       "      <td>https://www.allsides.com/news-source/guardian</td>\n",
       "      <td>left-center</td>\n",
       "      <td>12603</td>\n",
       "      <td>7530</td>\n",
       "      <td>1.673705</td>\n",
       "      <td>agrees</td>\n",
       "    </tr>\n",
       "    <tr>\n",
       "      <th>41</th>\n",
       "      <td>The Hill</td>\n",
       "      <td>https://www.allsides.com/news-source/hill-medi...</td>\n",
       "      <td>center</td>\n",
       "      <td>14978</td>\n",
       "      <td>19723</td>\n",
       "      <td>0.759418</td>\n",
       "      <td>somewhat disagrees</td>\n",
       "    </tr>\n",
       "    <tr>\n",
       "      <th>42</th>\n",
       "      <td>The Intercept</td>\n",
       "      <td>https://www.allsides.com/news-source/intercept</td>\n",
       "      <td>left</td>\n",
       "      <td>4861</td>\n",
       "      <td>1381</td>\n",
       "      <td>3.519913</td>\n",
       "      <td>absolutely agrees</td>\n",
       "    </tr>\n",
       "    <tr>\n",
       "      <th>43</th>\n",
       "      <td>The New Yorker</td>\n",
       "      <td>https://www.allsides.com/news-source/new-yorker</td>\n",
       "      <td>left</td>\n",
       "      <td>8548</td>\n",
       "      <td>2040</td>\n",
       "      <td>4.190196</td>\n",
       "      <td>absolutely agrees</td>\n",
       "    </tr>\n",
       "    <tr>\n",
       "      <th>44</th>\n",
       "      <td>TheBlaze.com</td>\n",
       "      <td>https://www.allsides.com/news-source/theblaze-...</td>\n",
       "      <td>right</td>\n",
       "      <td>96717</td>\n",
       "      <td>78520</td>\n",
       "      <td>1.231750</td>\n",
       "      <td>somewhat agrees</td>\n",
       "    </tr>\n",
       "    <tr>\n",
       "      <th>45</th>\n",
       "      <td>Time Magazine</td>\n",
       "      <td>https://www.allsides.com/news-source/time-maga...</td>\n",
       "      <td>left-center</td>\n",
       "      <td>8730</td>\n",
       "      <td>7287</td>\n",
       "      <td>1.198024</td>\n",
       "      <td>somewhat agrees</td>\n",
       "    </tr>\n",
       "    <tr>\n",
       "      <th>46</th>\n",
       "      <td>USA TODAY</td>\n",
       "      <td>https://www.allsides.com/news-source/usa-today...</td>\n",
       "      <td>center</td>\n",
       "      <td>17474</td>\n",
       "      <td>19422</td>\n",
       "      <td>0.899701</td>\n",
       "      <td>somewhat disagrees</td>\n",
       "    </tr>\n",
       "    <tr>\n",
       "      <th>47</th>\n",
       "      <td>Vox</td>\n",
       "      <td>https://www.allsides.com/news-source/vox-news-...</td>\n",
       "      <td>left</td>\n",
       "      <td>27699</td>\n",
       "      <td>14693</td>\n",
       "      <td>1.885183</td>\n",
       "      <td>agrees</td>\n",
       "    </tr>\n",
       "    <tr>\n",
       "      <th>48</th>\n",
       "      <td>Wall Street Journal (News)</td>\n",
       "      <td>https://www.allsides.com/news-source/wall-stre...</td>\n",
       "      <td>center</td>\n",
       "      <td>20682</td>\n",
       "      <td>23941</td>\n",
       "      <td>0.863874</td>\n",
       "      <td>somewhat disagrees</td>\n",
       "    </tr>\n",
       "    <tr>\n",
       "      <th>49</th>\n",
       "      <td>Wall Street Journal (Opinion)</td>\n",
       "      <td>https://www.allsides.com/news-source/wall-stre...</td>\n",
       "      <td>right-center</td>\n",
       "      <td>10262</td>\n",
       "      <td>6905</td>\n",
       "      <td>1.486169</td>\n",
       "      <td>somewhat agrees</td>\n",
       "    </tr>\n",
       "    <tr>\n",
       "      <th>50</th>\n",
       "      <td>Washington Examiner</td>\n",
       "      <td>https://www.allsides.com/news-source/washingto...</td>\n",
       "      <td>right-center</td>\n",
       "      <td>11256</td>\n",
       "      <td>5137</td>\n",
       "      <td>2.191162</td>\n",
       "      <td>strongly agrees</td>\n",
       "    </tr>\n",
       "    <tr>\n",
       "      <th>51</th>\n",
       "      <td>Washington Post</td>\n",
       "      <td>https://www.allsides.com/news-source/washingto...</td>\n",
       "      <td>left-center</td>\n",
       "      <td>34525</td>\n",
       "      <td>23039</td>\n",
       "      <td>1.498546</td>\n",
       "      <td>somewhat agrees</td>\n",
       "    </tr>\n",
       "    <tr>\n",
       "      <th>52</th>\n",
       "      <td>Washington Times</td>\n",
       "      <td>https://www.allsides.com/news-source/washingto...</td>\n",
       "      <td>right-center</td>\n",
       "      <td>27175</td>\n",
       "      <td>12951</td>\n",
       "      <td>2.098294</td>\n",
       "      <td>strongly agrees</td>\n",
       "    </tr>\n",
       "  </tbody>\n",
       "</table>\n",
       "</div>"
      ],
      "text/plain": [
       "                             name  \\\n",
       "0               ABC News (Online)   \n",
       "1                        AlterNet   \n",
       "2        AP Politics & Fact Check   \n",
       "3                Associated Press   \n",
       "4                           Axios   \n",
       "5                        BBC News   \n",
       "6                       Bloomberg   \n",
       "7                  Breitbart News   \n",
       "8                   BuzzFeed News   \n",
       "9               CBS News (Online)   \n",
       "10      Christian Science Monitor   \n",
       "11              CNN (Online News)   \n",
       "12                  CNN (Opinion)   \n",
       "13                    Daily Beast   \n",
       "14                     Daily Mail   \n",
       "15                  Democracy Now   \n",
       "16                         Forbes   \n",
       "17         Fox News (Online News)   \n",
       "18             Fox News (Opinion)   \n",
       "19                       HuffPost   \n",
       "20                   Mother Jones   \n",
       "21                          MSNBC   \n",
       "22                National Review   \n",
       "23              NBC News (Online)   \n",
       "24           New York Post (News)   \n",
       "25          New York Times (News)   \n",
       "26       New York Times (Opinion)   \n",
       "27              NPR (Online News)   \n",
       "28                  NPR (Opinion)   \n",
       "29                       Politico   \n",
       "30                         Reason   \n",
       "31                        Reuters   \n",
       "32                          Slate   \n",
       "33         The American Spectator   \n",
       "34                   The Atlantic   \n",
       "35               The Daily Caller   \n",
       "36                 The Daily Wire   \n",
       "37                  The Economist   \n",
       "38                The Epoch Times   \n",
       "39                 The Federalist   \n",
       "40                   The Guardian   \n",
       "41                       The Hill   \n",
       "42                  The Intercept   \n",
       "43                 The New Yorker   \n",
       "44                   TheBlaze.com   \n",
       "45                  Time Magazine   \n",
       "46                      USA TODAY   \n",
       "47                            Vox   \n",
       "48     Wall Street Journal (News)   \n",
       "49  Wall Street Journal (Opinion)   \n",
       "50            Washington Examiner   \n",
       "51                Washington Post   \n",
       "52               Washington Times   \n",
       "\n",
       "                                        allsides_page          bias  agree  \\\n",
       "0   https://www.allsides.com/news-source/abc-news-...   left-center  32991   \n",
       "1   https://www.allsides.com/news-source/alternet-...          left  12420   \n",
       "2   https://www.allsides.com/news-source/ap-fact-c...   left-center   3699   \n",
       "3   https://www.allsides.com/news-source/associate...        center  24780   \n",
       "4          https://www.allsides.com/news-source/axios        center   5094   \n",
       "5   https://www.allsides.com/news-source/bbc-news-...        center  27426   \n",
       "6   https://www.allsides.com/news-source/bloomberg...   left-center  14822   \n",
       "7      https://www.allsides.com/news-source/breitbart         right  37090   \n",
       "8   https://www.allsides.com/news-source/buzzfeed-...          left  22624   \n",
       "9   https://www.allsides.com/news-source/cbs-news-...   left-center  17782   \n",
       "10  https://www.allsides.com/news-source/christian...        center  14799   \n",
       "11  https://www.allsides.com/news-source/cnn-media...          left  47501   \n",
       "12  https://www.allsides.com/news-source/cnn-edito...          left  30539   \n",
       "13  https://www.allsides.com/news-source/daily-bea...          left  17951   \n",
       "14    https://www.allsides.com/news-source/daily-mail         right  10672   \n",
       "15  https://www.allsides.com/news-source/democracy...          left  12383   \n",
       "16        https://www.allsides.com/news-source/forbes        center  12590   \n",
       "17  https://www.allsides.com/news-source/fox-news-...  right-center  39042   \n",
       "18  https://www.allsides.com/news-source/fox-news-...         right  25332   \n",
       "19  https://www.allsides.com/news-source/huffpost-...          left  33964   \n",
       "20  https://www.allsides.com/news-source/mother-jo...          left  14172   \n",
       "21         https://www.allsides.com/news-source/msnbc          left  19262   \n",
       "22  https://www.allsides.com/news-source/national-...         right  17735   \n",
       "23  https://www.allsides.com/news-source/nbc-news-...   left-center  11205   \n",
       "24  https://www.allsides.com/news-source/new-york-...  right-center  12849   \n",
       "25  https://www.allsides.com/news-source/new-york-...   left-center  27484   \n",
       "26  https://www.allsides.com/news-source/new-york-...          left  13033   \n",
       "27  https://www.allsides.com/news-source/npr-media...        center  30371   \n",
       "28  https://www.allsides.com/news-source/npr-edito...   left-center   7581   \n",
       "29  https://www.allsides.com/news-source/politico-...   left-center  22328   \n",
       "30        https://www.allsides.com/news-source/reason  right-center   8841   \n",
       "31       https://www.allsides.com/news-source/reuters        center  16814   \n",
       "32         https://www.allsides.com/news-source/slate          left   8738   \n",
       "33  https://www.allsides.com/news-source/american-...         right  11492   \n",
       "34      https://www.allsides.com/news-source/atlantic   left-center  13604   \n",
       "35  https://www.allsides.com/news-source/daily-caller         right   9321   \n",
       "36    https://www.allsides.com/news-source/daily-wire         right   9506   \n",
       "37     https://www.allsides.com/news-source/economist   left-center   5251   \n",
       "38  https://www.allsides.com/news-source/epoch-tim...  right-center  10366   \n",
       "39    https://www.allsides.com/news-source/federalist         right   8346   \n",
       "40      https://www.allsides.com/news-source/guardian   left-center  12603   \n",
       "41  https://www.allsides.com/news-source/hill-medi...        center  14978   \n",
       "42     https://www.allsides.com/news-source/intercept          left   4861   \n",
       "43    https://www.allsides.com/news-source/new-yorker          left   8548   \n",
       "44  https://www.allsides.com/news-source/theblaze-...         right  96717   \n",
       "45  https://www.allsides.com/news-source/time-maga...   left-center   8730   \n",
       "46  https://www.allsides.com/news-source/usa-today...        center  17474   \n",
       "47  https://www.allsides.com/news-source/vox-news-...          left  27699   \n",
       "48  https://www.allsides.com/news-source/wall-stre...        center  20682   \n",
       "49  https://www.allsides.com/news-source/wall-stre...  right-center  10262   \n",
       "50  https://www.allsides.com/news-source/washingto...  right-center  11256   \n",
       "51  https://www.allsides.com/news-source/washingto...   left-center  34525   \n",
       "52  https://www.allsides.com/news-source/washingto...  right-center  27175   \n",
       "\n",
       "    disagree  agree_ratio      agreeance_text  \n",
       "0      16893     1.952939              agrees  \n",
       "1       2538     4.893617   absolutely agrees  \n",
       "2       4460     0.829372  somewhat disagrees  \n",
       "3      18558     1.335273     somewhat agrees  \n",
       "4       5360     0.950373  somewhat disagrees  \n",
       "5      23447     1.169702     somewhat agrees  \n",
       "6      20209     0.733436  somewhat disagrees  \n",
       "7      10794     3.436168   absolutely agrees  \n",
       "8       8893     2.544023     strongly agrees  \n",
       "9      11380     1.562566              agrees  \n",
       "10     18436     0.802723  somewhat disagrees  \n",
       "11     46532     1.020824     somewhat agrees  \n",
       "12      6733     4.535720   absolutely agrees  \n",
       "13      5806     3.091802   absolutely agrees  \n",
       "14      5875     1.816511              agrees  \n",
       "15      2827     4.380262   absolutely agrees  \n",
       "16      7410     1.699055              agrees  \n",
       "17     45768     0.853041  somewhat disagrees  \n",
       "18      5933     4.269678   absolutely agrees  \n",
       "19     21965     1.546278              agrees  \n",
       "20      2055     6.896350   absolutely agrees  \n",
       "21      5056     3.809731   absolutely agrees  \n",
       "22      7229     2.453313     strongly agrees  \n",
       "23     11182     1.002057     somewhat agrees  \n",
       "24      7001     1.835309              agrees  \n",
       "25     37206     0.738698  somewhat disagrees  \n",
       "26      3509     3.714164   absolutely agrees  \n",
       "27     27549     1.102436     somewhat agrees  \n",
       "28      8453     0.896841  somewhat disagrees  \n",
       "29     29222     0.764082  somewhat disagrees  \n",
       "30      5391     1.639955              agrees  \n",
       "31      9105     1.846678              agrees  \n",
       "32      3313     2.637489     strongly agrees  \n",
       "33      3961     2.901288     strongly agrees  \n",
       "34      7222     1.883689              agrees  \n",
       "35      3738     2.493579     strongly agrees  \n",
       "36      3427     2.773855     strongly agrees  \n",
       "37      9251     0.567614           disagrees  \n",
       "38      4604     2.251520     strongly agrees  \n",
       "39      2543     3.281950   absolutely agrees  \n",
       "40      7530     1.673705              agrees  \n",
       "41     19723     0.759418  somewhat disagrees  \n",
       "42      1381     3.519913   absolutely agrees  \n",
       "43      2040     4.190196   absolutely agrees  \n",
       "44     78520     1.231750     somewhat agrees  \n",
       "45      7287     1.198024     somewhat agrees  \n",
       "46     19422     0.899701  somewhat disagrees  \n",
       "47     14693     1.885183              agrees  \n",
       "48     23941     0.863874  somewhat disagrees  \n",
       "49      6905     1.486169     somewhat agrees  \n",
       "50      5137     2.191162     strongly agrees  \n",
       "51     23039     1.498546     somewhat agrees  \n",
       "52     12951     2.098294     strongly agrees  "
      ]
     },
     "execution_count": 25,
     "metadata": {},
     "output_type": "execute_result"
    }
   ],
   "source": [
    "pd.DataFrame(data)"
   ]
  },
  {
   "cell_type": "code",
   "execution_count": 23,
   "metadata": {},
   "outputs": [],
   "source": [
    "# Getting the news provider detail page\n",
    "\n",
    "response = requests.get(data[0]['allsides_page'])"
   ]
  },
  {
   "cell_type": "code",
   "execution_count": 24,
   "metadata": {},
   "outputs": [
    {
     "data": {
      "text/plain": [
       "'http://abcnews.go.com/'"
      ]
     },
     "execution_count": 24,
     "metadata": {},
     "output_type": "execute_result"
    }
   ],
   "source": [
    "# Getting the URL to home page of the news provider\n",
    "\n",
    "k_soup = BeautifulSoup(response.content, 'html.parser')\n",
    "web_url = k_soup.select_one('.dynamic-grid a')['href']\n",
    "web_url"
   ]
  },
  {
   "cell_type": "code",
   "execution_count": 27,
   "metadata": {
    "jupyter": {
     "outputs_hidden": true
    },
    "tags": []
   },
   "outputs": [
    {
     "data": {
      "application/vnd.jupyter.widget-view+json": {
       "model_id": "426e65e9f459487192a606b8a7e9ae36",
       "version_major": 2,
       "version_minor": 0
      },
      "text/plain": [
       "  0%|          | 0/53 [00:00<?, ?it/s]"
      ]
     },
     "metadata": {},
     "output_type": "display_data"
    }
   ],
   "source": [
    "# loop = 0\n",
    "for d in tqdm(data):\n",
    "    r = requests.get(d['allsides_page'])\n",
    "    soup = BeautifulSoup(r.content, 'html.parser')\n",
    "    \n",
    "    try:\n",
    "        web_url = soup.select_one(\".dynamic-grid a\")['href']\n",
    "        d['website'] = web_url\n",
    "    except TypeError:\n",
    "        pass\n",
    "    \n",
    "#     print(f\"Loop: {loop}\")\n",
    "#     loop += 1\n",
    "    time.sleep(10)"
   ]
  },
  {
   "cell_type": "code",
   "execution_count": 95,
   "metadata": {},
   "outputs": [],
   "source": [
    "# saving our list of dictionaries in a JSON file.\n",
    "\n",
    "with open('allsides.json', 'w') as f:\n",
    "    json.dump(data, f)"
   ]
  },
  {
   "cell_type": "code",
   "execution_count": 96,
   "metadata": {
    "collapsed": true,
    "jupyter": {
     "outputs_hidden": true
    },
    "tags": []
   },
   "outputs": [
    {
     "name": "stdout",
     "output_type": "stream",
     "text": [
      "[{'name': 'ABC News (Online)', 'allsides_page': 'https://www.allsides.com/news-source/abc-news-media-bias', 'bias': 'left-center', 'agree': 32972, 'disagree': 16882, 'agree_ratio': 1.9530861272361095, 'agreeance_text': 'agrees', 'website': 'http://abcnews.go.com/'}, {'name': 'AlterNet', 'allsides_page': 'https://www.allsides.com/news-source/alternet-media-bias', 'bias': 'left', 'agree': 12412, 'disagree': 2537, 'agree_ratio': 4.892392589672842, 'agreeance_text': 'absolutely agrees', 'website': 'http://www.alternet.org/'}, {'name': 'AP Politics & Fact Check', 'allsides_page': 'https://www.allsides.com/news-source/ap-fact-check-media-bias', 'bias': 'left-center', 'agree': 3683, 'disagree': 4445, 'agree_ratio': 0.8285714285714286, 'agreeance_text': 'somewhat disagrees', 'website': 'https://apnews.com/APFactCheck'}, {'name': 'Associated Press', 'allsides_page': 'https://www.allsides.com/news-source/associated-press-media-bias', 'bias': 'center', 'agree': 24766, 'disagree': 18526, 'agree_ratio': 1.3368239231350534, 'agreeance_text': 'somewhat agrees', 'website': 'https://apnews.com/'}, {'name': 'Axios', 'allsides_page': 'https://www.allsides.com/news-source/axios', 'bias': 'center', 'agree': 5089, 'disagree': 5349, 'agree_ratio': 0.9513927836978875, 'agreeance_text': 'somewhat disagrees', 'website': 'https://www.axios.com/'}, {'name': 'BBC News', 'allsides_page': 'https://www.allsides.com/news-source/bbc-news-media-bias', 'bias': 'center', 'agree': 27413, 'disagree': 23426, 'agree_ratio': 1.170195509263212, 'agreeance_text': 'somewhat agrees', 'website': 'http://www.bbc.com/'}, {'name': 'Bloomberg', 'allsides_page': 'https://www.allsides.com/news-source/bloomberg-media-bias', 'bias': 'left-center', 'agree': 14804, 'disagree': 20200, 'agree_ratio': 0.7328712871287129, 'agreeance_text': 'somewhat disagrees', 'website': 'http://www.bloomberg.com/'}, {'name': 'Breitbart News', 'allsides_page': 'https://www.allsides.com/news-source/breitbart', 'bias': 'right', 'agree': 37067, 'disagree': 10790, 'agree_ratio': 3.43531047265987, 'agreeance_text': 'absolutely agrees', 'website': 'http://www.breitbart.com/'}, {'name': 'BuzzFeed News', 'allsides_page': 'https://www.allsides.com/news-source/buzzfeed-media-bias', 'bias': 'left', 'agree': 22603, 'disagree': 8891, 'agree_ratio': 2.542233719491621, 'agreeance_text': 'strongly agrees', 'website': 'http://buzzfeednews.com'}, {'name': 'CBS News (Online)', 'allsides_page': 'https://www.allsides.com/news-source/cbs-news-media-bias', 'bias': 'left-center', 'agree': 17770, 'disagree': 11371, 'agree_ratio': 1.562747339723859, 'agreeance_text': 'agrees', 'website': 'http://www.cbsnews.com/'}, {'name': 'Christian Science Monitor', 'allsides_page': 'https://www.allsides.com/news-source/christian-science-monitor', 'bias': 'center', 'agree': 14790, 'disagree': 18429, 'agree_ratio': 0.8025394758261436, 'agreeance_text': 'somewhat disagrees', 'website': 'http://www.csmonitor.com/'}, {'name': 'CNN (Online News)', 'allsides_page': 'https://www.allsides.com/news-source/cnn-media-bias', 'bias': 'left', 'agree': 47462, 'disagree': 46527, 'agree_ratio': 1.0200958583188255, 'agreeance_text': 'somewhat agrees', 'website': 'http://www.cnn.com'}, {'name': 'CNN (Opinion)', 'allsides_page': 'https://www.allsides.com/news-source/cnn-editorial', 'bias': 'left', 'agree': 30509, 'disagree': 6731, 'agree_ratio': 4.53261031050364, 'agreeance_text': 'absolutely agrees', 'website': 'https://www.cnn.com/opinions'}, {'name': 'Daily Beast', 'allsides_page': 'https://www.allsides.com/news-source/daily-beast-media-bias', 'bias': 'left', 'agree': 17934, 'disagree': 5806, 'agree_ratio': 3.088873579056149, 'agreeance_text': 'absolutely agrees', 'website': 'http://www.thedailybeast.com/'}, {'name': 'Daily Mail', 'allsides_page': 'https://www.allsides.com/news-source/daily-mail', 'bias': 'right', 'agree': 10659, 'disagree': 5866, 'agree_ratio': 1.8170814865325604, 'agreeance_text': 'agrees', 'website': 'http://dailymail.co.uk'}, {'name': 'Democracy Now', 'allsides_page': 'https://www.allsides.com/news-source/democracy-now', 'bias': 'left', 'agree': 12371, 'disagree': 2827, 'agree_ratio': 4.37601697912982, 'agreeance_text': 'absolutely agrees', 'website': 'http://www.democracynow.org/'}, {'name': 'Forbes', 'allsides_page': 'https://www.allsides.com/news-source/forbes', 'bias': 'center', 'agree': 12578, 'disagree': 7401, 'agree_ratio': 1.699500067558438, 'agreeance_text': 'agrees', 'website': 'http://www.forbes.com/'}, {'name': 'Fox News (Online News)', 'allsides_page': 'https://www.allsides.com/news-source/fox-news-media-bias', 'bias': 'right-center', 'agree': 39023, 'disagree': 45748, 'agree_ratio': 0.8529990382093207, 'agreeance_text': 'somewhat disagrees', 'website': 'http://www.foxnews.com/'}, {'name': 'Fox News (Opinion)', 'allsides_page': 'https://www.allsides.com/news-source/fox-news-editorial-media-bias', 'bias': 'right', 'agree': 25309, 'disagree': 5922, 'agree_ratio': 4.273725092874029, 'agreeance_text': 'absolutely agrees', 'website': 'http://www.foxnews.com/opinion.html'}, {'name': 'HuffPost', 'allsides_page': 'https://www.allsides.com/news-source/huffpost-media-bias', 'bias': 'left', 'agree': 33942, 'disagree': 21964, 'agree_ratio': 1.5453469313421964, 'agreeance_text': 'agrees', 'website': 'https://www.huffpost.com/'}, {'name': 'Mother Jones', 'allsides_page': 'https://www.allsides.com/news-source/mother-jones-bias', 'bias': 'left', 'agree': 14155, 'disagree': 2055, 'agree_ratio': 6.888077858880779, 'agreeance_text': 'absolutely agrees', 'website': 'http://www.motherjones.com/'}, {'name': 'MSNBC', 'allsides_page': 'https://www.allsides.com/news-source/msnbc', 'bias': 'left', 'agree': 19237, 'disagree': 5056, 'agree_ratio': 3.804786392405063, 'agreeance_text': 'absolutely agrees', 'website': 'http://www.msnbc.com/'}, {'name': 'National Review', 'allsides_page': 'https://www.allsides.com/news-source/national-review', 'bias': 'right', 'agree': 17724, 'disagree': 7220, 'agree_ratio': 2.454847645429363, 'agreeance_text': 'strongly agrees', 'website': 'http://www.nationalreview.com/'}, {'name': 'NBC News (Online)', 'allsides_page': 'https://www.allsides.com/news-source/nbc-news-media-bias', 'bias': 'left-center', 'agree': 11196, 'disagree': 11169, 'agree_ratio': 1.0024174053182917, 'agreeance_text': 'somewhat agrees', 'website': 'http://www.nbcnews.com'}, {'name': 'New York Post (News)', 'allsides_page': 'https://www.allsides.com/news-source/new-york-post', 'bias': 'right-center', 'agree': 12838, 'disagree': 6994, 'agree_ratio': 1.835573348584501, 'agreeance_text': 'agrees', 'website': 'http://www.nypost.com/'}, {'name': 'New York Times (News)', 'allsides_page': 'https://www.allsides.com/news-source/new-york-times', 'bias': 'left-center', 'agree': 27470, 'disagree': 37186, 'agree_ratio': 0.7387188726940246, 'agreeance_text': 'somewhat disagrees', 'website': 'http://www.nytimes.com/'}, {'name': 'New York Times (Opinion)', 'allsides_page': 'https://www.allsides.com/news-source/new-york-times-opinion-media-bias', 'bias': 'left', 'agree': 13014, 'disagree': 3508, 'agree_ratio': 3.709806157354618, 'agreeance_text': 'absolutely agrees', 'website': 'https://www.nytimes.com/section/opinion'}, {'name': 'NPR (Online News)', 'allsides_page': 'https://www.allsides.com/news-source/npr-media-bias', 'bias': 'center', 'agree': 30357, 'disagree': 27515, 'agree_ratio': 1.1032891150281665, 'agreeance_text': 'somewhat agrees', 'website': 'http://www.npr.org/'}, {'name': 'NPR (Opinion)', 'allsides_page': 'https://www.allsides.com/news-source/npr-editorial', 'bias': 'left-center', 'agree': 7566, 'disagree': 8438, 'agree_ratio': 0.8966579758236549, 'agreeance_text': 'somewhat disagrees', 'website': 'https://www.npr.org/sections/opinion/'}, {'name': 'Politico', 'allsides_page': 'https://www.allsides.com/news-source/politico-media-bias', 'bias': 'left-center', 'agree': 22317, 'disagree': 29209, 'agree_ratio': 0.764045328494642, 'agreeance_text': 'somewhat disagrees', 'website': 'http://www.politico.com/'}, {'name': 'Reason', 'allsides_page': 'https://www.allsides.com/news-source/reason', 'bias': 'right-center', 'agree': 8835, 'disagree': 5387, 'agree_ratio': 1.6400594022647113, 'agreeance_text': 'agrees', 'website': 'http://reason.com/'}, {'name': 'Reuters', 'allsides_page': 'https://www.allsides.com/news-source/reuters', 'bias': 'center', 'agree': 16808, 'disagree': 9089, 'agree_ratio': 1.8492683463527342, 'agreeance_text': 'agrees', 'website': 'http://www.reuters.com/'}, {'name': 'Slate', 'allsides_page': 'https://www.allsides.com/news-source/slate', 'bias': 'left', 'agree': 8727, 'disagree': 3313, 'agree_ratio': 2.6341684274071837, 'agreeance_text': 'strongly agrees', 'website': 'https://slate.com/'}, {'name': 'The American Spectator', 'allsides_page': 'https://www.allsides.com/news-source/american-spectator', 'bias': 'right', 'agree': 11488, 'disagree': 3959, 'agree_ratio': 2.901742864359687, 'agreeance_text': 'strongly agrees', 'website': 'http://spectator.org/'}, {'name': 'The Atlantic', 'allsides_page': 'https://www.allsides.com/news-source/atlantic', 'bias': 'left-center', 'agree': 13597, 'disagree': 7214, 'agree_ratio': 1.8848073191017467, 'agreeance_text': 'agrees', 'website': 'http://www.theatlantic.com/'}, {'name': 'The Daily Caller', 'allsides_page': 'https://www.allsides.com/news-source/daily-caller', 'bias': 'right', 'agree': 9315, 'disagree': 3736, 'agree_ratio': 2.4933083511777303, 'agreeance_text': 'strongly agrees', 'website': 'http://dailycaller.com/'}, {'name': 'The Daily Wire', 'allsides_page': 'https://www.allsides.com/news-source/daily-wire', 'bias': 'right', 'agree': 9499, 'disagree': 3425, 'agree_ratio': 2.7734306569343063, 'agreeance_text': 'strongly agrees', 'website': 'http://www.dailywire.com/'}, {'name': 'The Economist', 'allsides_page': 'https://www.allsides.com/news-source/economist', 'bias': 'left-center', 'agree': 5243, 'disagree': 9247, 'agree_ratio': 0.566994700984103, 'agreeance_text': 'disagrees', 'website': 'http://www.economist.com/'}, {'name': 'The Epoch Times', 'allsides_page': 'https://www.allsides.com/news-source/epoch-times-media-bias', 'bias': 'right-center', 'agree': 10354, 'disagree': 4584, 'agree_ratio': 2.2587260034904015, 'agreeance_text': 'strongly agrees', 'website': 'https://www.theepochtimes.com'}, {'name': 'The Federalist', 'allsides_page': 'https://www.allsides.com/news-source/federalist', 'bias': 'right', 'agree': 8338, 'disagree': 2538, 'agree_ratio': 3.285263987391647, 'agreeance_text': 'absolutely agrees', 'website': 'http://thefederalist.com/'}, {'name': 'The Guardian', 'allsides_page': 'https://www.allsides.com/news-source/guardian', 'bias': 'left-center', 'agree': 12593, 'disagree': 7522, 'agree_ratio': 1.6741558096250997, 'agreeance_text': 'agrees', 'website': 'https://www.theguardian.com/us'}, {'name': 'The Hill', 'allsides_page': 'https://www.allsides.com/news-source/hill-media-bias', 'bias': 'center', 'agree': 14973, 'disagree': 19702, 'agree_ratio': 0.7599736067404325, 'agreeance_text': 'somewhat disagrees', 'website': 'https://www.thehill.com'}, {'name': 'The Intercept', 'allsides_page': 'https://www.allsides.com/news-source/intercept', 'bias': 'left', 'agree': 4852, 'disagree': 1380, 'agree_ratio': 3.5159420289855072, 'agreeance_text': 'absolutely agrees', 'website': 'https://theintercept.com'}, {'name': 'The New Yorker', 'allsides_page': 'https://www.allsides.com/news-source/new-yorker', 'bias': 'left', 'agree': 8535, 'disagree': 2038, 'agree_ratio': 4.18792934249264, 'agreeance_text': 'absolutely agrees', 'website': 'https://www.newyorker.com/'}, {'name': 'TheBlaze.com', 'allsides_page': 'https://www.allsides.com/news-source/theblaze-bias', 'bias': 'right', 'agree': 96693, 'disagree': 78497, 'agree_ratio': 1.2318050371351772, 'agreeance_text': 'somewhat agrees', 'website': 'http://www.theblaze.com/'}, {'name': 'Time Magazine', 'allsides_page': 'https://www.allsides.com/news-source/time-magazine-news-media-bias', 'bias': 'left-center', 'agree': 8726, 'disagree': 7276, 'agree_ratio': 1.1992853216052777, 'agreeance_text': 'somewhat agrees', 'website': 'http://www.time.com/time/'}, {'name': 'USA TODAY', 'allsides_page': 'https://www.allsides.com/news-source/usa-today-media-bias', 'bias': 'center', 'agree': 17471, 'disagree': 19405, 'agree_ratio': 0.9003349652151508, 'agreeance_text': 'somewhat disagrees', 'website': 'http://www.usatoday.com/'}, {'name': 'Vox', 'allsides_page': 'https://www.allsides.com/news-source/vox-news-media-bias', 'bias': 'left', 'agree': 27675, 'disagree': 14692, 'agree_ratio': 1.8836781922134496, 'agreeance_text': 'agrees', 'website': 'http://www.vox.com'}, {'name': 'Wall Street Journal (News)', 'allsides_page': 'https://www.allsides.com/news-source/wall-street-journal-media-bias', 'bias': 'center', 'agree': 20673, 'disagree': 23930, 'agree_ratio': 0.863894692854158, 'agreeance_text': 'somewhat disagrees', 'website': 'http://online.wsj.com/'}, {'name': 'Wall Street Journal (Opinion)', 'allsides_page': 'https://www.allsides.com/news-source/wall-street-journal-opinion', 'bias': 'right-center', 'agree': 10256, 'disagree': 6899, 'agree_ratio': 1.4865922597477896, 'agreeance_text': 'somewhat agrees', 'website': 'http://online.wsj.com/public/page/news-opinion-commentary.html'}, {'name': 'Washington Examiner', 'allsides_page': 'https://www.allsides.com/news-source/washington-examiner', 'bias': 'right-center', 'agree': 11243, 'disagree': 5133, 'agree_ratio': 2.1903370348723943, 'agreeance_text': 'strongly agrees', 'website': 'http://washingtonexaminer.com/'}, {'name': 'Washington Post', 'allsides_page': 'https://www.allsides.com/news-source/washington-post-media-bias', 'bias': 'left-center', 'agree': 34512, 'disagree': 23022, 'agree_ratio': 1.4990878290330987, 'agreeance_text': 'somewhat agrees', 'website': 'https://www.washingtonpost.com/'}, {'name': 'Washington Times', 'allsides_page': 'https://www.allsides.com/news-source/washington-times-bias', 'bias': 'right-center', 'agree': 27168, 'disagree': 12945, 'agree_ratio': 2.098725376593279, 'agreeance_text': 'strongly agrees', 'website': 'http://www.washingtontimes.com/'}]\n"
     ]
    }
   ],
   "source": [
    "# Reading from the saved JSON file above.\n",
    "\n",
    "with open('allsides.json', 'r') as f:\n",
    "    k = json.load(f)\n",
    "\n",
    "print(k)"
   ]
  },
  {
   "cell_type": "markdown",
   "metadata": {},
   "source": [
    "# # Data Analysis\n",
    "\n",
    "### # Extracting news organizations on which the community agrees on absolutly"
   ]
  },
  {
   "cell_type": "code",
   "execution_count": 32,
   "metadata": {},
   "outputs": [
    {
     "name": "stdout",
     "output_type": "stream",
     "text": [
      "Outlet                       Bias                \n",
      "--------------------------------------\n",
      "AlterNet                     left                \n",
      "Breitbart News               right               \n",
      "CNN (Opinion)                left                \n",
      "Daily Beast                  left                \n",
      "Democracy Now                left                \n",
      "Fox News (Opinion)           right               \n",
      "Mother Jones                 left                \n",
      "MSNBC                        left                \n",
      "New York Times (Opinion)     left                \n",
      "The Federalist               right               \n",
      "The Intercept                left                \n",
      "The New Yorker               left                \n"
     ]
    }
   ],
   "source": [
    "abs_agree = list(d for d in data if d['agreeance_text'] == 'absolutely agrees')\n",
    "\n",
    "print(f\"{'Outlet':<28} {'Bias':<20}\")\n",
    "print(\"-\" * 38)\n",
    "\n",
    "for d in abs_agree:\n",
    "    print(f\"{d['name']:<28} {d['bias']:<20}\")"
   ]
  },
  {
   "cell_type": "code",
   "execution_count": 33,
   "metadata": {},
   "outputs": [],
   "source": [
    "# Creating a dataframe of of our data"
   ]
  },
  {
   "cell_type": "code",
   "execution_count": 34,
   "metadata": {},
   "outputs": [
    {
     "data": {
      "text/html": [
       "<div>\n",
       "<style scoped>\n",
       "    .dataframe tbody tr th:only-of-type {\n",
       "        vertical-align: middle;\n",
       "    }\n",
       "\n",
       "    .dataframe tbody tr th {\n",
       "        vertical-align: top;\n",
       "    }\n",
       "\n",
       "    .dataframe thead th {\n",
       "        text-align: right;\n",
       "    }\n",
       "</style>\n",
       "<table border=\"1\" class=\"dataframe\">\n",
       "  <thead>\n",
       "    <tr style=\"text-align: right;\">\n",
       "      <th></th>\n",
       "      <th>name</th>\n",
       "      <th>allsides_page</th>\n",
       "      <th>bias</th>\n",
       "      <th>agree</th>\n",
       "      <th>disagree</th>\n",
       "      <th>agree_ratio</th>\n",
       "      <th>agreeance_text</th>\n",
       "      <th>website</th>\n",
       "    </tr>\n",
       "  </thead>\n",
       "  <tbody>\n",
       "    <tr>\n",
       "      <th>0</th>\n",
       "      <td>ABC News (Online)</td>\n",
       "      <td>https://www.allsides.com/news-source/abc-news-...</td>\n",
       "      <td>left-center</td>\n",
       "      <td>32991</td>\n",
       "      <td>16893</td>\n",
       "      <td>1.952939</td>\n",
       "      <td>agrees</td>\n",
       "      <td>http://abcnews.go.com/</td>\n",
       "    </tr>\n",
       "    <tr>\n",
       "      <th>1</th>\n",
       "      <td>AlterNet</td>\n",
       "      <td>https://www.allsides.com/news-source/alternet-...</td>\n",
       "      <td>left</td>\n",
       "      <td>12420</td>\n",
       "      <td>2538</td>\n",
       "      <td>4.893617</td>\n",
       "      <td>absolutely agrees</td>\n",
       "      <td>http://www.alternet.org/</td>\n",
       "    </tr>\n",
       "    <tr>\n",
       "      <th>2</th>\n",
       "      <td>AP Politics &amp; Fact Check</td>\n",
       "      <td>https://www.allsides.com/news-source/ap-fact-c...</td>\n",
       "      <td>left-center</td>\n",
       "      <td>3699</td>\n",
       "      <td>4460</td>\n",
       "      <td>0.829372</td>\n",
       "      <td>somewhat disagrees</td>\n",
       "      <td>https://apnews.com/APFactCheck</td>\n",
       "    </tr>\n",
       "    <tr>\n",
       "      <th>3</th>\n",
       "      <td>Associated Press</td>\n",
       "      <td>https://www.allsides.com/news-source/associate...</td>\n",
       "      <td>center</td>\n",
       "      <td>24780</td>\n",
       "      <td>18558</td>\n",
       "      <td>1.335273</td>\n",
       "      <td>somewhat agrees</td>\n",
       "      <td>https://apnews.com/</td>\n",
       "    </tr>\n",
       "    <tr>\n",
       "      <th>4</th>\n",
       "      <td>Axios</td>\n",
       "      <td>https://www.allsides.com/news-source/axios</td>\n",
       "      <td>center</td>\n",
       "      <td>5094</td>\n",
       "      <td>5360</td>\n",
       "      <td>0.950373</td>\n",
       "      <td>somewhat disagrees</td>\n",
       "      <td>https://www.axios.com/</td>\n",
       "    </tr>\n",
       "  </tbody>\n",
       "</table>\n",
       "</div>"
      ],
      "text/plain": [
       "                       name  \\\n",
       "0         ABC News (Online)   \n",
       "1                  AlterNet   \n",
       "2  AP Politics & Fact Check   \n",
       "3          Associated Press   \n",
       "4                     Axios   \n",
       "\n",
       "                                       allsides_page         bias  agree  \\\n",
       "0  https://www.allsides.com/news-source/abc-news-...  left-center  32991   \n",
       "1  https://www.allsides.com/news-source/alternet-...         left  12420   \n",
       "2  https://www.allsides.com/news-source/ap-fact-c...  left-center   3699   \n",
       "3  https://www.allsides.com/news-source/associate...       center  24780   \n",
       "4         https://www.allsides.com/news-source/axios       center   5094   \n",
       "\n",
       "   disagree  agree_ratio      agreeance_text                         website  \n",
       "0     16893     1.952939              agrees          http://abcnews.go.com/  \n",
       "1      2538     4.893617   absolutely agrees        http://www.alternet.org/  \n",
       "2      4460     0.829372  somewhat disagrees  https://apnews.com/APFactCheck  \n",
       "3     18558     1.335273     somewhat agrees             https://apnews.com/  \n",
       "4      5360     0.950373  somewhat disagrees          https://www.axios.com/  "
      ]
     },
     "execution_count": 34,
     "metadata": {},
     "output_type": "execute_result"
    }
   ],
   "source": [
    "df = pd.DataFrame(data)\n",
    "df.head(5)"
   ]
  },
  {
   "cell_type": "code",
   "execution_count": 40,
   "metadata": {},
   "outputs": [
    {
     "data": {
      "text/html": [
       "<div>\n",
       "<style scoped>\n",
       "    .dataframe tbody tr th:only-of-type {\n",
       "        vertical-align: middle;\n",
       "    }\n",
       "\n",
       "    .dataframe tbody tr th {\n",
       "        vertical-align: top;\n",
       "    }\n",
       "\n",
       "    .dataframe thead th {\n",
       "        text-align: right;\n",
       "    }\n",
       "</style>\n",
       "<table border=\"1\" class=\"dataframe\">\n",
       "  <thead>\n",
       "    <tr style=\"text-align: right;\">\n",
       "      <th></th>\n",
       "      <th>name</th>\n",
       "      <th>allsides_page</th>\n",
       "      <th>bias</th>\n",
       "      <th>agree</th>\n",
       "      <th>disagree</th>\n",
       "      <th>agree_ratio</th>\n",
       "      <th>agreeance_text</th>\n",
       "      <th>website</th>\n",
       "    </tr>\n",
       "  </thead>\n",
       "  <tbody>\n",
       "    <tr>\n",
       "      <th>37</th>\n",
       "      <td>The Economist</td>\n",
       "      <td>https://www.allsides.com/news-source/economist</td>\n",
       "      <td>left-center</td>\n",
       "      <td>5251</td>\n",
       "      <td>9251</td>\n",
       "      <td>0.567614</td>\n",
       "      <td>disagrees</td>\n",
       "      <td>http://www.economist.com/</td>\n",
       "    </tr>\n",
       "  </tbody>\n",
       "</table>\n",
       "</div>"
      ],
      "text/plain": [
       "             name                                   allsides_page  \\\n",
       "37  The Economist  https://www.allsides.com/news-source/economist   \n",
       "\n",
       "           bias  agree  disagree  agree_ratio agreeance_text  \\\n",
       "37  left-center   5251      9251     0.567614      disagrees   \n",
       "\n",
       "                      website  \n",
       "37  http://www.economist.com/  "
      ]
     },
     "execution_count": 40,
     "metadata": {},
     "output_type": "execute_result"
    }
   ],
   "source": [
    "df[df['agreeance_text'] == 'disagrees']"
   ]
  },
  {
   "cell_type": "code",
   "execution_count": null,
   "metadata": {},
   "outputs": [],
   "source": []
  }
 ],
 "metadata": {
  "kernelspec": {
   "name": "python37664bit2c9c6823d89c4cbc8aaa832172098654",
   "display_name": "Python 3.7.6 64-bit"
  },
  "language_info": {
   "codemirror_mode": {
    "name": "ipython",
    "version": 3
   },
   "file_extension": ".py",
   "mimetype": "text/x-python",
   "name": "python",
   "nbconvert_exporter": "python",
   "pygments_lexer": "ipython3",
   "version": "3.7.6"
  },
  "metadata": {
   "interpreter": {
    "hash": "0600588c3b5f4418cbe7b5ebc6825b479f3bc010269d8b60d75058cdd010adfe"
   }
  }
 },
 "nbformat": 4,
 "nbformat_minor": 4
}