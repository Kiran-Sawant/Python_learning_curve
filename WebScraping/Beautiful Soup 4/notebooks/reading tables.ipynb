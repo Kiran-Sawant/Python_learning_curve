{
 "cells": [
  {
   "cell_type": "code",
   "execution_count": 22,
   "metadata": {},
   "outputs": [],
   "source": [
    "import bs4 as bs\n",
    "import urllib.request as request\n",
    "import pandas as pd"
   ]
  },
  {
   "cell_type": "code",
   "execution_count": 2,
   "metadata": {},
   "outputs": [],
   "source": [
    "# Getting the HTML byte string.\n",
    "sauce = request.urlopen(\"https://pythonprogramming.net/parsememcparseface/\").read()\n",
    "# Creating a Soup object from the HTML.\n",
    "soup = bs.BeautifulSoup(sauce, 'lxml')"
   ]
  },
  {
   "cell_type": "code",
   "execution_count": 7,
   "metadata": {},
   "outputs": [],
   "source": [
    "# soup.find('table')\n",
    "table_soup = soup.find('table')"
   ]
  },
  {
   "cell_type": "code",
   "execution_count": 17,
   "metadata": {},
   "outputs": [],
   "source": [
    "# table_soup.find_all('tr')\n",
    "table_rows = table_soup.find_all('tr')"
   ]
  },
  {
   "cell_type": "code",
   "execution_count": 21,
   "metadata": {},
   "outputs": [
    {
     "data": {
      "text/plain": [
       "[['Python', '932914021', 'Definitely'],\n",
       " ['Pascal', '532', 'Unlikely'],\n",
       " ['Lisp', '1522', 'Uncertain'],\n",
       " ['D#', '12', 'Possibly'],\n",
       " ['Cobol', '3', 'No.'],\n",
       " ['Fortran', '52124', 'Yes.'],\n",
       " ['Haskell', '24', 'lol.']]"
      ]
     },
     "execution_count": 21,
     "metadata": {},
     "output_type": "execute_result"
    }
   ],
   "source": [
    "k = []\n",
    "for row in table_rows:\n",
    "    data = row.find_all('td')\n",
    "    k.append([x.text for x in data])\n",
    "k.pop(0)\n",
    "k"
   ]
  },
  {
   "cell_type": "markdown",
   "metadata": {},
   "source": [
    "## Extracting tables sing Pandas\n",
    "#### pandas.read_html('URL') returns a list of DataFrames of all the tables on the HTML web page"
   ]
  },
  {
   "cell_type": "code",
   "execution_count": 23,
   "metadata": {},
   "outputs": [
    {
     "data": {
      "text/plain": [
       "[  Program Name  Internet Points    Kittens?\n",
       " 0       Python        932914021  Definitely\n",
       " 1       Pascal              532    Unlikely\n",
       " 2         Lisp             1522   Uncertain\n",
       " 3           D#               12    Possibly\n",
       " 4        Cobol                3         No.\n",
       " 5      Fortran            52124        Yes.\n",
       " 6      Haskell               24        lol.]"
      ]
     },
     "execution_count": 23,
     "metadata": {},
     "output_type": "execute_result"
    }
   ],
   "source": [
    "pd.read_html(\"https://pythonprogramming.net/parsememcparseface/\")"
   ]
  },
  {
   "cell_type": "code",
   "execution_count": 24,
   "metadata": {},
   "outputs": [
    {
     "data": {
      "text/html": [
       "<div>\n",
       "<style scoped>\n",
       "    .dataframe tbody tr th:only-of-type {\n",
       "        vertical-align: middle;\n",
       "    }\n",
       "\n",
       "    .dataframe tbody tr th {\n",
       "        vertical-align: top;\n",
       "    }\n",
       "\n",
       "    .dataframe thead th {\n",
       "        text-align: right;\n",
       "    }\n",
       "</style>\n",
       "<table border=\"1\" class=\"dataframe\">\n",
       "  <thead>\n",
       "    <tr style=\"text-align: right;\">\n",
       "      <th></th>\n",
       "      <th>Program Name</th>\n",
       "      <th>Internet Points</th>\n",
       "      <th>Kittens?</th>\n",
       "    </tr>\n",
       "  </thead>\n",
       "  <tbody>\n",
       "    <tr>\n",
       "      <th>0</th>\n",
       "      <td>Python</td>\n",
       "      <td>932914021</td>\n",
       "      <td>Definitely</td>\n",
       "    </tr>\n",
       "    <tr>\n",
       "      <th>1</th>\n",
       "      <td>Pascal</td>\n",
       "      <td>532</td>\n",
       "      <td>Unlikely</td>\n",
       "    </tr>\n",
       "    <tr>\n",
       "      <th>2</th>\n",
       "      <td>Lisp</td>\n",
       "      <td>1522</td>\n",
       "      <td>Uncertain</td>\n",
       "    </tr>\n",
       "    <tr>\n",
       "      <th>3</th>\n",
       "      <td>D#</td>\n",
       "      <td>12</td>\n",
       "      <td>Possibly</td>\n",
       "    </tr>\n",
       "    <tr>\n",
       "      <th>4</th>\n",
       "      <td>Cobol</td>\n",
       "      <td>3</td>\n",
       "      <td>No.</td>\n",
       "    </tr>\n",
       "    <tr>\n",
       "      <th>5</th>\n",
       "      <td>Fortran</td>\n",
       "      <td>52124</td>\n",
       "      <td>Yes.</td>\n",
       "    </tr>\n",
       "    <tr>\n",
       "      <th>6</th>\n",
       "      <td>Haskell</td>\n",
       "      <td>24</td>\n",
       "      <td>lol.</td>\n",
       "    </tr>\n",
       "  </tbody>\n",
       "</table>\n",
       "</div>"
      ],
      "text/plain": [
       "  Program Name  Internet Points    Kittens?\n",
       "0       Python        932914021  Definitely\n",
       "1       Pascal              532    Unlikely\n",
       "2         Lisp             1522   Uncertain\n",
       "3           D#               12    Possibly\n",
       "4        Cobol                3         No.\n",
       "5      Fortran            52124        Yes.\n",
       "6      Haskell               24        lol."
      ]
     },
     "execution_count": 24,
     "metadata": {},
     "output_type": "execute_result"
    }
   ],
   "source": [
    "pd.read_html(\"https://pythonprogramming.net/parsememcparseface/\")[0]"
   ]
  },
  {
   "cell_type": "code",
   "execution_count": null,
   "metadata": {},
   "outputs": [],
   "source": []
  }
 ],
 "metadata": {
  "kernelspec": {
   "display_name": "Python 3",
   "language": "python",
   "name": "python3"
  },
  "language_info": {
   "codemirror_mode": {
    "name": "ipython",
    "version": 3
   },
   "file_extension": ".py",
   "mimetype": "text/x-python",
   "name": "python",
   "nbconvert_exporter": "python",
   "pygments_lexer": "ipython3",
   "version": "3.7.6"
  }
 },
 "nbformat": 4,
 "nbformat_minor": 2
}
