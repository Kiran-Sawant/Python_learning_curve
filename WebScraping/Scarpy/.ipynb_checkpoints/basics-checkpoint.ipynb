{
 "cells": [
  {
   "cell_type": "markdown",
   "metadata": {},
   "source": [
    "# Hello"
   ]
  },
  {
   "cell_type": "code",
   "execution_count": 1,
   "metadata": {},
   "outputs": [
    {
     "name": "stdout",
     "output_type": "stream",
     "text": [
      "Package             Version\n",
      "------------------- -------\n",
      "attrs               21.2.0\n",
      "Automat             20.2.0\n",
      "backcall            0.2.0\n",
      "cffi                1.14.5\n",
      "colorama            0.4.4\n",
      "constantly          15.1.0\n",
      "cryptography        3.4.7\n",
      "cssselect           1.1.0\n",
      "decorator           5.0.9\n",
      "h2                  3.2.0\n",
      "hpack               3.0.0\n",
      "hyperframe          5.2.0\n",
      "hyperlink           21.0.0\n",
      "idna                3.1\n",
      "incremental         21.3.0\n",
      "ipykernel           5.5.5\n",
      "ipython             7.23.1\n",
      "ipython-genutils    0.2.0\n",
      "itemadapter         0.2.0\n",
      "itemloaders         1.0.4\n",
      "jedi                0.18.0\n",
      "jmespath            0.10.0\n",
      "jupyter-client      6.1.12\n",
      "jupyter-core        4.7.1\n",
      "lxml                4.6.3\n",
      "matplotlib-inline   0.1.2\n",
      "parsel              1.6.0\n",
      "parso               0.8.2\n",
      "pickleshare         0.7.5\n",
      "pip                 21.1.1\n",
      "priority            1.3.0\n",
      "prompt-toolkit      3.0.18\n",
      "Protego             0.1.16\n",
      "pyasn1              0.4.8\n",
      "pyasn1-modules      0.2.8\n",
      "pycparser           2.20\n",
      "PyDispatcher        2.0.5\n",
      "Pygments            2.9.0\n",
      "pyOpenSSL           20.0.1\n",
      "python-dateutil     2.8.1\n",
      "pywin32             300\n",
      "pyzmq               22.0.3\n",
      "queuelib            1.6.1\n",
      "Scrapy              2.5.0\n",
      "service-identity    21.1.0\n",
      "setuptools          41.2.0\n",
      "six                 1.16.0\n",
      "tornado             6.1\n",
      "traitlets           5.0.5\n",
      "Twisted             21.2.0\n",
      "twisted-iocpsupport 1.0.1\n",
      "w3lib               1.22.0\n",
      "wcwidth             0.2.5\n",
      "zope.interface      5.4.0\n"
     ]
    }
   ],
   "source": [
    "!pip list"
   ]
  },
  {
   "cell_type": "code",
   "execution_count": null,
   "metadata": {},
   "outputs": [],
   "source": []
  }
 ],
 "metadata": {
  "kernelspec": {
   "display_name": "scrapingenv",
   "language": "python",
   "name": "scrapingenv"
  },
  "language_info": {
   "codemirror_mode": {
    "name": "ipython",
    "version": 3
   },
   "file_extension": ".py",
   "mimetype": "text/x-python",
   "name": "python",
   "nbconvert_exporter": "python",
   "pygments_lexer": "ipython3",
   "version": "3.7.6"
  }
 },
 "nbformat": 4,
 "nbformat_minor": 2
}
