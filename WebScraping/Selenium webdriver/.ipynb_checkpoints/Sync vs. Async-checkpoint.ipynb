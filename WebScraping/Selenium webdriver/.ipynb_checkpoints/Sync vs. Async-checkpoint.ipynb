{
 "cells": [
  {
   "cell_type": "markdown",
   "metadata": {},
   "source": [
    "# Sync vs Async\n",
    "\n",
    "consecutive vs concurrent"
   ]
  },
  {
   "cell_type": "code",
   "execution_count": 5,
   "metadata": {},
   "outputs": [],
   "source": [
    "import time\n",
    "import asyncio"
   ]
  },
  {
   "cell_type": "code",
   "execution_count": 3,
   "metadata": {},
   "outputs": [
    {
     "name": "stdout",
     "output_type": "stream",
     "text": [
      "0\t1s\n",
      "1\t3s\n",
      "2\t2s\n",
      "3\t4s\n",
      "Wall time: 10 s\n"
     ]
    }
   ],
   "source": [
    "%%time\n",
    "iteration_times = [1, 3, 2, 4]\n",
    "\n",
    "def sleeper(seconds, i=-1):\n",
    "    \n",
    "    if i != -1:\n",
    "        print(f\"{i}\\t{seconds}s\")\n",
    "    time.sleep(seconds)\n",
    "    \n",
    "def run():\n",
    "    for i, second in enumerate(iteration_times):\n",
    "        sleeper(second, i=i)\n",
    "        \n",
    "run()"
   ]
  },
  {
   "cell_type": "code",
   "execution_count": 7,
   "metadata": {},
   "outputs": [
    {
     "name": "stdout",
     "output_type": "stream",
     "text": [
      "0\t1\n",
      "1\t3\n",
      "2\t2\n",
      "3\t1\n"
     ]
    }
   ],
   "source": [
    "iteration_time = [1, 3, 2, 1]\n",
    "\n",
    "async def a_sleeper(seconds, i=-1):\n",
    "    if i != (-1):\n",
    "        print(f\"{i}\\t{seconds}\")\n",
    "    await asyncio.sleep(seconds)\n",
    "    \n",
    "async def a_run():\n",
    "    for i, second in enumerate(iteration_time):\n",
    "        asyncio.create_task(a_sleeper(second, i=i))\n",
    "        \n",
    "await a_run()"
   ]
  },
  {
   "cell_type": "markdown",
   "metadata": {},
   "source": [
    "# Blocking and Timeout\n",
    "\n",
    "The code below is an example of blocking code asyncio.sleep() is an async function, therefore  \n",
    "it is needed to be awaited. However, we are also making our sleeper function await on line 6, this  \n",
    "does not allow program to move beyond that point, therefore when we try to print hello world jupyter  \n",
    "notebook will not do that until after 12 seconds."
   ]
  },
  {
   "cell_type": "code",
   "execution_count": 12,
   "metadata": {},
   "outputs": [
    {
     "name": "stdout",
     "output_type": "stream",
     "text": [
      "1\t12\n"
     ]
    }
   ],
   "source": [
    "async def sleeper(seconds, i=-1):\n",
    "    if i != -1:\n",
    "        print(f\"{i}\\t{seconds}\")\n",
    "    await asyncio.sleep(seconds)\n",
    "    \n",
    "await sleeper(12, i=1)"
   ]
  },
  {
   "cell_type": "code",
   "execution_count": 13,
   "metadata": {},
   "outputs": [
    {
     "name": "stdout",
     "output_type": "stream",
     "text": [
      "hello world\n"
     ]
    }
   ],
   "source": [
    "print(\"hello world\")"
   ]
  },
  {
   "cell_type": "code",
   "execution_count": 23,
   "metadata": {},
   "outputs": [
    {
     "data": {
      "text/plain": [
       "<Task pending coro=<async-def-wrapper.<locals>.sleeper() running at <ipython-input-12-01b7cce9c16b>:4>>"
      ]
     },
     "execution_count": 23,
     "metadata": {},
     "output_type": "execute_result"
    },
    {
     "name": "stdout",
     "output_type": "stream",
     "text": [
      "1\t12\n"
     ]
    }
   ],
   "source": [
    "# getting jupyter notebooks eventloop.\n",
    "loop = asyncio.get_event_loop()\n",
    "\n",
    "loop.create_task(sleeper(12, 1))\n",
    "# loop.run_until_complete(sleeper(12))"
   ]
  },
  {
   "cell_type": "code",
   "execution_count": 24,
   "metadata": {},
   "outputs": [
    {
     "name": "stdout",
     "output_type": "stream",
     "text": [
      "hello world\n"
     ]
    }
   ],
   "source": [
    "print('hello world')"
   ]
  },
  {
   "cell_type": "code",
   "execution_count": 33,
   "metadata": {},
   "outputs": [],
   "source": [
    "# wait returns a set of done and pending futures, pending with respect to timeout\n",
    "# here, one sleeper takes 1 second and the other takes 12 and the time out is 2 sec\n",
    "# therefor the second task will get timedout and will be added to pending set.\n",
    "\n",
    "done, pending = await asyncio.wait([sleeper(1), sleeper(12)], timeout=2)"
   ]
  },
  {
   "cell_type": "code",
   "execution_count": 34,
   "metadata": {},
   "outputs": [
    {
     "data": {
      "text/plain": [
       "{<Task finished coro=<async-def-wrapper.<locals>.sleeper() done, defined at <ipython-input-12-01b7cce9c16b>:4> result=None>}"
      ]
     },
     "execution_count": 34,
     "metadata": {},
     "output_type": "execute_result"
    }
   ],
   "source": [
    "done"
   ]
  },
  {
   "cell_type": "code",
   "execution_count": 35,
   "metadata": {},
   "outputs": [
    {
     "data": {
      "text/plain": [
       "{<Task pending coro=<async-def-wrapper.<locals>.sleeper() running at <ipython-input-12-01b7cce9c16b>:7> wait_for=<Future pending cb=[<TaskWakeupMethWrapper object at 0x00000000089DACD8>()]>>}"
      ]
     },
     "execution_count": 35,
     "metadata": {},
     "output_type": "execute_result"
    }
   ],
   "source": [
    "pending"
   ]
  },
  {
   "cell_type": "code",
   "execution_count": 36,
   "metadata": {},
   "outputs": [
    {
     "data": {
      "text/plain": [
       "({<Task finished coro=<async-def-wrapper.<locals>.sleeper() done, defined at <ipython-input-12-01b7cce9c16b>:4> result=None>},\n",
       " set())"
      ]
     },
     "execution_count": 36,
     "metadata": {},
     "output_type": "execute_result"
    }
   ],
   "source": [
    "# running the pending futures\n",
    "\n",
    "await asyncio.wait(pending, timeout=12)"
   ]
  },
  {
   "cell_type": "code",
   "execution_count": 37,
   "metadata": {},
   "outputs": [
    {
     "ename": "TimeoutError",
     "evalue": "",
     "output_type": "error",
     "traceback": [
      "\u001b[1;31m---------------------------------------------------------------------------\u001b[0m",
      "\u001b[1;31mTimeoutError\u001b[0m                              Traceback (most recent call last)",
      "\u001b[1;32m<ipython-input-37-00b3f851cad3>\u001b[0m in \u001b[0;36masync-def-wrapper\u001b[1;34m()\u001b[0m\n",
      "\u001b[1;32mC:\\Program Files\\Python37\\lib\\asyncio\\tasks.py\u001b[0m in \u001b[0;36mwait_for\u001b[1;34m(fut, timeout, loop)\u001b[0m\n\u001b[0;32m    447\u001b[0m             \u001b[1;31m# See https://bugs.python.org/issue32751\u001b[0m\u001b[1;33m\u001b[0m\u001b[1;33m\u001b[0m\u001b[1;33m\u001b[0m\u001b[0m\n\u001b[0;32m    448\u001b[0m             \u001b[1;32mawait\u001b[0m \u001b[0m_cancel_and_wait\u001b[0m\u001b[1;33m(\u001b[0m\u001b[0mfut\u001b[0m\u001b[1;33m,\u001b[0m \u001b[0mloop\u001b[0m\u001b[1;33m=\u001b[0m\u001b[0mloop\u001b[0m\u001b[1;33m)\u001b[0m\u001b[1;33m\u001b[0m\u001b[1;33m\u001b[0m\u001b[0m\n\u001b[1;32m--> 449\u001b[1;33m             \u001b[1;32mraise\u001b[0m \u001b[0mfutures\u001b[0m\u001b[1;33m.\u001b[0m\u001b[0mTimeoutError\u001b[0m\u001b[1;33m(\u001b[0m\u001b[1;33m)\u001b[0m\u001b[1;33m\u001b[0m\u001b[1;33m\u001b[0m\u001b[0m\n\u001b[0m\u001b[0;32m    450\u001b[0m     \u001b[1;32mfinally\u001b[0m\u001b[1;33m:\u001b[0m\u001b[1;33m\u001b[0m\u001b[1;33m\u001b[0m\u001b[0m\n\u001b[0;32m    451\u001b[0m         \u001b[0mtimeout_handle\u001b[0m\u001b[1;33m.\u001b[0m\u001b[0mcancel\u001b[0m\u001b[1;33m(\u001b[0m\u001b[1;33m)\u001b[0m\u001b[1;33m\u001b[0m\u001b[1;33m\u001b[0m\u001b[0m\n",
      "\u001b[1;31mTimeoutError\u001b[0m: "
     ]
    }
   ],
   "source": [
    "# .wait_for() will through a TimeOut error if the future takes more time than the mentioned timeout.\n",
    "\n",
    "await asyncio.wait_for(sleeper(20), timeout=10)"
   ]
  },
  {
   "cell_type": "markdown",
   "metadata": {},
   "source": [
    "#### # .wait_for() can be useful for terminating tasks that have an uncertain time constraint and are taking too much time to finish."
   ]
  },
  {
   "cell_type": "code",
   "execution_count": 40,
   "metadata": {},
   "outputs": [
    {
     "name": "stdout",
     "output_type": "stream",
     "text": [
      "Task failed successfully\n"
     ]
    }
   ],
   "source": [
    "# putting .wait_for() in a try: except block \n",
    "\n",
    "try:\n",
    "    await asyncio.wait_for(sleeper(20), timeout=3)\n",
    "except asyncio.TimeoutError:\n",
    "    print(\"Task failed successfully\")"
   ]
  },
  {
   "cell_type": "code",
   "execution_count": null,
   "metadata": {},
   "outputs": [],
   "source": []
  }
 ],
 "metadata": {
  "kernelspec": {
   "display_name": "Python 3.7.6 64-bit",
   "language": "python",
   "name": "python37664bit2c9c6823d89c4cbc8aaa832172098654"
  },
  "language_info": {
   "codemirror_mode": {
    "name": "ipython",
    "version": 3
   },
   "file_extension": ".py",
   "mimetype": "text/x-python",
   "name": "python",
   "nbconvert_exporter": "python",
   "pygments_lexer": "ipython3",
   "version": "3.7.6"
  }
 },
 "nbformat": 4,
 "nbformat_minor": 4
}
