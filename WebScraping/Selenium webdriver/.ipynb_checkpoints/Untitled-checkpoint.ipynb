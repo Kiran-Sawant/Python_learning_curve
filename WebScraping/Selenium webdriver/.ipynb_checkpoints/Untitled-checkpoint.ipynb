{
 "cells": [
  {
   "cell_type": "code",
   "execution_count": 11,
   "metadata": {},
   "outputs": [],
   "source": [
    "from selenium import webdriver"
   ]
  },
  {
   "cell_type": "code",
   "execution_count": 12,
   "metadata": {},
   "outputs": [
    {
     "data": {
      "text/plain": [
       "<selenium.webdriver.chrome.webdriver.WebDriver (session=\"891a1b856c9dcd0de2a9550f0eb436cb\")>"
      ]
     },
     "execution_count": 12,
     "metadata": {},
     "output_type": "execute_result"
    }
   ],
   "source": [
    "# launching chrome\n",
    "\n",
    "webdriver.Chrome()"
   ]
  },
  {
   "cell_type": "code",
   "execution_count": 13,
   "metadata": {},
   "outputs": [],
   "source": [
    "browser = webdriver.Chrome()\n",
    "\n",
    "browser.get('https://www.google.com/')"
   ]
  },
  {
   "cell_type": "code",
   "execution_count": 8,
   "metadata": {},
   "outputs": [],
   "source": [
    "url = 'https://www.google.com/'\n",
    "browser.get(url)"
   ]
  },
  {
   "cell_type": "code",
   "execution_count": 9,
   "metadata": {},
   "outputs": [
    {
     "data": {
      "text/plain": [
       "'<input class=\"gLFyf gsfi\" jsaction=\"paste:puy29d;\" maxlength=\"2048\" \\nname=\"q\" type=\"text\" aria-autocomplete=\"both\" aria-haspopup=\"false\" \\nautocapitalize=\"none\" autocomplete=\"off\" autocorrect=\"off\" autofocus=\"\" \\nrole=\"combobox\" spellcheck=\"false\" title=\"Search\" value=\"\" aria-label=\"Search\" \\ndata-ved=\"0ahUKEwjbmdSWmcHwAhWAyzgGHYBVDI8Q39UDCAQ\">'"
      ]
     },
     "execution_count": 9,
     "metadata": {},
     "output_type": "execute_result"
    }
   ],
   "source": [
    "\"\"\"\n",
    "<input name='q' type='text'>\n",
    "\"\"\"\n",
    "\n",
    "\"\"\"<input class=\"gLFyf gsfi\" jsaction=\"paste:puy29d;\" maxlength=\"2048\" \n",
    "name=\"q\" type=\"text\" aria-autocomplete=\"both\" aria-haspopup=\"false\" \n",
    "autocapitalize=\"none\" autocomplete=\"off\" autocorrect=\"off\" autofocus=\"\" \n",
    "role=\"combobox\" spellcheck=\"false\" title=\"Search\" value=\"\" aria-label=\"Search\" \n",
    "data-ved=\"0ahUKEwjbmdSWmcHwAhWAyzgGHYBVDI8Q39UDCAQ\">\"\"\""
   ]
  },
  {
   "cell_type": "code",
   "execution_count": 19,
   "metadata": {},
   "outputs": [
    {
     "name": "stdout",
     "output_type": "stream",
     "text": [
      "<selenium.webdriver.remote.webelement.WebElement (session=\"465b24e7360f708b7117c3449b7dedb9\", element=\"43f5f78e-1629-4ee4-b72a-e2a1328b46ed\")>\n"
     ]
    }
   ],
   "source": [
    "name = 'q'\n",
    "\n",
    "# search_el = browser.find_element_by_css_selector()\n",
    "search_el = browser.find_element_by_name(name)\n",
    "\n",
    "print(search_el)"
   ]
  },
  {
   "cell_type": "code",
   "execution_count": 22,
   "metadata": {},
   "outputs": [],
   "source": [
    "search_el.send_keys(\"sex\")"
   ]
  },
  {
   "cell_type": "code",
   "execution_count": 21,
   "metadata": {},
   "outputs": [],
   "source": [
    "search_el.clear()"
   ]
  },
  {
   "cell_type": "code",
   "execution_count": 23,
   "metadata": {},
   "outputs": [],
   "source": [
    "search_el.submit()"
   ]
  },
  {
   "cell_type": "code",
   "execution_count": null,
   "metadata": {},
   "outputs": [],
   "source": []
  }
 ],
 "metadata": {
  "kernelspec": {
   "display_name": "Python 3.7.6 64-bit",
   "language": "python",
   "name": "python37664bit2c9c6823d89c4cbc8aaa832172098654"
  },
  "language_info": {
   "codemirror_mode": {
    "name": "ipython",
    "version": 3
   },
   "file_extension": ".py",
   "mimetype": "text/x-python",
   "name": "python",
   "nbconvert_exporter": "python",
   "pygments_lexer": "ipython3",
   "version": "3.7.6"
  }
 },
 "nbformat": 4,
 "nbformat_minor": 4
}
