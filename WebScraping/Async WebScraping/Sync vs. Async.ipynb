{
 "cells": [
  {
   "cell_type": "markdown",
   "metadata": {},
   "source": [
    "# Sync vs Async\n",
    "\n",
    "consecutive vs concurrent"
   ]
  },
  {
   "cell_type": "code",
   "execution_count": 1,
   "metadata": {},
   "outputs": [],
   "source": [
    "import time\n",
    "import asyncio"
   ]
  },
  {
   "cell_type": "code",
   "execution_count": 3,
   "metadata": {},
   "outputs": [
    {
     "name": "stdout",
     "output_type": "stream",
     "text": [
      "0\t1s\n",
      "1\t3s\n",
      "2\t2s\n",
      "3\t4s\n",
      "Wall time: 10 s\n"
     ]
    }
   ],
   "source": [
    "%%time\n",
    "iteration_times = [1, 3, 2, 4]\n",
    "\n",
    "def sleeper(seconds, i=-1):\n",
    "    \n",
    "    if i != -1:\n",
    "        print(f\"{i}\\t{seconds}s\")\n",
    "    time.sleep(seconds)\n",
    "    \n",
    "def run():\n",
    "    for i, second in enumerate(iteration_times):\n",
    "        sleeper(second, i=i)\n",
    "        \n",
    "run()"
   ]
  },
  {
   "cell_type": "code",
   "execution_count": 4,
   "metadata": {},
   "outputs": [
    {
     "output_type": "error",
     "ename": "RuntimeError",
     "evalue": "asyncio.run() cannot be called from a running event loop",
     "traceback": [
      "\u001b[1;31m---------------------------------------------------------------------------\u001b[0m",
      "\u001b[1;31mRuntimeError\u001b[0m                              Traceback (most recent call last)",
      "\u001b[1;32m<ipython-input-4-72e9e23b7869>\u001b[0m in \u001b[0;36m<module>\u001b[1;34m\u001b[0m\n\u001b[0;32m     10\u001b[0m         \u001b[0masyncio\u001b[0m\u001b[1;33m.\u001b[0m\u001b[0mcreate_task\u001b[0m\u001b[1;33m(\u001b[0m\u001b[0ma_sleeper\u001b[0m\u001b[1;33m(\u001b[0m\u001b[0msecond\u001b[0m\u001b[1;33m,\u001b[0m \u001b[0mi\u001b[0m\u001b[1;33m=\u001b[0m\u001b[0mi\u001b[0m\u001b[1;33m)\u001b[0m\u001b[1;33m)\u001b[0m\u001b[1;33m\u001b[0m\u001b[1;33m\u001b[0m\u001b[0m\n\u001b[0;32m     11\u001b[0m \u001b[1;33m\u001b[0m\u001b[0m\n\u001b[1;32m---> 12\u001b[1;33m \u001b[0masyncio\u001b[0m\u001b[1;33m.\u001b[0m\u001b[0mrun\u001b[0m\u001b[1;33m(\u001b[0m\u001b[0ma_run\u001b[0m\u001b[1;33m(\u001b[0m\u001b[1;33m)\u001b[0m\u001b[1;33m)\u001b[0m\u001b[1;33m\u001b[0m\u001b[1;33m\u001b[0m\u001b[0m\n\u001b[0m",
      "\u001b[1;32mC:\\Program Files\\Python37\\lib\\asyncio\\runners.py\u001b[0m in \u001b[0;36mrun\u001b[1;34m(main, debug)\u001b[0m\n\u001b[0;32m     32\u001b[0m     \u001b[1;32mif\u001b[0m \u001b[0mevents\u001b[0m\u001b[1;33m.\u001b[0m\u001b[0m_get_running_loop\u001b[0m\u001b[1;33m(\u001b[0m\u001b[1;33m)\u001b[0m \u001b[1;32mis\u001b[0m \u001b[1;32mnot\u001b[0m \u001b[1;32mNone\u001b[0m\u001b[1;33m:\u001b[0m\u001b[1;33m\u001b[0m\u001b[1;33m\u001b[0m\u001b[0m\n\u001b[0;32m     33\u001b[0m         raise RuntimeError(\n\u001b[1;32m---> 34\u001b[1;33m             \"asyncio.run() cannot be called from a running event loop\")\n\u001b[0m\u001b[0;32m     35\u001b[0m \u001b[1;33m\u001b[0m\u001b[0m\n\u001b[0;32m     36\u001b[0m     \u001b[1;32mif\u001b[0m \u001b[1;32mnot\u001b[0m \u001b[0mcoroutines\u001b[0m\u001b[1;33m.\u001b[0m\u001b[0miscoroutine\u001b[0m\u001b[1;33m(\u001b[0m\u001b[0mmain\u001b[0m\u001b[1;33m)\u001b[0m\u001b[1;33m:\u001b[0m\u001b[1;33m\u001b[0m\u001b[1;33m\u001b[0m\u001b[0m\n",
      "\u001b[1;31mRuntimeError\u001b[0m: asyncio.run() cannot be called from a running event loop"
     ]
    }
   ],
   "source": [
    "iteration_time = [1, 3, 2, 1]\n",
    "\n",
    "async def a_sleeper(seconds, i=-1):\n",
    "    if i != (-1):\n",
    "        print(f\"{i}\\t{seconds}\")\n",
    "    await asyncio.sleep(seconds)\n",
    "    \n",
    "async def a_run():\n",
    "    for i, second in enumerate(iteration_time):\n",
    "        asyncio.create_task(a_sleeper(second, i=i))\n",
    "        \n",
    "asyncio.run(a_run())"
   ]
  },
  {
   "cell_type": "markdown",
   "metadata": {},
   "source": [
    "# Blocking and Timeout\n",
    "\n",
    "The code below is an example of blocking code asyncio.sleep() is an async function, therefore  \n",
    "it is needed to be awaited. However, we are also making our sleeper function await on line 6, this  \n",
    "does not allow program to move beyond that point, therefore when we try to print hello world jupyter  \n",
    "notebook will not do that until after 12 seconds."
   ]
  },
  {
   "cell_type": "code",
   "execution_count": 38,
   "metadata": {},
   "outputs": [
    {
     "output_type": "stream",
     "name": "stdout",
     "text": [
      "1\t12\n"
     ]
    }
   ],
   "source": [
    "async def sleeper(seconds, i=-1):\n",
    "    if i != -1:\n",
    "        print(f\"{i}\\t{seconds}\")\n",
    "    await asyncio.sleep(seconds)\n",
    "    \n",
    "await sleeper(12, i=1)"
   ]
  },
  {
   "cell_type": "code",
   "execution_count": 39,
   "metadata": {},
   "outputs": [
    {
     "output_type": "stream",
     "name": "stdout",
     "text": [
      "hello world\n"
     ]
    }
   ],
   "source": [
    "# this print statement will execute 12 seconds after above code is executed\n",
    "\n",
    "print(\"hello world\")"
   ]
  },
  {
   "cell_type": "code",
   "execution_count": 40,
   "metadata": {},
   "outputs": [
    {
     "output_type": "execute_result",
     "data": {
      "text/plain": [
       "<Task pending coro=<async-def-wrapper.<locals>.sleeper() running at <ipython-input-38-01b7cce9c16b>:4>>"
      ]
     },
     "metadata": {},
     "execution_count": 40
    }
   ],
   "source": [
    "# getting jupyter notebooks eventloop.\n",
    "loop = asyncio.get_event_loop()\n",
    "\n",
    "loop.create_task(sleeper(12, 1))\n",
    "# loop.run_until_complete(sleeper(12))"
   ]
  },
  {
   "cell_type": "code",
   "execution_count": 41,
   "metadata": {},
   "outputs": [
    {
     "output_type": "stream",
     "name": "stdout",
     "text": [
      "hello world\n"
     ]
    }
   ],
   "source": [
    "print('hello world')"
   ]
  },
  {
   "source": [
    "# asyncio.wait() function"
   ],
   "cell_type": "markdown",
   "metadata": {}
  },
  {
   "cell_type": "code",
   "execution_count": 33,
   "metadata": {},
   "outputs": [],
   "source": [
    "# wait returns a set of done and pending futures, pending with respect to timeout\n",
    "# here, one sleeper takes 1 second and the other takes 12 and the time out is 2 sec\n",
    "# therefor the second task will get timedout and will be added to pending set.\n",
    "\n",
    "done, pending = await asyncio.wait([sleeper(1), sleeper(12)], timeout=2)"
   ]
  },
  {
   "cell_type": "code",
   "execution_count": 34,
   "metadata": {},
   "outputs": [
    {
     "data": {
      "text/plain": [
       "{<Task finished coro=<async-def-wrapper.<locals>.sleeper() done, defined at <ipython-input-12-01b7cce9c16b>:4> result=None>}"
      ]
     },
     "execution_count": 34,
     "metadata": {},
     "output_type": "execute_result"
    }
   ],
   "source": [
    "done"
   ]
  },
  {
   "cell_type": "code",
   "execution_count": 35,
   "metadata": {},
   "outputs": [
    {
     "data": {
      "text/plain": [
       "{<Task pending coro=<async-def-wrapper.<locals>.sleeper() running at <ipython-input-12-01b7cce9c16b>:7> wait_for=<Future pending cb=[<TaskWakeupMethWrapper object at 0x00000000089DACD8>()]>>}"
      ]
     },
     "execution_count": 35,
     "metadata": {},
     "output_type": "execute_result"
    }
   ],
   "source": [
    "pending"
   ]
  },
  {
   "cell_type": "code",
   "execution_count": 36,
   "metadata": {},
   "outputs": [
    {
     "data": {
      "text/plain": [
       "({<Task finished coro=<async-def-wrapper.<locals>.sleeper() done, defined at <ipython-input-12-01b7cce9c16b>:4> result=None>},\n",
       " set())"
      ]
     },
     "execution_count": 36,
     "metadata": {},
     "output_type": "execute_result"
    }
   ],
   "source": [
    "# running the pending future\n",
    "# the pending future will start from where it stoped\n",
    "\n",
    "await asyncio.wait(pending, timeout=12)"
   ]
  },
  {
   "cell_type": "code",
   "execution_count": 37,
   "metadata": {},
   "outputs": [
    {
     "ename": "TimeoutError",
     "evalue": "",
     "output_type": "error",
     "traceback": [
      "\u001b[1;31m---------------------------------------------------------------------------\u001b[0m",
      "\u001b[1;31mTimeoutError\u001b[0m                              Traceback (most recent call last)",
      "\u001b[1;32m<ipython-input-37-00b3f851cad3>\u001b[0m in \u001b[0;36masync-def-wrapper\u001b[1;34m()\u001b[0m\n",
      "\u001b[1;32mC:\\Program Files\\Python37\\lib\\asyncio\\tasks.py\u001b[0m in \u001b[0;36mwait_for\u001b[1;34m(fut, timeout, loop)\u001b[0m\n\u001b[0;32m    447\u001b[0m             \u001b[1;31m# See https://bugs.python.org/issue32751\u001b[0m\u001b[1;33m\u001b[0m\u001b[1;33m\u001b[0m\u001b[1;33m\u001b[0m\u001b[0m\n\u001b[0;32m    448\u001b[0m             \u001b[1;32mawait\u001b[0m \u001b[0m_cancel_and_wait\u001b[0m\u001b[1;33m(\u001b[0m\u001b[0mfut\u001b[0m\u001b[1;33m,\u001b[0m \u001b[0mloop\u001b[0m\u001b[1;33m=\u001b[0m\u001b[0mloop\u001b[0m\u001b[1;33m)\u001b[0m\u001b[1;33m\u001b[0m\u001b[1;33m\u001b[0m\u001b[0m\n\u001b[1;32m--> 449\u001b[1;33m             \u001b[1;32mraise\u001b[0m \u001b[0mfutures\u001b[0m\u001b[1;33m.\u001b[0m\u001b[0mTimeoutError\u001b[0m\u001b[1;33m(\u001b[0m\u001b[1;33m)\u001b[0m\u001b[1;33m\u001b[0m\u001b[1;33m\u001b[0m\u001b[0m\n\u001b[0m\u001b[0;32m    450\u001b[0m     \u001b[1;32mfinally\u001b[0m\u001b[1;33m:\u001b[0m\u001b[1;33m\u001b[0m\u001b[1;33m\u001b[0m\u001b[0m\n\u001b[0;32m    451\u001b[0m         \u001b[0mtimeout_handle\u001b[0m\u001b[1;33m.\u001b[0m\u001b[0mcancel\u001b[0m\u001b[1;33m(\u001b[0m\u001b[1;33m)\u001b[0m\u001b[1;33m\u001b[0m\u001b[1;33m\u001b[0m\u001b[0m\n",
      "\u001b[1;31mTimeoutError\u001b[0m: "
     ]
    }
   ],
   "source": [
    "# .wait_for() will raise a TimeoutError if the future takes more time than the mentioned timeout.\n",
    "\n",
    "await asyncio.wait_for(sleeper(20), timeout=10)"
   ]
  },
  {
   "cell_type": "markdown",
   "metadata": {},
   "source": [
    "#### # .wait_for() can be useful for terminating tasks that have an uncertain time requirement, and are taking too much time to finish."
   ]
  },
  {
   "cell_type": "code",
   "execution_count": 40,
   "metadata": {},
   "outputs": [
    {
     "name": "stdout",
     "output_type": "stream",
     "text": [
      "Task failed successfully\n"
     ]
    }
   ],
   "source": [
    "# putting .wait_for() in a try: except block \n",
    "\n",
    "try:\n",
    "    await asyncio.wait_for(sleeper(20), timeout=3)\n",
    "except asyncio.TimeoutError:\n",
    "    print(\"Task failed successfully\")"
   ]
  },
  {
   "source": [
    "## Scraping with Selenium - Synchronous"
   ],
   "cell_type": "markdown",
   "metadata": {}
  },
  {
   "cell_type": "code",
   "execution_count": 2,
   "metadata": {},
   "outputs": [],
   "source": [
    "import re\n",
    "\n",
    "import requests\n",
    "from requests_html import HTML\n",
    "from selenium import webdriver\n",
    "from selenium.webdriver.chrome.options import Options\n",
    "import pandas as pd"
   ]
  },
  {
   "cell_type": "code",
   "execution_count": 4,
   "metadata": {},
   "outputs": [],
   "source": [
    "def scraper(url: str):\n",
    "    \"\"\"Scrapes the HTML of the passed URL using selenium webdriver.\"\"\"\n",
    "    options = Options()\n",
    "    options.add_argument(\"--headless\")              # running chrome without opening the browser\n",
    "    driver = webdriver.Chrome(options=options)      # creating a webdriver instance with passed arguments\n",
    "    driver.get(url)\n",
    "    return driver.page_source                       # getting the HTML\n",
    "\n",
    "def extract_id_slug(url_path: str):\n",
    "    \"\"\"separates product id and product slug, from product link.\"\"\"\n",
    "\n",
    "    regex = r\"^[^\\s]+/(?P<id>\\d+)-(?P<slug>[\\w_-]+)$\"\n",
    "    group = re.match(regex, url_path)\n",
    "    if not group:\n",
    "        return (None, None)\n",
    "    return (group['id'], group['slug'])"
   ]
  },
  {
   "cell_type": "code",
   "execution_count": 6,
   "metadata": {},
   "outputs": [],
   "source": [
    "url = \"https://www.spoonflower.com/en/shop?on=fabric\""
   ]
  },
  {
   "cell_type": "code",
   "execution_count": 9,
   "metadata": {
    "tags": []
   },
   "outputs": [
    {
     "output_type": "stream",
     "name": "stdout",
     "text": [
      "<html class=\"js\" lang=\"en\" data-wf-page=\"5d63f10f2f49481077e21b0c\" data-wf-site=\"5c083293d3df665a93b5c3a0\"><head><script type=\"text/javascript\" src=\"https://bam-cell.nr-data.net/1/331b4fd22c?a=15371075&amp;v=1208.49599aa&amp;to=IFxcFkBbCFgEE01DBwJQRk1BXAtE&amp;rst=6949&amp;ck=1&amp;ref=https://www.spoonflower.com/en/shop&amp;ap=41&amp;be=1397&amp;fe=6845&amp;dc=3114&amp;af=err,xhr,stn,ins,spa&amp;perf=%7B%22timing%22:%7B%22of%22:1620889236760,%22n%22:0,%22f%22:0,%22dn%22:196,%22dne%22:198,%22c%22:198,%22s%22:201,%22ce%22:259,%22rq%22:259,%22rp%22:1379,%22rpe%22:1381,%22dl%22:1384,%22di%22:3114,%22ds%22:3114,%22de%22:3117,%22dc%22:6844,%22l%22:6844,%22le%22:6877%7D,%22navigation%22:%7B%7D%7D&amp;fp=4409&amp;fcp=4409&amp;jsonp=NREUM.setToken\"></script><script async=\"\" src=\"https://cdn2.exitintel.com/api/v1/pub/359?callback=exitintel.campaign.campaignsFileLoaded\"></script>\n  <meta charset=\"utf-8\">\n  <title>Shop Over 1 Million Fabric Designs | Spoonflower</title>\n  <meta name=\"viewport\" co\n"
     ]
    }
   ],
   "source": [
    "content = scraper(url)\n",
    "print(content[:100*10])     # printing first thousand letters of the string"
   ]
  },
  {
   "cell_type": "code",
   "execution_count": 10,
   "metadata": {},
   "outputs": [],
   "source": [
    "# Converting raw HTML to requests_html's HTML object for parsing.\n",
    "\n",
    "html_r = HTML(html=content)"
   ]
  },
  {
   "cell_type": "code",
   "execution_count": 11,
   "metadata": {},
   "outputs": [
    {
     "output_type": "stream",
     "name": "stdout",
     "text": [
      "{'/en/products/8985918-sunflowers-cream-7x7-by-indybloomdesign', '/terms', '/en/products/7944022-golden-girls-illustration-peach-by-yesterdaycollection', '/en/products/703426-elephant-march-by-endemic', '/en/contact', '/en/products/7679631-scattered-earth-tones-watercolor-rainbows-by-anniemontgomerydesign', '/en/products/7522587-save-honey-bees-large-new-by-fernlesliestudio', '/en/products/1112778-rosie-riveter-by-spacefem', '/en/products/6590171-mermaid-scales-by-elladorine', '/en/fabric/8056679-ruth-bader-ginsburg-rbg-bust-black-by-katerhees', '/profiles/rebecca_reck_art', '/profiles/hippopottermiss', '/profiles/kimsa', '/en/fabric/4981816-black-white-dogs-by-littleislandcompany', '/en/products/2760166-chicken-boots-knit-fabric-regular-size-by-chickenboots', '/en/fabric/6782514-eame-s-wildflower-meadow-by-hipkiddesigns', '/en/fabric/7368347-dear-clementine-oranges-teal-by-crystal_walen', '/en/fabric/8405290-fable-floral-teal-jumbo-by-nouveau_bohemian', '/en/products/9155687-galaxy-deep-space-seamless-thousands-stars-starry-night-sky-by-rebecca_reck_art', '/profiles/cinneworthington', '/profiles/yesterdaycollection', '/en/products/6976212-christmas-gnomes-by-heartsandsharts', '/en/products/8286001-hanging-out-by-sarah_knight', '/profiles/erin__kendal', '/profiles/katerhees', '/en/fabric/7522587-save-honey-bees-large-new-by-fernlesliestudio', '/en/products/10704201-ew-covid-grey-by-kindermama', '/profiles/sveta_aho', '/profiles/ottomanbrim', '/profiles/ceciliamok', '/en/fabric/10704201-ew-covid-grey-by-kindermama', '/en/fabric/8286001-hanging-out-by-sarah_knight', '/en/fabric/8197261-night-sky-stars-midnight-blue-by-at_the_cottage', '/en/fabric/5378956-under-water-by-lavish_season', '/login', '/en/products/7702196-fable-floral-teal-med-by-nouveau_bohemian', '/en/fabric/7236018-native-eucalyptus-leaves-edition-1-fabric-wallpaper-by-erin__kendal', '/en/products/7661255-just-jellies-jellyfish-by-katerhees', '/en/fabric/5822747-black-white-haunted-occult-by-xoxotique', '/profiles/sammyk', 'https://www.facebook.com/Spoonflower', '/profiles/neonborealis', '/en/fabric/5279418-navy-floral-by-crystal_walen', '/en/products/2623675-black-white-music-notes-by-inspirationz', '/en/products/6178734-fable-floral-blush-med-by-nouveau_bohemian', '/en/trade', '/en/products/4981816-black-white-dogs-by-littleislandcompany', '/profiles/at_the_cottage', '/profiles/hipkiddesigns', '/profiles/penguinhouse', '/en/fabric/6545640-southdown-tartan-6-tan-black-white-by-weavingmajor', '/en/products/5131007-scandinavian-sweet-hedgehog-illustration-kids-gender-neutral-black-white-by-littlesmilemakers', '/en/fabric/1112778-rosie-riveter-by-spacefem', '/en/products/8345787-plain-white-solid-white-plain-unprinted-fabric-by-erin__kendal', '/en/fabric/8345787-plain-white-solid-white-plain-unprinted-fabric-by-erin__kendal', '/en/products/5822747-black-white-haunted-occult-by-xoxotique', '/en/shop?on=fabric&page_offset=2', '/en/fabric/9069096-black-cat-butterfly-garden-by-boszorka', '/profiles/mlags', '/en/fabric/7662668-mermaid-music-by-ceciliamok', '/en/products/3817098-math-count-on-by-sammyk', '/profiles/elladorine', '/profiles/weavingmajor', '/en/products/5969845-woodland-gnomes-by-shelbyallison', '/en/products/10307245-golden-girls-faces-small-teal-by-chica_and_jo', '/en/fabric/7137898-sierra-floral-by-crystal_walen', 'https://preferences.spoonflower.com/subscribe/index.html', '/en/fabric/6864327-love-lips-red-by-hipkiddesigns', '/en/products/11160216-midcentury-sunflowers-by-ottomanbrim', '/en/fabric/8692520-bees-lemons-large-blue-original-colors-by-fernlesliestudio', '/en/fabric/8091225-dark-floral-black-roses-on-black-moody-floral-jumbo-size-by-mlags', '/profiles/spoonflower_help', '/en/products/8190767-christmas-gingerbread-cookies-on-dark-teal-small-by-heleen_vd_thillart', '/profiles/endemic', '/en/fabric/2760166-chicken-boots-knit-fabric-regular-size-by-chickenboots', '/en/fabric/7661255-just-jellies-jellyfish-by-katerhees', '/profiles/kindermama', '/en/products/7137898-sierra-floral-by-crystal_walen', '/en/fabric/9709002-tiger-peacock-large-scale-by-sveta_aho', '/en/products/6444170-catching-fireflies-by-thestorysmith', '/profiles/spacefem', '/profiles/fernlesliestudio', '/en/fabric/6675487-botanic-garden-by-irishvikingdesigns', '/en/fabric/7944022-golden-girls-illustration-peach-by-yesterdaycollection', '/en/fabric/6812243-cute-kawaii-sushi-small-size-by-penguinhouse', '/en/fabric/7936102-bats-hearts-pink-background-by-andrea_zuill', '/en/fabric/8039248-forest-animal-hot-air-balloon-night-adventure-by-at_the_cottage', '/en/fabric/7679631-scattered-earth-tones-watercolor-rainbows-by-anniemontgomerydesign', 'https://www.youtube.com/user/spoonflowerfabric', '/en/products/8834187-mid-century-kaleidoscope-by-ceciliamok', 'https://www.spoonflower.com/en/contact', '/en/fabric/2794616-rummy-royal-game-mat-by-mousehaus', '/en/fabric/7790777-turtles-aqua-blue-by-gingerlique', '/en/fabric/703426-elephant-march-by-endemic', '/profiles/peacoquettedesigns', '/en/fabric/509390-spoonflower-color-map-by-spoonflower_help', '/en/fabric/6444170-catching-fireflies-by-thestorysmith', '/en/fabric/5969845-woodland-gnomes-by-shelbyallison', '/profiles/daily_miracles', '/profiles/designed_by_debby', '/profiles/magentarosedesigns', '/en/fabric/5313150-japanese-water-garden-black-by-designed_by_debby', '/en/fabric/8619105-flight-feathers-painted-by-xoxotique', '/en/fabric/254642-stained-glass-rose-windows-by-sammyk', '/en/about', '/en/products/7872207-art-deco-cranes-by-katerhees', '/en/fabric/7502637-fable-floral-black-jumbo-by-nouveau_bohemian', '/en/fabric/7702196-fable-floral-teal-med-by-nouveau_bohemian', '/en/fabric/6079351-josie-meadow-floral-by-sweeterthanhoney', 'https://support.spoonflower.com', '/profiles/cynthiafrenette', '/en/fabric/8985918-sunflowers-cream-7x7-by-indybloomdesign', '/profiles/irishvikingdesigns', '/en/products/9406268-ruth-bader-ginsburg-rbg-bust-black-tiny-by-katerhees', '/en/fabric/3817098-math-count-on-by-sammyk', '/en/products/509390-spoonflower-color-map-by-spoonflower_help', '/profiles/littleislandcompany', '/register/new', '/en/fabric/7872207-art-deco-cranes-by-katerhees', '/en/fabric/8834187-mid-century-kaleidoscope-by-ceciliamok', '/designs/new', 'https://jobs.spoonflower.com/work-at-spoonflower', '/en/fabric/9923309-tiny-maybe-swearing-will-help-i-use-bad-words-by-cynthiafrenette', '/en/fabric/6178734-fable-floral-blush-med-by-nouveau_bohemian', '/en/products/7936102-bats-hearts-pink-background-by-andrea_zuill', '/en/products/7812388-dnd-pattern-by-neonborealis', '/en/products/7685381-dragon-fire-by-adenaj', '/en/fabric/11160216-midcentury-sunflowers-by-ottomanbrim', '/en/products/9923309-tiny-maybe-swearing-will-help-i-use-bad-words-by-cynthiafrenette', '/en/products/6782514-eame-s-wildflower-meadow-by-hipkiddesigns', '/profiles/gingerlique', '/en/products/5378956-under-water-by-lavish_season', '/profiles/chickenboots', '/en/fabric/8589383-art-deco-swans-cream-on-black-by-katerhees', '/', '/en/products/1306112-opal-by-peacoquettedesigns', '/profiles/cynthia_arre', '/en/fabric/8577014-dear-clementine-oranges-on-white-by-crystal_walen', 'https://try.spoonflower.com/promos/', '/en/products/4150617-nod-house-bird-by-katerhees', '/en/products/5279418-navy-floral-by-crystal_walen', '/en/products/8619105-flight-feathers-painted-by-xoxotique', 'https://www.instagram.com/spoonflower', '/profiles/ninola-design', '/en/products/8589383-art-deco-swans-cream-on-black-by-katerhees', '/profiles/littlearrowdesign', '/en/fabric/1864046-blackest-black-solid-by-peacoquettedesigns', '/profiles/sarah_knight', '/en/fabric/5880084-mod-triangles-gold-indigo-by-crystal_walen', '/privacy', '/en/fabric/5131007-scandinavian-sweet-hedgehog-illustration-kids-gender-neutral-black-white-by-littlesmilemakers', '/profiles/bamokreativ', '/profiles/boszorka', '/en/products/7924771-mod-triangles-emerald-teal-by-crystal_walen', '/en/products/8405290-fable-floral-teal-jumbo-by-nouveau_bohemian', '/en/products/254642-stained-glass-rose-windows-by-sammyk', '/en/products/7502637-fable-floral-black-jumbo-by-nouveau_bohemian', '/en/fabric/11484029-wild-grasses-by-ninola-design', '/en/products/7790777-turtles-aqua-blue-by-gingerlique', '/en/products/7236018-native-eucalyptus-leaves-edition-1-fabric-wallpaper-by-erin__kendal', '/en/fabric/6700072-bohemian-summer-by-camcreative', '/profiles/indybloomdesign', 'https://grow.spoonflower.com/sustainability/', '/en/products/8056679-ruth-bader-ginsburg-rbg-bust-black-by-katerhees', '/en/fabric/9608189-art-nouveau-poppy-red-wallpaper-by-bamokreativ', '/en/products/8577014-dear-clementine-oranges-on-white-by-crystal_walen', '/profiles/xoxotique', '/en/products/6303118-cats-black-by-kimsa', 'https://www.google.com/support/bin/answer.py?answer=23852', '/en/fabric/9155687-galaxy-deep-space-seamless-thousands-stars-starry-night-sky-by-rebecca_reck_art', '/profiles/thestorysmith', '/profiles/anniemontgomerydesign', '/en/products/11484029-wild-grasses-by-ninola-design', '/pro_terms', 'https://support.spoonflower.com/hc/en-us/articles/204444690-Can-I-return-or-exchange-what-I-ordered', '/profiles/catalinakim', '/en/fabric/5544045-napoleonic-bees-faux-gilt-on-blackest-black-by-peacoquettedesigns', '/en/fabric/5939834-classic-leopard-by-cinneworthington', '/en/products/6675487-botanic-garden-by-irishvikingdesigns', '/profiles/chica_and_jo', '/en/products/1864046-blackest-black-solid-by-peacoquettedesigns', '/en/fabric/5964319-hearts-on-grey-linen-valentines-day-by-littlearrowdesign', '/profiles/crystal_walen', '/en/products/5313150-japanese-water-garden-black-by-designed_by_debby', '/profiles/andrea_zuill', '/en/products/7463028-seamless-watercolor-larger-leaves-pattern-1-by-daily_miracles', '/en/fabric/7748646-emerald-eden-by-catalinakim', '/en/fabric/5839396-spectacular-cats-by-cynthia_arre', '/en/fabric/2623675-black-white-music-notes-by-inspirationz', '/profiles/nouveau_bohemian', '/en/products/5880084-mod-triangles-gold-indigo-by-crystal_walen', '/en/fabric/9406268-ruth-bader-ginsburg-rbg-bust-black-tiny-by-katerhees', '/en/products/5964319-hearts-on-grey-linen-valentines-day-by-littlearrowdesign', '/en/products/8197261-night-sky-stars-midnight-blue-by-at_the_cottage', '/en/fabric/6303118-cats-black-by-kimsa', '/en/cart', '/en/products/6700072-bohemian-summer-by-camcreative', '/en/fabric/6590171-mermaid-scales-by-elladorine', '/en/products/4428343-pussies-galore-size-2-by-hippopottermiss', '/profiles/shelbyallison', '/en/products/7662668-mermaid-music-by-ceciliamok', '/en/fabric/4830872-cherry-blossom-watercolor-cherry-blossom-floral-by-magentarosedesigns', '/en/fabric/7685381-dragon-fire-by-adenaj', '/en/fabric/10307245-golden-girls-faces-small-teal-by-chica_and_jo', '/profiles/inspirationz', '/en/fabric/8190767-christmas-gingerbread-cookies-on-dark-teal-small-by-heleen_vd_thillart', '/en/products/6864327-love-lips-red-by-hipkiddesigns', '/en/products/3730688-william-morris-pimpernel-original-on-black-by-peacoquettedesigns', '/seller_agreement', '/en/products/8091225-dark-floral-black-roses-on-black-moody-floral-jumbo-size-by-mlags', '/en/products/6327300-call-mountains-evergreen-med-by-nouveau_bohemian', '/en/fabric/6075822-soft-meadow-floral-by-sweeterthanhoney', '/profiles/lavish_season', '/en/products/9608189-art-nouveau-poppy-red-wallpaper-by-bamokreativ', '/en/fabric/7137786-genevieve-floral-by-crystal_walen', '/en/fabric/1306112-opal-by-peacoquettedesigns', '/en/products/6545640-southdown-tartan-6-tan-black-white-by-weavingmajor', '/en/fabric/8345549-freehand-hearts-bone-on-dusty-pink-by-erin__kendal', '/profiles/heleen_vd_thillart', '/en/fabric/4150617-nod-house-bird-by-katerhees', '/en/products/5939834-classic-leopard-by-cinneworthington', '/en/products/2794616-rummy-royal-game-mat-by-mousehaus', '/en/fabric/7812388-dnd-pattern-by-neonborealis', '/en/fabric/4428343-pussies-galore-size-2-by-hippopottermiss', '/profiles/mousehaus', '/en/products/8345549-freehand-hearts-bone-on-dusty-pink-by-erin__kendal', '/en/fabric/3730688-william-morris-pimpernel-original-on-black-by-peacoquettedesigns', '/profiles/littlesmilemakers', 'https://www.flickr.com/groups/spoonflower', '/en/products/4830872-cherry-blossom-watercolor-cherry-blossom-floral-by-magentarosedesigns', '/en/products/7368347-dear-clementine-oranges-teal-by-crystal_walen', '/en/fabric/6327300-call-mountains-evergreen-med-by-nouveau_bohemian', '/en/products/7748646-emerald-eden-by-catalinakim', '/en/fabric/7463028-seamless-watercolor-larger-leaves-pattern-1-by-daily_miracles', '/profiles/heartsandsharts', '/en/products/6079351-josie-meadow-floral-by-sweeterthanhoney', '/en/products/5839396-spectacular-cats-by-cynthia_arre', '/en/products/8692520-bees-lemons-large-blue-original-colors-by-fernlesliestudio', '/en/products/9069096-black-cat-butterfly-garden-by-boszorka', 'https://www.spoonflower.com/cookies', '/en/fabric/6976212-christmas-gnomes-by-heartsandsharts', '/profiles/sweeterthanhoney', '/en/products/8039248-forest-animal-hot-air-balloon-night-adventure-by-at_the_cottage', '/en/fabric/7924771-mod-triangles-emerald-teal-by-crystal_walen', '/en/products/6812243-cute-kawaii-sushi-small-size-by-penguinhouse', '/profiles/adenaj', 'https://twitter.com/spoonflower', '/en/products/5544045-napoleonic-bees-faux-gilt-on-blackest-black-by-peacoquettedesigns', '/en/products/9709002-tiger-peacock-large-scale-by-sveta_aho', '/en/products/7137786-genevieve-floral-by-crystal_walen', '/profiles/camcreative', '/en/press', '/en/products/6075822-soft-meadow-floral-by-sweeterthanhoney', 'https://www.pinterest.com/spoonflower'}\n"
     ]
    }
   ],
   "source": [
    "# getting all the links in the retrieved HTML.\n",
    "\n",
    "print(html_r.links)"
   ]
  },
  {
   "cell_type": "code",
   "execution_count": 12,
   "metadata": {},
   "outputs": [
    {
     "output_type": "stream",
     "name": "stdout",
     "text": [
      "['/en/fabric/8056679-ruth-bader-ginsburg-rbg-bust-black-by-katerhees', '/en/fabric/4981816-black-white-dogs-by-littleislandcompany', '/en/fabric/6782514-eame-s-wildflower-meadow-by-hipkiddesigns', '/en/fabric/7368347-dear-clementine-oranges-teal-by-crystal_walen', '/en/fabric/8405290-fable-floral-teal-jumbo-by-nouveau_bohemian', '/en/fabric/7522587-save-honey-bees-large-new-by-fernlesliestudio', '/en/fabric/10704201-ew-covid-grey-by-kindermama', '/en/fabric/8286001-hanging-out-by-sarah_knight', '/en/fabric/8197261-night-sky-stars-midnight-blue-by-at_the_cottage', '/en/fabric/5378956-under-water-by-lavish_season', '/en/fabric/7236018-native-eucalyptus-leaves-edition-1-fabric-wallpaper-by-erin__kendal', '/en/fabric/5822747-black-white-haunted-occult-by-xoxotique', '/en/fabric/5279418-navy-floral-by-crystal_walen', '/en/fabric/6545640-southdown-tartan-6-tan-black-white-by-weavingmajor', '/en/fabric/1112778-rosie-riveter-by-spacefem', '/en/fabric/8345787-plain-white-solid-white-plain-unprinted-fabric-by-erin__kendal', '/en/fabric/9069096-black-cat-butterfly-garden-by-boszorka', '/en/fabric/7662668-mermaid-music-by-ceciliamok', '/en/fabric/7137898-sierra-floral-by-crystal_walen', '/en/fabric/6864327-love-lips-red-by-hipkiddesigns', '/en/fabric/8692520-bees-lemons-large-blue-original-colors-by-fernlesliestudio', '/en/fabric/8091225-dark-floral-black-roses-on-black-moody-floral-jumbo-size-by-mlags', '/en/fabric/2760166-chicken-boots-knit-fabric-regular-size-by-chickenboots', '/en/fabric/7661255-just-jellies-jellyfish-by-katerhees', '/en/fabric/9709002-tiger-peacock-large-scale-by-sveta_aho', '/en/fabric/6675487-botanic-garden-by-irishvikingdesigns', '/en/fabric/7944022-golden-girls-illustration-peach-by-yesterdaycollection', '/en/fabric/6812243-cute-kawaii-sushi-small-size-by-penguinhouse', '/en/fabric/7936102-bats-hearts-pink-background-by-andrea_zuill', '/en/fabric/8039248-forest-animal-hot-air-balloon-night-adventure-by-at_the_cottage', '/en/fabric/7679631-scattered-earth-tones-watercolor-rainbows-by-anniemontgomerydesign', '/en/fabric/2794616-rummy-royal-game-mat-by-mousehaus', '/en/fabric/7790777-turtles-aqua-blue-by-gingerlique', '/en/fabric/703426-elephant-march-by-endemic', '/en/fabric/509390-spoonflower-color-map-by-spoonflower_help', '/en/fabric/6444170-catching-fireflies-by-thestorysmith', '/en/fabric/5969845-woodland-gnomes-by-shelbyallison', '/en/fabric/5313150-japanese-water-garden-black-by-designed_by_debby', '/en/fabric/8619105-flight-feathers-painted-by-xoxotique', '/en/fabric/254642-stained-glass-rose-windows-by-sammyk', '/en/fabric/7502637-fable-floral-black-jumbo-by-nouveau_bohemian', '/en/fabric/7702196-fable-floral-teal-med-by-nouveau_bohemian', '/en/fabric/6079351-josie-meadow-floral-by-sweeterthanhoney', '/en/fabric/8985918-sunflowers-cream-7x7-by-indybloomdesign', '/en/fabric/3817098-math-count-on-by-sammyk', '/en/fabric/7872207-art-deco-cranes-by-katerhees', '/en/fabric/8834187-mid-century-kaleidoscope-by-ceciliamok', '/en/fabric/9923309-tiny-maybe-swearing-will-help-i-use-bad-words-by-cynthiafrenette', '/en/fabric/6178734-fable-floral-blush-med-by-nouveau_bohemian', '/en/fabric/11160216-midcentury-sunflowers-by-ottomanbrim', '/en/fabric/8589383-art-deco-swans-cream-on-black-by-katerhees', '/en/fabric/8577014-dear-clementine-oranges-on-white-by-crystal_walen', '/en/fabric/1864046-blackest-black-solid-by-peacoquettedesigns', '/en/fabric/5880084-mod-triangles-gold-indigo-by-crystal_walen', '/en/fabric/5131007-scandinavian-sweet-hedgehog-illustration-kids-gender-neutral-black-white-by-littlesmilemakers', '/en/fabric/11484029-wild-grasses-by-ninola-design', '/en/fabric/6700072-bohemian-summer-by-camcreative', '/en/fabric/9608189-art-nouveau-poppy-red-wallpaper-by-bamokreativ', '/en/fabric/9155687-galaxy-deep-space-seamless-thousands-stars-starry-night-sky-by-rebecca_reck_art', '/en/fabric/5544045-napoleonic-bees-faux-gilt-on-blackest-black-by-peacoquettedesigns', '/en/fabric/5939834-classic-leopard-by-cinneworthington', '/en/fabric/5964319-hearts-on-grey-linen-valentines-day-by-littlearrowdesign', '/en/fabric/7748646-emerald-eden-by-catalinakim', '/en/fabric/5839396-spectacular-cats-by-cynthia_arre', '/en/fabric/2623675-black-white-music-notes-by-inspirationz', '/en/fabric/9406268-ruth-bader-ginsburg-rbg-bust-black-tiny-by-katerhees', '/en/fabric/6303118-cats-black-by-kimsa', '/en/fabric/6590171-mermaid-scales-by-elladorine', '/en/fabric/4830872-cherry-blossom-watercolor-cherry-blossom-floral-by-magentarosedesigns', '/en/fabric/7685381-dragon-fire-by-adenaj', '/en/fabric/10307245-golden-girls-faces-small-teal-by-chica_and_jo', '/en/fabric/8190767-christmas-gingerbread-cookies-on-dark-teal-small-by-heleen_vd_thillart', '/en/fabric/6075822-soft-meadow-floral-by-sweeterthanhoney', '/en/fabric/7137786-genevieve-floral-by-crystal_walen', '/en/fabric/1306112-opal-by-peacoquettedesigns', '/en/fabric/8345549-freehand-hearts-bone-on-dusty-pink-by-erin__kendal', '/en/fabric/4150617-nod-house-bird-by-katerhees', '/en/fabric/7812388-dnd-pattern-by-neonborealis', '/en/fabric/4428343-pussies-galore-size-2-by-hippopottermiss', '/en/fabric/3730688-william-morris-pimpernel-original-on-black-by-peacoquettedesigns', '/en/fabric/6327300-call-mountains-evergreen-med-by-nouveau_bohemian', '/en/fabric/7463028-seamless-watercolor-larger-leaves-pattern-1-by-daily_miracles', '/en/fabric/6976212-christmas-gnomes-by-heartsandsharts', '/en/fabric/7924771-mod-triangles-emerald-teal-by-crystal_walen']\n"
     ]
    }
   ],
   "source": [
    "# grabbing all the links that redirect to fabric detail\n",
    "\n",
    "fabric_links = [x for x in html_r.links if '/en/fabric/' in x]\n",
    "print(fabric_links)"
   ]
  },
  {
   "cell_type": "code",
   "execution_count": 13,
   "metadata": {},
   "outputs": [],
   "source": [
    "# separating the id and slug of the fabric from their links\n",
    "\n",
    "datas = []\n",
    "\n",
    "for path in fabric_links:\n",
    "    id_, slug_ = extract_id_slug(path)\n",
    "    # print(id_, slug_)\n",
    "    data = {\n",
    "        'id': id_,\n",
    "        'slug': slug_,\n",
    "        'path': path,\n",
    "        'scraped': 0\n",
    "    }\n",
    "\n",
    "    datas.append(data)"
   ]
  },
  {
   "cell_type": "code",
   "execution_count": 14,
   "metadata": {},
   "outputs": [
    {
     "output_type": "stream",
     "name": "stdout",
     "text": [
      "[{'id': '8056679', 'slug': 'ruth-bader-ginsburg-rbg-bust-black-by-katerhees', 'path': '/en/fabric/8056679-ruth-bader-ginsburg-rbg-bust-black-by-katerhees', 'scraped': 0}, {'id': '4981816', 'slug': 'black-white-dogs-by-littleislandcompany', 'path': '/en/fabric/4981816-black-white-dogs-by-littleislandcompany', 'scraped': 0}, {'id': '6782514', 'slug': 'eame-s-wildflower-meadow-by-hipkiddesigns', 'path': '/en/fabric/6782514-eame-s-wildflower-meadow-by-hipkiddesigns', 'scraped': 0}, {'id': '7368347', 'slug': 'dear-clementine-oranges-teal-by-crystal_walen', 'path': '/en/fabric/7368347-dear-clementine-oranges-teal-by-crystal_walen', 'scraped': 0}, {'id': '8405290', 'slug': 'fable-floral-teal-jumbo-by-nouveau_bohemian', 'path': '/en/fabric/8405290-fable-floral-teal-jumbo-by-nouveau_bohemian', 'scraped': 0}, {'id': '7522587', 'slug': 'save-honey-bees-large-new-by-fernlesliestudio', 'path': '/en/fabric/7522587-save-honey-bees-large-new-by-fernlesliestudio', 'scraped': 0}, {'id': '10704201', 'slug': 'ew-covid-grey-by-kindermama', 'path': '/en/fabric/10704201-ew-covid-grey-by-kindermama', 'scraped': 0}, {'id': '8286001', 'slug': 'hanging-out-by-sarah_knight', 'path': '/en/fabric/8286001-hanging-out-by-sarah_knight', 'scraped': 0}, {'id': '8197261', 'slug': 'night-sky-stars-midnight-blue-by-at_the_cottage', 'path': '/en/fabric/8197261-night-sky-stars-midnight-blue-by-at_the_cottage', 'scraped': 0}, {'id': '5378956', 'slug': 'under-water-by-lavish_season', 'path': '/en/fabric/5378956-under-water-by-lavish_season', 'scraped': 0}, {'id': '7236018', 'slug': 'native-eucalyptus-leaves-edition-1-fabric-wallpaper-by-erin__kendal', 'path': '/en/fabric/7236018-native-eucalyptus-leaves-edition-1-fabric-wallpaper-by-erin__kendal', 'scraped': 0}, {'id': '5822747', 'slug': 'black-white-haunted-occult-by-xoxotique', 'path': '/en/fabric/5822747-black-white-haunted-occult-by-xoxotique', 'scraped': 0}, {'id': '5279418', 'slug': 'navy-floral-by-crystal_walen', 'path': '/en/fabric/5279418-navy-floral-by-crystal_walen', 'scraped': 0}, {'id': '6545640', 'slug': 'southdown-tartan-6-tan-black-white-by-weavingmajor', 'path': '/en/fabric/6545640-southdown-tartan-6-tan-black-white-by-weavingmajor', 'scraped': 0}, {'id': '1112778', 'slug': 'rosie-riveter-by-spacefem', 'path': '/en/fabric/1112778-rosie-riveter-by-spacefem', 'scraped': 0}, {'id': '8345787', 'slug': 'plain-white-solid-white-plain-unprinted-fabric-by-erin__kendal', 'path': '/en/fabric/8345787-plain-white-solid-white-plain-unprinted-fabric-by-erin__kendal', 'scraped': 0}, {'id': '9069096', 'slug': 'black-cat-butterfly-garden-by-boszorka', 'path': '/en/fabric/9069096-black-cat-butterfly-garden-by-boszorka', 'scraped': 0}, {'id': '7662668', 'slug': 'mermaid-music-by-ceciliamok', 'path': '/en/fabric/7662668-mermaid-music-by-ceciliamok', 'scraped': 0}, {'id': '7137898', 'slug': 'sierra-floral-by-crystal_walen', 'path': '/en/fabric/7137898-sierra-floral-by-crystal_walen', 'scraped': 0}, {'id': '6864327', 'slug': 'love-lips-red-by-hipkiddesigns', 'path': '/en/fabric/6864327-love-lips-red-by-hipkiddesigns', 'scraped': 0}, {'id': '8692520', 'slug': 'bees-lemons-large-blue-original-colors-by-fernlesliestudio', 'path': '/en/fabric/8692520-bees-lemons-large-blue-original-colors-by-fernlesliestudio', 'scraped': 0}, {'id': '8091225', 'slug': 'dark-floral-black-roses-on-black-moody-floral-jumbo-size-by-mlags', 'path': '/en/fabric/8091225-dark-floral-black-roses-on-black-moody-floral-jumbo-size-by-mlags', 'scraped': 0}, {'id': '2760166', 'slug': 'chicken-boots-knit-fabric-regular-size-by-chickenboots', 'path': '/en/fabric/2760166-chicken-boots-knit-fabric-regular-size-by-chickenboots', 'scraped': 0}, {'id': '7661255', 'slug': 'just-jellies-jellyfish-by-katerhees', 'path': '/en/fabric/7661255-just-jellies-jellyfish-by-katerhees', 'scraped': 0}, {'id': '9709002', 'slug': 'tiger-peacock-large-scale-by-sveta_aho', 'path': '/en/fabric/9709002-tiger-peacock-large-scale-by-sveta_aho', 'scraped': 0}, {'id': '6675487', 'slug': 'botanic-garden-by-irishvikingdesigns', 'path': '/en/fabric/6675487-botanic-garden-by-irishvikingdesigns', 'scraped': 0}, {'id': '7944022', 'slug': 'golden-girls-illustration-peach-by-yesterdaycollection', 'path': '/en/fabric/7944022-golden-girls-illustration-peach-by-yesterdaycollection', 'scraped': 0}, {'id': '6812243', 'slug': 'cute-kawaii-sushi-small-size-by-penguinhouse', 'path': '/en/fabric/6812243-cute-kawaii-sushi-small-size-by-penguinhouse', 'scraped': 0}, {'id': '7936102', 'slug': 'bats-hearts-pink-background-by-andrea_zuill', 'path': '/en/fabric/7936102-bats-hearts-pink-background-by-andrea_zuill', 'scraped': 0}, {'id': '8039248', 'slug': 'forest-animal-hot-air-balloon-night-adventure-by-at_the_cottage', 'path': '/en/fabric/8039248-forest-animal-hot-air-balloon-night-adventure-by-at_the_cottage', 'scraped': 0}, {'id': '7679631', 'slug': 'scattered-earth-tones-watercolor-rainbows-by-anniemontgomerydesign', 'path': '/en/fabric/7679631-scattered-earth-tones-watercolor-rainbows-by-anniemontgomerydesign', 'scraped': 0}, {'id': '2794616', 'slug': 'rummy-royal-game-mat-by-mousehaus', 'path': '/en/fabric/2794616-rummy-royal-game-mat-by-mousehaus', 'scraped': 0}, {'id': '7790777', 'slug': 'turtles-aqua-blue-by-gingerlique', 'path': '/en/fabric/7790777-turtles-aqua-blue-by-gingerlique', 'scraped': 0}, {'id': '703426', 'slug': 'elephant-march-by-endemic', 'path': '/en/fabric/703426-elephant-march-by-endemic', 'scraped': 0}, {'id': '509390', 'slug': 'spoonflower-color-map-by-spoonflower_help', 'path': '/en/fabric/509390-spoonflower-color-map-by-spoonflower_help', 'scraped': 0}, {'id': '6444170', 'slug': 'catching-fireflies-by-thestorysmith', 'path': '/en/fabric/6444170-catching-fireflies-by-thestorysmith', 'scraped': 0}, {'id': '5969845', 'slug': 'woodland-gnomes-by-shelbyallison', 'path': '/en/fabric/5969845-woodland-gnomes-by-shelbyallison', 'scraped': 0}, {'id': '5313150', 'slug': 'japanese-water-garden-black-by-designed_by_debby', 'path': '/en/fabric/5313150-japanese-water-garden-black-by-designed_by_debby', 'scraped': 0}, {'id': '8619105', 'slug': 'flight-feathers-painted-by-xoxotique', 'path': '/en/fabric/8619105-flight-feathers-painted-by-xoxotique', 'scraped': 0}, {'id': '254642', 'slug': 'stained-glass-rose-windows-by-sammyk', 'path': '/en/fabric/254642-stained-glass-rose-windows-by-sammyk', 'scraped': 0}, {'id': '7502637', 'slug': 'fable-floral-black-jumbo-by-nouveau_bohemian', 'path': '/en/fabric/7502637-fable-floral-black-jumbo-by-nouveau_bohemian', 'scraped': 0}, {'id': '7702196', 'slug': 'fable-floral-teal-med-by-nouveau_bohemian', 'path': '/en/fabric/7702196-fable-floral-teal-med-by-nouveau_bohemian', 'scraped': 0}, {'id': '6079351', 'slug': 'josie-meadow-floral-by-sweeterthanhoney', 'path': '/en/fabric/6079351-josie-meadow-floral-by-sweeterthanhoney', 'scraped': 0}, {'id': '8985918', 'slug': 'sunflowers-cream-7x7-by-indybloomdesign', 'path': '/en/fabric/8985918-sunflowers-cream-7x7-by-indybloomdesign', 'scraped': 0}, {'id': '3817098', 'slug': 'math-count-on-by-sammyk', 'path': '/en/fabric/3817098-math-count-on-by-sammyk', 'scraped': 0}, {'id': '7872207', 'slug': 'art-deco-cranes-by-katerhees', 'path': '/en/fabric/7872207-art-deco-cranes-by-katerhees', 'scraped': 0}, {'id': '8834187', 'slug': 'mid-century-kaleidoscope-by-ceciliamok', 'path': '/en/fabric/8834187-mid-century-kaleidoscope-by-ceciliamok', 'scraped': 0}, {'id': '9923309', 'slug': 'tiny-maybe-swearing-will-help-i-use-bad-words-by-cynthiafrenette', 'path': '/en/fabric/9923309-tiny-maybe-swearing-will-help-i-use-bad-words-by-cynthiafrenette', 'scraped': 0}, {'id': '6178734', 'slug': 'fable-floral-blush-med-by-nouveau_bohemian', 'path': '/en/fabric/6178734-fable-floral-blush-med-by-nouveau_bohemian', 'scraped': 0}, {'id': '11160216', 'slug': 'midcentury-sunflowers-by-ottomanbrim', 'path': '/en/fabric/11160216-midcentury-sunflowers-by-ottomanbrim', 'scraped': 0}, {'id': '8589383', 'slug': 'art-deco-swans-cream-on-black-by-katerhees', 'path': '/en/fabric/8589383-art-deco-swans-cream-on-black-by-katerhees', 'scraped': 0}, {'id': '8577014', 'slug': 'dear-clementine-oranges-on-white-by-crystal_walen', 'path': '/en/fabric/8577014-dear-clementine-oranges-on-white-by-crystal_walen', 'scraped': 0}, {'id': '1864046', 'slug': 'blackest-black-solid-by-peacoquettedesigns', 'path': '/en/fabric/1864046-blackest-black-solid-by-peacoquettedesigns', 'scraped': 0}, {'id': '5880084', 'slug': 'mod-triangles-gold-indigo-by-crystal_walen', 'path': '/en/fabric/5880084-mod-triangles-gold-indigo-by-crystal_walen', 'scraped': 0}, {'id': '5131007', 'slug': 'scandinavian-sweet-hedgehog-illustration-kids-gender-neutral-black-white-by-littlesmilemakers', 'path': '/en/fabric/5131007-scandinavian-sweet-hedgehog-illustration-kids-gender-neutral-black-white-by-littlesmilemakers', 'scraped': 0}, {'id': '11484029', 'slug': 'wild-grasses-by-ninola-design', 'path': '/en/fabric/11484029-wild-grasses-by-ninola-design', 'scraped': 0}, {'id': '6700072', 'slug': 'bohemian-summer-by-camcreative', 'path': '/en/fabric/6700072-bohemian-summer-by-camcreative', 'scraped': 0}, {'id': '9608189', 'slug': 'art-nouveau-poppy-red-wallpaper-by-bamokreativ', 'path': '/en/fabric/9608189-art-nouveau-poppy-red-wallpaper-by-bamokreativ', 'scraped': 0}, {'id': '9155687', 'slug': 'galaxy-deep-space-seamless-thousands-stars-starry-night-sky-by-rebecca_reck_art', 'path': '/en/fabric/9155687-galaxy-deep-space-seamless-thousands-stars-starry-night-sky-by-rebecca_reck_art', 'scraped': 0}, {'id': '5544045', 'slug': 'napoleonic-bees-faux-gilt-on-blackest-black-by-peacoquettedesigns', 'path': '/en/fabric/5544045-napoleonic-bees-faux-gilt-on-blackest-black-by-peacoquettedesigns', 'scraped': 0}, {'id': '5939834', 'slug': 'classic-leopard-by-cinneworthington', 'path': '/en/fabric/5939834-classic-leopard-by-cinneworthington', 'scraped': 0}, {'id': '5964319', 'slug': 'hearts-on-grey-linen-valentines-day-by-littlearrowdesign', 'path': '/en/fabric/5964319-hearts-on-grey-linen-valentines-day-by-littlearrowdesign', 'scraped': 0}, {'id': '7748646', 'slug': 'emerald-eden-by-catalinakim', 'path': '/en/fabric/7748646-emerald-eden-by-catalinakim', 'scraped': 0}, {'id': '5839396', 'slug': 'spectacular-cats-by-cynthia_arre', 'path': '/en/fabric/5839396-spectacular-cats-by-cynthia_arre', 'scraped': 0}, {'id': '2623675', 'slug': 'black-white-music-notes-by-inspirationz', 'path': '/en/fabric/2623675-black-white-music-notes-by-inspirationz', 'scraped': 0}, {'id': '9406268', 'slug': 'ruth-bader-ginsburg-rbg-bust-black-tiny-by-katerhees', 'path': '/en/fabric/9406268-ruth-bader-ginsburg-rbg-bust-black-tiny-by-katerhees', 'scraped': 0}, {'id': '6303118', 'slug': 'cats-black-by-kimsa', 'path': '/en/fabric/6303118-cats-black-by-kimsa', 'scraped': 0}, {'id': '6590171', 'slug': 'mermaid-scales-by-elladorine', 'path': '/en/fabric/6590171-mermaid-scales-by-elladorine', 'scraped': 0}, {'id': '4830872', 'slug': 'cherry-blossom-watercolor-cherry-blossom-floral-by-magentarosedesigns', 'path': '/en/fabric/4830872-cherry-blossom-watercolor-cherry-blossom-floral-by-magentarosedesigns', 'scraped': 0}, {'id': '7685381', 'slug': 'dragon-fire-by-adenaj', 'path': '/en/fabric/7685381-dragon-fire-by-adenaj', 'scraped': 0}, {'id': '10307245', 'slug': 'golden-girls-faces-small-teal-by-chica_and_jo', 'path': '/en/fabric/10307245-golden-girls-faces-small-teal-by-chica_and_jo', 'scraped': 0}, {'id': '8190767', 'slug': 'christmas-gingerbread-cookies-on-dark-teal-small-by-heleen_vd_thillart', 'path': '/en/fabric/8190767-christmas-gingerbread-cookies-on-dark-teal-small-by-heleen_vd_thillart', 'scraped': 0}, {'id': '6075822', 'slug': 'soft-meadow-floral-by-sweeterthanhoney', 'path': '/en/fabric/6075822-soft-meadow-floral-by-sweeterthanhoney', 'scraped': 0}, {'id': '7137786', 'slug': 'genevieve-floral-by-crystal_walen', 'path': '/en/fabric/7137786-genevieve-floral-by-crystal_walen', 'scraped': 0}, {'id': '1306112', 'slug': 'opal-by-peacoquettedesigns', 'path': '/en/fabric/1306112-opal-by-peacoquettedesigns', 'scraped': 0}, {'id': '8345549', 'slug': 'freehand-hearts-bone-on-dusty-pink-by-erin__kendal', 'path': '/en/fabric/8345549-freehand-hearts-bone-on-dusty-pink-by-erin__kendal', 'scraped': 0}, {'id': '4150617', 'slug': 'nod-house-bird-by-katerhees', 'path': '/en/fabric/4150617-nod-house-bird-by-katerhees', 'scraped': 0}, {'id': '7812388', 'slug': 'dnd-pattern-by-neonborealis', 'path': '/en/fabric/7812388-dnd-pattern-by-neonborealis', 'scraped': 0}, {'id': '4428343', 'slug': 'pussies-galore-size-2-by-hippopottermiss', 'path': '/en/fabric/4428343-pussies-galore-size-2-by-hippopottermiss', 'scraped': 0}, {'id': '3730688', 'slug': 'william-morris-pimpernel-original-on-black-by-peacoquettedesigns', 'path': '/en/fabric/3730688-william-morris-pimpernel-original-on-black-by-peacoquettedesigns', 'scraped': 0}, {'id': '6327300', 'slug': 'call-mountains-evergreen-med-by-nouveau_bohemian', 'path': '/en/fabric/6327300-call-mountains-evergreen-med-by-nouveau_bohemian', 'scraped': 0}, {'id': '7463028', 'slug': 'seamless-watercolor-larger-leaves-pattern-1-by-daily_miracles', 'path': '/en/fabric/7463028-seamless-watercolor-larger-leaves-pattern-1-by-daily_miracles', 'scraped': 0}, {'id': '6976212', 'slug': 'christmas-gnomes-by-heartsandsharts', 'path': '/en/fabric/6976212-christmas-gnomes-by-heartsandsharts', 'scraped': 0}, {'id': '7924771', 'slug': 'mod-triangles-emerald-teal-by-crystal_walen', 'path': '/en/fabric/7924771-mod-triangles-emerald-teal-by-crystal_walen', 'scraped': 0}]\n"
     ]
    }
   ],
   "source": [
    "print(datas)"
   ]
  },
  {
   "cell_type": "code",
   "execution_count": 15,
   "metadata": {},
   "outputs": [
    {
     "output_type": "execute_result",
     "data": {
      "text/plain": [
       "         id                                               slug  \\\n",
       "0   8056679    ruth-bader-ginsburg-rbg-bust-black-by-katerhees   \n",
       "1   4981816            black-white-dogs-by-littleislandcompany   \n",
       "2   6782514          eame-s-wildflower-meadow-by-hipkiddesigns   \n",
       "3   7368347      dear-clementine-oranges-teal-by-crystal_walen   \n",
       "4   8405290        fable-floral-teal-jumbo-by-nouveau_bohemian   \n",
       "..      ...                                                ...   \n",
       "79  3730688  william-morris-pimpernel-original-on-black-by-...   \n",
       "80  6327300   call-mountains-evergreen-med-by-nouveau_bohemian   \n",
       "81  7463028  seamless-watercolor-larger-leaves-pattern-1-by...   \n",
       "82  6976212                christmas-gnomes-by-heartsandsharts   \n",
       "83  7924771        mod-triangles-emerald-teal-by-crystal_walen   \n",
       "\n",
       "                                                 path  scraped  \n",
       "0   /en/fabric/8056679-ruth-bader-ginsburg-rbg-bus...        0  \n",
       "1   /en/fabric/4981816-black-white-dogs-by-littlei...        0  \n",
       "2   /en/fabric/6782514-eame-s-wildflower-meadow-by...        0  \n",
       "3   /en/fabric/7368347-dear-clementine-oranges-tea...        0  \n",
       "4   /en/fabric/8405290-fable-floral-teal-jumbo-by-...        0  \n",
       "..                                                ...      ...  \n",
       "79  /en/fabric/3730688-william-morris-pimpernel-or...        0  \n",
       "80  /en/fabric/6327300-call-mountains-evergreen-me...        0  \n",
       "81  /en/fabric/7463028-seamless-watercolor-larger-...        0  \n",
       "82  /en/fabric/6976212-christmas-gnomes-by-heartsa...        0  \n",
       "83  /en/fabric/7924771-mod-triangles-emerald-teal-...        0  \n",
       "\n",
       "[84 rows x 4 columns]"
      ],
      "text/html": "<div>\n<style scoped>\n    .dataframe tbody tr th:only-of-type {\n        vertical-align: middle;\n    }\n\n    .dataframe tbody tr th {\n        vertical-align: top;\n    }\n\n    .dataframe thead th {\n        text-align: right;\n    }\n</style>\n<table border=\"1\" class=\"dataframe\">\n  <thead>\n    <tr style=\"text-align: right;\">\n      <th></th>\n      <th>id</th>\n      <th>slug</th>\n      <th>path</th>\n      <th>scraped</th>\n    </tr>\n  </thead>\n  <tbody>\n    <tr>\n      <th>0</th>\n      <td>8056679</td>\n      <td>ruth-bader-ginsburg-rbg-bust-black-by-katerhees</td>\n      <td>/en/fabric/8056679-ruth-bader-ginsburg-rbg-bus...</td>\n      <td>0</td>\n    </tr>\n    <tr>\n      <th>1</th>\n      <td>4981816</td>\n      <td>black-white-dogs-by-littleislandcompany</td>\n      <td>/en/fabric/4981816-black-white-dogs-by-littlei...</td>\n      <td>0</td>\n    </tr>\n    <tr>\n      <th>2</th>\n      <td>6782514</td>\n      <td>eame-s-wildflower-meadow-by-hipkiddesigns</td>\n      <td>/en/fabric/6782514-eame-s-wildflower-meadow-by...</td>\n      <td>0</td>\n    </tr>\n    <tr>\n      <th>3</th>\n      <td>7368347</td>\n      <td>dear-clementine-oranges-teal-by-crystal_walen</td>\n      <td>/en/fabric/7368347-dear-clementine-oranges-tea...</td>\n      <td>0</td>\n    </tr>\n    <tr>\n      <th>4</th>\n      <td>8405290</td>\n      <td>fable-floral-teal-jumbo-by-nouveau_bohemian</td>\n      <td>/en/fabric/8405290-fable-floral-teal-jumbo-by-...</td>\n      <td>0</td>\n    </tr>\n    <tr>\n      <th>...</th>\n      <td>...</td>\n      <td>...</td>\n      <td>...</td>\n      <td>...</td>\n    </tr>\n    <tr>\n      <th>79</th>\n      <td>3730688</td>\n      <td>william-morris-pimpernel-original-on-black-by-...</td>\n      <td>/en/fabric/3730688-william-morris-pimpernel-or...</td>\n      <td>0</td>\n    </tr>\n    <tr>\n      <th>80</th>\n      <td>6327300</td>\n      <td>call-mountains-evergreen-med-by-nouveau_bohemian</td>\n      <td>/en/fabric/6327300-call-mountains-evergreen-me...</td>\n      <td>0</td>\n    </tr>\n    <tr>\n      <th>81</th>\n      <td>7463028</td>\n      <td>seamless-watercolor-larger-leaves-pattern-1-by...</td>\n      <td>/en/fabric/7463028-seamless-watercolor-larger-...</td>\n      <td>0</td>\n    </tr>\n    <tr>\n      <th>82</th>\n      <td>6976212</td>\n      <td>christmas-gnomes-by-heartsandsharts</td>\n      <td>/en/fabric/6976212-christmas-gnomes-by-heartsa...</td>\n      <td>0</td>\n    </tr>\n    <tr>\n      <th>83</th>\n      <td>7924771</td>\n      <td>mod-triangles-emerald-teal-by-crystal_walen</td>\n      <td>/en/fabric/7924771-mod-triangles-emerald-teal-...</td>\n      <td>0</td>\n    </tr>\n  </tbody>\n</table>\n<p>84 rows × 4 columns</p>\n</div>"
     },
     "metadata": {},
     "execution_count": 15
    }
   ],
   "source": [
    "df = pd.DataFrame(datas)\n",
    "df"
   ]
  },
  {
   "cell_type": "code",
   "execution_count": 33,
   "metadata": {},
   "outputs": [],
   "source": [
    "df.to_csv('idandslug.csv', index=False)"
   ]
  },
  {
   "source": [
    "# Async Scraping with Chromedriver and arsenic"
   ],
   "cell_type": "markdown",
   "metadata": {}
  },
  {
   "cell_type": "code",
   "execution_count": 17,
   "metadata": {},
   "outputs": [
    {
     "output_type": "stream",
     "name": "stdout",
     "text": [
      "Collecting arsenic\n",
      "  Downloading arsenic-20.9-py3-none-any.whl (17 kB)\n",
      "Collecting aiohttp>=2\n",
      "  Downloading aiohttp-3.7.4.post0-cp37-cp37m-win_amd64.whl (630 kB)\n",
      "Collecting structlog<21.0.0,>=20.1.0\n",
      "  Downloading structlog-20.2.0-py2.py3-none-any.whl (49 kB)\n",
      "Requirement already satisfied: attrs>=17.4.0 in c:\\program files\\python37\\lib\\site-packages (from arsenic) (19.3.0)\n",
      "Requirement already satisfied: typing-extensions>=3.6.5 in c:\\program files\\python37\\lib\\site-packages (from aiohttp>=2->arsenic) (3.7.4.3)\n",
      "Collecting async-timeout<4.0,>=3.0\n",
      "  Downloading async_timeout-3.0.1-py3-none-any.whl (8.2 kB)\n",
      "Collecting multidict<7.0,>=4.5\n",
      "  Downloading multidict-5.1.0-cp37-cp37m-win_amd64.whl (48 kB)\n",
      "Requirement already satisfied: chardet<5.0,>=2.0 in c:\\program files\\python37\\lib\\site-packages (from aiohttp>=2->arsenic) (3.0.4)\n",
      "Collecting yarl<2.0,>=1.0\n",
      "  Downloading yarl-1.6.3-cp37-cp37m-win_amd64.whl (124 kB)\n",
      "Requirement already satisfied: idna>=2.0 in c:\\program files\\python37\\lib\\site-packages (from yarl<2.0,>=1.0->aiohttp>=2->arsenic) (2.8)\n",
      "Installing collected packages: multidict, yarl, async-timeout, structlog, aiohttp, arsenic\n",
      "Successfully installed aiohttp-3.7.4.post0 arsenic-20.9 async-timeout-3.0.1 multidict-5.1.0 structlog-20.2.0 yarl-1.6.3\n",
      "WARNING: You are using pip version 21.0.1; however, version 21.1.1 is available.\n",
      "You should consider upgrading via the 'c:\\program files\\python37\\python.exe -m pip install --upgrade pip' command.\n"
     ]
    }
   ],
   "source": [
    "!pip install arsenic"
   ]
  },
  {
   "source": [
    "#### %%writefile file_name, writes the code in the cell, to an external file, provided by the file name,  \n",
    "#### We did that here to avoid clashing codes event loop with jupyters eventloop."
   ],
   "cell_type": "markdown",
   "metadata": {}
  },
  {
   "cell_type": "code",
   "execution_count": 47,
   "metadata": {},
   "outputs": [
    {
     "output_type": "stream",
     "name": "stdout",
     "text": [
      "Overwriting async_scrape_6.py\n"
     ]
    }
   ],
   "source": [
    "%%writefile async_scrape_6.py\n",
    "# Recording time.\n",
    "import os\n",
    "import asyncio\n",
    "import itertools\n",
    "import re\n",
    "import time\n",
    "import pathlib\n",
    "\n",
    "import pandas as pd\n",
    "from arsenic import (get_session, keys, browsers, services)\n",
    "from requests_html import HTML\n",
    "\n",
    "def store_links_as_df_pickle(datas:list, path:str='links.pkl')-> pd.DataFrame:\n",
    "\n",
    "    new_df = pd.DataFrame(datas, index='id')\n",
    "\n",
    "    if pathlib.Path(path).exists():                     # if a previous dataframe pickle exists.\n",
    "        og_df = pd.read_pickle(path)                    # get previous df\n",
    "        df = pd.concat([og_df, new_df], sort=False)     # concatinate old & new df\n",
    "        df.drop_duplicates(subset=['id'], inplace=True) # droping rows with same product id, avoid duplication.\n",
    "        df.to_pickle(path)\n",
    "        return df\n",
    "    else:    \n",
    "        new_df.to_pickle(path)\n",
    "        return new_df\n",
    "\n",
    "async def extract_id_slug(url_path: str)-> tuple:\n",
    "    \"\"\"separates product id and product slug, from product link.\"\"\"\n",
    "\n",
    "    regex = r\"^[^\\s]+/(?P<id>\\d+)-(?P<slug>[\\w_-]+)$\"\n",
    "    group = re.match(regex, url_path)\n",
    "    if not group:\n",
    "        return (None, None)\n",
    "    return (group['id'], group['slug'])\n",
    "\n",
    "async def get_fabric_links(html_body: str)-> list:\n",
    "\n",
    "    html_r = HTML(html=html_body)\n",
    "    fabric_links = list(x for x in html_r.links if '/en/fabric' in x)\n",
    "    datas = list()\n",
    "\n",
    "    for link in fabric_links:\n",
    "        id_, slug_ = await extract_id_slug(link)\n",
    "        data = {\n",
    "            'id': id_,\n",
    "            'slug': slug_,\n",
    "            'path': link,\n",
    "            'scraped': 0\n",
    "        }\n",
    "        datas.append(data)\n",
    "\n",
    "    return datas\n",
    "\n",
    "async def scraper(url:str, i=-1, timeout:int=60, start=None)-> list:\n",
    "    \"\"\"Scrapes the HTML of the passed URL using arsenic webdriver.\n",
    "    Returns a list of dictionaries, with product id, slug, link.\"\"\"\n",
    "\n",
    "    service = services.Chromedriver()\n",
    "    browser = browsers.Chrome()\n",
    "    browser.capabilities = {\n",
    "        'goog:chromeOptions': {'args': ['--headless', '--disable-gpu']}\n",
    "    }\n",
    "\n",
    "    async with get_session(service, browser) as session:\n",
    "        # if the page doesn't respond, return an empty URLs list.\n",
    "        try:\n",
    "            await asyncio.wait_for(session.get(url), timeout=60)\n",
    "        except asyncio.TimeoutError:\n",
    "            return []\n",
    "\n",
    "        body = await session.get_page_source()\n",
    "        links = await get_fabric_links(body)\n",
    "\n",
    "        if start is not None:\n",
    "            end = time.time() - start\n",
    "            print(f\"{i} took {end} seconds\")\n",
    "\n",
    "        return links\n",
    "\n",
    "async def run(urls:list, timeout:int=60, start=None)->list:\n",
    "    \"\"\"\n",
    "    attr:\n",
    "        urls(list): list of URLs of webpages to scrape.\n",
    "        timeout(int): timeout for async.\"\"\"\n",
    "\n",
    "    site_links = list()\n",
    "    # df = store_links_as_df_pickle(links)\n",
    "\n",
    "    for i, url in enumerate(urls):\n",
    "        site_links.append(\n",
    "            asyncio.create_task(scraper(url, i=i, start=start))\n",
    "        )\n",
    "    \n",
    "    list_of_links = await asyncio.gather(*site_links)\n",
    "    return list_of_links\n",
    "\n",
    "\n",
    "if __name__ == \"__main__\":\n",
    "    urls = [\"https://www.spoonflower.com/en/shop?on=fabric&page_offset=1\",\n",
    "            \"https://www.spoonflower.com/en/shop?on=fabric&page_offset=2\",\n",
    "            \"https://www.spoonflower.com/en/shop?on=fabric&page_offset=3\",]\n",
    "\n",
    "    start = time.time()\n",
    "    results = asyncio.run(run(urls, timeout=30, start=start))\n",
    "    end = time.time() - start\n",
    "    print(f\"Total time is {end}\")\n",
    "    print(f\"length of site_links list: {len(results)}\")\n",
    "\n"
   ]
  },
  {
   "cell_type": "code",
   "execution_count": 48,
   "metadata": {},
   "outputs": [
    {
     "output_type": "execute_result",
     "data": {
      "text/plain": [
       "0     /en/fabric/7502637-fable-floral-black-jumbo-by...\n",
       "1     /en/fabric/9608189-art-nouveau-poppy-red-wallp...\n",
       "2     /en/fabric/9155687-galaxy-deep-space-seamless-...\n",
       "3     /en/fabric/6812243-cute-kawaii-sushi-small-siz...\n",
       "4     /en/fabric/8091225-dark-floral-black-roses-on-...\n",
       "                            ...                        \n",
       "79    /en/fabric/6075822-soft-meadow-floral-by-sweet...\n",
       "80    /en/fabric/2760166-chicken-boots-knit-fabric-r...\n",
       "81             /en/fabric/7685381-dragon-fire-by-adenaj\n",
       "82       /en/fabric/7812388-dnd-pattern-by-neonborealis\n",
       "83    /en/fabric/509390-spoonflower-color-map-by-spo...\n",
       "Name: path, Length: 84, dtype: object"
      ]
     },
     "metadata": {},
     "execution_count": 48
    }
   ],
   "source": [
    "import pandas as pd\n",
    "df_pickle = pd.read_pickle('links.pkl')\n",
    "\n",
    "# df_pickle.drop_duplicates(subset=['id'], inplace=True)\n",
    "\n",
    "df_pickle['path']"
   ]
  },
  {
   "cell_type": "code",
   "execution_count": 43,
   "metadata": {},
   "outputs": [
    {
     "output_type": "stream",
     "name": "stdout",
     "text": [
      "['https://www.spoonflower.com/en/shop?on=fabric&page_offset=1', 'https://www.spoonflower.com/en/shop?on=fabric&page_offset=2', 'https://www.spoonflower.com/en/shop?on=fabric&page_offset=3', 'https://www.spoonflower.com/en/shop?on=fabric&page_offset=4', 'https://www.spoonflower.com/en/shop?on=fabric&page_offset=5', 'https://www.spoonflower.com/en/shop?on=fabric&page_offset=6', 'https://www.spoonflower.com/en/shop?on=fabric&page_offset=7', 'https://www.spoonflower.com/en/shop?on=fabric&page_offset=8', 'https://www.spoonflower.com/en/shop?on=fabric&page_offset=9', 'https://www.spoonflower.com/en/shop?on=fabric&page_offset=10', 'https://www.spoonflower.com/en/shop?on=fabric&page_offset=11', 'https://www.spoonflower.com/en/shop?on=fabric&page_offset=12', 'https://www.spoonflower.com/en/shop?on=fabric&page_offset=13', 'https://www.spoonflower.com/en/shop?on=fabric&page_offset=14', 'https://www.spoonflower.com/en/shop?on=fabric&page_offset=15', 'https://www.spoonflower.com/en/shop?on=fabric&page_offset=16', 'https://www.spoonflower.com/en/shop?on=fabric&page_offset=17', 'https://www.spoonflower.com/en/shop?on=fabric&page_offset=18', 'https://www.spoonflower.com/en/shop?on=fabric&page_offset=19', 'https://www.spoonflower.com/en/shop?on=fabric&page_offset=20', 'https://www.spoonflower.com/en/shop?on=fabric&page_offset=21', 'https://www.spoonflower.com/en/shop?on=fabric&page_offset=22', 'https://www.spoonflower.com/en/shop?on=fabric&page_offset=23', 'https://www.spoonflower.com/en/shop?on=fabric&page_offset=24', 'https://www.spoonflower.com/en/shop?on=fabric&page_offset=25', 'https://www.spoonflower.com/en/shop?on=fabric&page_offset=26', 'https://www.spoonflower.com/en/shop?on=fabric&page_offset=27', 'https://www.spoonflower.com/en/shop?on=fabric&page_offset=28', 'https://www.spoonflower.com/en/shop?on=fabric&page_offset=29', 'https://www.spoonflower.com/en/shop?on=fabric&page_offset=30', 'https://www.spoonflower.com/en/shop?on=fabric&page_offset=31', 'https://www.spoonflower.com/en/shop?on=fabric&page_offset=32', 'https://www.spoonflower.com/en/shop?on=fabric&page_offset=33', 'https://www.spoonflower.com/en/shop?on=fabric&page_offset=34', 'https://www.spoonflower.com/en/shop?on=fabric&page_offset=35', 'https://www.spoonflower.com/en/shop?on=fabric&page_offset=36', 'https://www.spoonflower.com/en/shop?on=fabric&page_offset=37', 'https://www.spoonflower.com/en/shop?on=fabric&page_offset=38', 'https://www.spoonflower.com/en/shop?on=fabric&page_offset=39', 'https://www.spoonflower.com/en/shop?on=fabric&page_offset=40', 'https://www.spoonflower.com/en/shop?on=fabric&page_offset=41', 'https://www.spoonflower.com/en/shop?on=fabric&page_offset=42', 'https://www.spoonflower.com/en/shop?on=fabric&page_offset=43', 'https://www.spoonflower.com/en/shop?on=fabric&page_offset=44', 'https://www.spoonflower.com/en/shop?on=fabric&page_offset=45', 'https://www.spoonflower.com/en/shop?on=fabric&page_offset=46', 'https://www.spoonflower.com/en/shop?on=fabric&page_offset=47', 'https://www.spoonflower.com/en/shop?on=fabric&page_offset=48', 'https://www.spoonflower.com/en/shop?on=fabric&page_offset=49', 'https://www.spoonflower.com/en/shop?on=fabric&page_offset=50', 'https://www.spoonflower.com/en/shop?on=fabric&page_offset=51', 'https://www.spoonflower.com/en/shop?on=fabric&page_offset=52', 'https://www.spoonflower.com/en/shop?on=fabric&page_offset=53', 'https://www.spoonflower.com/en/shop?on=fabric&page_offset=54', 'https://www.spoonflower.com/en/shop?on=fabric&page_offset=55', 'https://www.spoonflower.com/en/shop?on=fabric&page_offset=56', 'https://www.spoonflower.com/en/shop?on=fabric&page_offset=57', 'https://www.spoonflower.com/en/shop?on=fabric&page_offset=58', 'https://www.spoonflower.com/en/shop?on=fabric&page_offset=59', 'https://www.spoonflower.com/en/shop?on=fabric&page_offset=60', 'https://www.spoonflower.com/en/shop?on=fabric&page_offset=61', 'https://www.spoonflower.com/en/shop?on=fabric&page_offset=62', 'https://www.spoonflower.com/en/shop?on=fabric&page_offset=63', 'https://www.spoonflower.com/en/shop?on=fabric&page_offset=64', 'https://www.spoonflower.com/en/shop?on=fabric&page_offset=65', 'https://www.spoonflower.com/en/shop?on=fabric&page_offset=66', 'https://www.spoonflower.com/en/shop?on=fabric&page_offset=67', 'https://www.spoonflower.com/en/shop?on=fabric&page_offset=68', 'https://www.spoonflower.com/en/shop?on=fabric&page_offset=69', 'https://www.spoonflower.com/en/shop?on=fabric&page_offset=70', 'https://www.spoonflower.com/en/shop?on=fabric&page_offset=71', 'https://www.spoonflower.com/en/shop?on=fabric&page_offset=72', 'https://www.spoonflower.com/en/shop?on=fabric&page_offset=73', 'https://www.spoonflower.com/en/shop?on=fabric&page_offset=74', 'https://www.spoonflower.com/en/shop?on=fabric&page_offset=75', 'https://www.spoonflower.com/en/shop?on=fabric&page_offset=76', 'https://www.spoonflower.com/en/shop?on=fabric&page_offset=77', 'https://www.spoonflower.com/en/shop?on=fabric&page_offset=78', 'https://www.spoonflower.com/en/shop?on=fabric&page_offset=79', 'https://www.spoonflower.com/en/shop?on=fabric&page_offset=80', 'https://www.spoonflower.com/en/shop?on=fabric&page_offset=81', 'https://www.spoonflower.com/en/shop?on=fabric&page_offset=82', 'https://www.spoonflower.com/en/shop?on=fabric&page_offset=83', 'https://www.spoonflower.com/en/shop?on=fabric&page_offset=84', 'https://www.spoonflower.com/en/shop?on=fabric&page_offset=85', 'https://www.spoonflower.com/en/shop?on=fabric&page_offset=86', 'https://www.spoonflower.com/en/shop?on=fabric&page_offset=87', 'https://www.spoonflower.com/en/shop?on=fabric&page_offset=88', 'https://www.spoonflower.com/en/shop?on=fabric&page_offset=89', 'https://www.spoonflower.com/en/shop?on=fabric&page_offset=90', 'https://www.spoonflower.com/en/shop?on=fabric&page_offset=91', 'https://www.spoonflower.com/en/shop?on=fabric&page_offset=92', 'https://www.spoonflower.com/en/shop?on=fabric&page_offset=93', 'https://www.spoonflower.com/en/shop?on=fabric&page_offset=94', 'https://www.spoonflower.com/en/shop?on=fabric&page_offset=95', 'https://www.spoonflower.com/en/shop?on=fabric&page_offset=96', 'https://www.spoonflower.com/en/shop?on=fabric&page_offset=97', 'https://www.spoonflower.com/en/shop?on=fabric&page_offset=98', 'https://www.spoonflower.com/en/shop?on=fabric&page_offset=99', 'https://www.spoonflower.com/en/shop?on=fabric&page_offset=100', 'https://www.spoonflower.com/en/shop?on=fabric&page_offset=101', 'https://www.spoonflower.com/en/shop?on=fabric&page_offset=102', 'https://www.spoonflower.com/en/shop?on=fabric&page_offset=103', 'https://www.spoonflower.com/en/shop?on=fabric&page_offset=104', 'https://www.spoonflower.com/en/shop?on=fabric&page_offset=105', 'https://www.spoonflower.com/en/shop?on=fabric&page_offset=106', 'https://www.spoonflower.com/en/shop?on=fabric&page_offset=107', 'https://www.spoonflower.com/en/shop?on=fabric&page_offset=108', 'https://www.spoonflower.com/en/shop?on=fabric&page_offset=109', 'https://www.spoonflower.com/en/shop?on=fabric&page_offset=110', 'https://www.spoonflower.com/en/shop?on=fabric&page_offset=111', 'https://www.spoonflower.com/en/shop?on=fabric&page_offset=112', 'https://www.spoonflower.com/en/shop?on=fabric&page_offset=113', 'https://www.spoonflower.com/en/shop?on=fabric&page_offset=114', 'https://www.spoonflower.com/en/shop?on=fabric&page_offset=115', 'https://www.spoonflower.com/en/shop?on=fabric&page_offset=116', 'https://www.spoonflower.com/en/shop?on=fabric&page_offset=117', 'https://www.spoonflower.com/en/shop?on=fabric&page_offset=118', 'https://www.spoonflower.com/en/shop?on=fabric&page_offset=119']\n"
     ]
    }
   ],
   "source": [
    "k = list(f\"https://www.spoonflower.com/en/shop?on=fabric&page_offset={x}\" for x in range(1, 120))\n",
    "print(k)"
   ]
  },
  {
   "source": [
    "# Extracting Product data (Synchronously)."
   ],
   "cell_type": "markdown",
   "metadata": {}
  },
  {
   "cell_type": "code",
   "execution_count": 136,
   "metadata": {},
   "outputs": [],
   "source": [
    "import re\n",
    "import time\n",
    "\n",
    "import requests\n",
    "from requests_html import HTML\n",
    "from selenium import webdriver\n",
    "from selenium.webdriver.chrome.options import Options\n",
    "import pandas as pd\n",
    "from urllib.parse import urlparse\n",
    "\n",
    "def scraper(url: str):\n",
    "    \"\"\"Scrapes the HTML of the passed URL using selenium webdriver.\"\"\"\n",
    "    options = Options()\n",
    "    options.add_argument(\"--headless\")              # running chrome without opening the browser\n",
    "    driver = webdriver.Chrome(options=options)      # creating a webdriver instance with passed arguments\n",
    "    driver.get(url)\n",
    "    time.sleep(4)\n",
    "    return driver.page_source                       # getting the HTML\n",
    "\n",
    "def extract_id_slug(url_path: str):\n",
    "    \"\"\"separates product id and product slug, from product link.\"\"\"\n",
    "\n",
    "    parsed_url  = urlparse(url_path)\n",
    "    path        = parsed_url.path\n",
    "    regex       = r\"^[^\\s]+/(?P<id>\\d+)-(?P<slug>[\\w_-]+)$\"\n",
    "    group       = re.match(regex, path)\n",
    "    if not group:\n",
    "        return (None, None)\n",
    "    return (group['id'], group['slug'], path)"
   ]
  },
  {
   "source": [
    "#### Getting the HTML of the product detail page"
   ],
   "cell_type": "markdown",
   "metadata": {}
  },
  {
   "cell_type": "code",
   "execution_count": 139,
   "metadata": {},
   "outputs": [
    {
     "output_type": "execute_result",
     "data": {
      "text/plain": [
       "<HTML url='https://example.org/'>"
      ]
     },
     "metadata": {},
     "execution_count": 139
    }
   ],
   "source": [
    "url = \"https://www.spoonflower.com/en/shop?on=fabric\"\n",
    "url2 = \"https://www.spoonflower.com/en/fabric/6075822-soft-meadow-floral-by-sweeterthanhoney\"\n",
    "\n",
    "html_str = scraper(url2)\n",
    "content = HTML(html=html_str)\n",
    "content"
   ]
  },
  {
   "source": [
    "#### Extracting the product detail from product deatil page HTML"
   ],
   "cell_type": "markdown",
   "metadata": {}
  },
  {
   "cell_type": "code",
   "execution_count": 130,
   "metadata": {},
   "outputs": [],
   "source": [
    "def get_product_data(url, content):\n",
    "\n",
    "    id_, slug_, path = extract_id_slug(url)\n",
    "    title_elm        = content.find(\".design-title\")[0]\n",
    "    size_txt = content.find('#fabric-size')[0].text\n",
    "\n",
    "    data = {\n",
    "        'id': id_,\n",
    "        'slug': slug_,\n",
    "        'path': path,\n",
    "    }\n",
    "    title = None\n",
    "    if title_elm is None:\n",
    "        return data\n",
    "\n",
    "    #_________grabbing title_____________#\n",
    "    title = title_elm.text\n",
    "    #_________grabing size and dimension___________#\n",
    "    sizes = re.findall(r\"\\d+(?=\\scm)\", size_elm)\n",
    "    length, breadth = int(sizes[0]), int(sizes[1])\n",
    "    unit = re.findall(r\"(?<=\\d\\d\\s)\\w+\", size_elm)[0]\n",
    "    #_____________Grabbing price data_____________#\n",
    "    price = content.find(\".visuallyhidden span\")\n",
    "    amount = price[0].attrs['content']\n",
    "    currency = price[1].attrs['content']\n",
    "    #____________inserting data____________#\n",
    "    data['title']    = title\n",
    "    data['length']   = length\n",
    "    data['breadth']  = breadth\n",
    "    data['unit']     = unit\n",
    "    data['price']    = float(amount)\n",
    "    data['currency'] = currency\n",
    "    \n",
    "    return data"
   ]
  },
  {
   "cell_type": "code",
   "execution_count": 131,
   "metadata": {},
   "outputs": [
    {
     "output_type": "execute_result",
     "data": {
      "text/plain": [
       "{'id': '703426',\n",
       " 'slug': 'elephant-march-by-endemic',\n",
       " 'path': '/en/fabric/703426-elephant-march-by-endemic',\n",
       " 'title': 'elephant march',\n",
       " 'length': 53,\n",
       " 'breadth': 50,\n",
       " 'unit': 'cm',\n",
       " 'price': 10.58,\n",
       " 'currency': 'EUR'}"
      ]
     },
     "metadata": {},
     "execution_count": 131
    }
   ],
   "source": [
    "get_product_data(url, content)"
   ]
  },
  {
   "cell_type": "code",
   "execution_count": 141,
   "metadata": {},
   "outputs": [
    {
     "output_type": "execute_result",
     "data": {
      "text/plain": [
       "'Soft Meadow Floral'"
      ]
     },
     "metadata": {},
     "execution_count": 141
    }
   ],
   "source": [
    "content.find('.design-title')[0].text"
   ]
  },
  {
   "source": [
    "# Product Data Extraction (Async)"
   ],
   "cell_type": "markdown",
   "metadata": {}
  },
  {
   "cell_type": "code",
   "execution_count": 134,
   "metadata": {},
   "outputs": [
    {
     "output_type": "error",
     "ename": "SyntaxError",
     "evalue": "'await' outside async function (<ipython-input-134-1a6197ff75f8>, line 75)",
     "traceback": [
      "\u001b[1;36m  File \u001b[1;32m\"<ipython-input-134-1a6197ff75f8>\"\u001b[1;36m, line \u001b[1;32m75\u001b[0m\n\u001b[1;33m    \u001b[0m\n\u001b[1;37m    ^\u001b[0m\n\u001b[1;31mSyntaxError\u001b[0m\u001b[1;31m:\u001b[0m 'await' outside async function\n"
     ]
    }
   ],
   "source": [
    "# Scraping multiple URLs, i.e. multiple pages.\n",
    "%%writefile data_extraction.py\n",
    "\n",
    "import os\n",
    "import asyncio\n",
    "import itertools\n",
    "import re\n",
    "import time\n",
    "import pathlib\n",
    "from urllib.parse import urlparse\n",
    "\n",
    "import pandas as pd\n",
    "from arsenic import (get_session, keys, browsers, services)\n",
    "from requests_html import HTML\n",
    "\n",
    "def store_links_as_df_pickle(datas:list, path:str='links.pkl')-> pd.DataFrame:\n",
    "    \"\"\"Creates a Pandas DataFrame from the passed list, stores it in a pickle.\n",
    "    attr:\n",
    "        datas(list): List of dictionaries\n",
    "        path(str)  : path of a pickle file if exists\"\"\"\n",
    "\n",
    "    new_df = pd.DataFrame(datas, index='id')\n",
    "\n",
    "    if pathlib.Path(path).exists():                     # if a previous dataframe pickle exists.\n",
    "        og_df = pd.read_pickle(path)                    # get previous df\n",
    "        df = pd.concat([og_df, new_df], sort=False)     # concatinate old & new df\n",
    "        df.drop_duplicates(subset=['id'], inplace=True) # droping rows with same product id, avoid duplication.\n",
    "        df.to_pickle(path)\n",
    "        return df\n",
    "    else:    \n",
    "        new_df.to_pickle(path)\n",
    "        return new_df\n",
    "\n",
    "async def extract_id_slug(url_path:str)-> tuple:\n",
    "    \"\"\"separates product id and product slug, from product link.\"\"\"\n",
    "\n",
    "    parsed_url  = urlparse(url_path)\n",
    "    path        = parsed_url.path\n",
    "    regex = r\"^[^\\s]+/(?P<id>\\d+)-(?P<slug>[\\w_-]+)$\"\n",
    "    group = re.match(regex, url_path)\n",
    "    if not group:\n",
    "        return (None, None, path)\n",
    "    return (group['id'], group['slug'], path)\n",
    "\n",
    "async def get_parsable_html(raw_html:str)->HTML:\n",
    "    \"\"\"Takes a raw HTML string and returns parsable\n",
    "     requests_html.HTML object\"\"\"\n",
    "     \n",
    "    return HTML(html=raw_html)\n",
    "\n",
    "async def get_fabric_links(html_r:HTML)-> list:\n",
    "    \"\"\"Get relative links of fabric detail page from an requests_html.HTML object\"\"\"\n",
    "\n",
    "    fabric_links = list(x for x in html_r.links if '/en/fabric' in x)\n",
    "    datas = list()\n",
    "\n",
    "    for link in fabric_links:\n",
    "        id_, slug_, _ = await extract_id_slug(link)\n",
    "        data = {\n",
    "            'id': id_,\n",
    "            'slug': slug_,\n",
    "            'path': link,\n",
    "            'scraped': 0\n",
    "        }\n",
    "        datas.append(data)\n",
    "\n",
    "    return datas\n",
    "\n",
    "def get_product_data(url:str, html_r:HTML)->dict:\n",
    "\n",
    "    id_, slug_, path = await extract_id_slug(url)\n",
    "    title_elm        = content.find(\".design-title\")[0]\n",
    "    size_txt = content.find('#fabric-size')[0].text\n",
    "\n",
    "    data = {\n",
    "        'id': id_,\n",
    "        'slug': slug_,\n",
    "        'path': path,\n",
    "    }\n",
    "    title = None\n",
    "    if title_elm is None:\n",
    "        return data\n",
    "\n",
    "    #_________grabbing title_____________#\n",
    "    title = title_elm.text\n",
    "    #_________grabing size and dimension___________#\n",
    "    sizes = re.findall(r\"\\d+(?=\\scm)\", size_elm)\n",
    "    length, breadth = int(sizes[0]), int(sizes[1])\n",
    "    unit = re.findall(r\"(?<=\\d\\d\\s)\\w+\", size_elm)[0]\n",
    "    #_____________Grabbing price data_____________#\n",
    "    price = content.find(\".visuallyhidden span\")\n",
    "    amount = price[0].attrs['content']\n",
    "    currency = price[1].attrs['content']\n",
    "    #____________inserting data____________#\n",
    "    data['title']    = title\n",
    "    data['length']   = length\n",
    "    data['breadth']  = breadth\n",
    "    data['unit']     = unit\n",
    "    data['price']    = float(amount)\n",
    "    data['currency'] = currency\n",
    "    \n",
    "    return data\n",
    "\n",
    "async def scraper(url:str, i=-1, timeout:int=60, start=None)-> dict:\n",
    "    \"\"\"Scrapes the HTML of the passed URL using arsenic webdriver.\n",
    "    Returns a list of dictionaries, with product id, slug, link.\"\"\"\n",
    "\n",
    "    service = services.Chromedriver()\n",
    "    browser = browsers.Chrome()\n",
    "    browser.capabilities = {\n",
    "        'goog:chromeOptions': {'args': ['--headless', '--disable-gpu']}\n",
    "    }\n",
    "\n",
    "    async with get_session(service, browser) as session:\n",
    "        # if the page doesn't respond, return an empty URLs list.\n",
    "        try:\n",
    "            await asyncio.wait_for(session.get(url), timeout=60)\n",
    "        except asyncio.TimeoutError:\n",
    "            return []\n",
    "\n",
    "        await asyncio.sleep(10)\n",
    "        body = await session.get_page_source()      # getting raw HTML\n",
    "        html_r = await get_parsable_html(body)      # converting to parsable HTML\n",
    "        links = await get_fabric_links(html_r)      # getting relative links\n",
    "        product_data = await get_product_data(url, html_r)\n",
    "        \n",
    "        dataset = {\n",
    "            \"links\": links,\n",
    "            \"product_data\": product_data\n",
    "        }\n",
    "        #_____________printing time consumption_________________#\n",
    "        if start is not None:\n",
    "            end = time.time() - start\n",
    "            print(f\"{i} took {end} seconds\")\n",
    "\n",
    "        return dataset\n",
    "\n",
    "async def run(urls:list, timeout:int=60, start=None)->list:\n",
    "    \"\"\"\n",
    "    attr:\n",
    "        urls(list): list of URLs of webpages to scrape.\n",
    "        timeout(int): timeout for async.\"\"\"\n",
    "\n",
    "    site_links = list()\n",
    "    # df = store_links_as_df_pickle(links)\n",
    "\n",
    "    for i, url in enumerate(urls):\n",
    "        site_links.append(\n",
    "            asyncio.create_task(scraper(url, i=i, start=start))\n",
    "        )\n",
    "    \n",
    "    list_of_links = await asyncio.gather(*site_links)\n",
    "    return list_of_links\n",
    "\n",
    "\n",
    "if __name__ == \"__main__\":\n",
    "    start = time.time()\n",
    "    urls = [\"https://www.spoonflower.com/en/shop?on=fabric&page_offset=1\",\n",
    "            \"https://www.spoonflower.com/en/shop?on=fabric&page_offset=2\",]\n",
    "\n",
    "    results = asyncio.run(run(urls, timeout=30, start=start))\n",
    "\n",
    "    # df = asyncio.run(run(url))\n",
    "    print(f\"length of site_links list: {len(results)}\")\n"
   ]
  },
  {
   "cell_type": "code",
   "execution_count": null,
   "metadata": {},
   "outputs": [],
   "source": []
  }
 ],
 "metadata": {
  "kernelspec": {
   "name": "python37664bit2c9c6823d89c4cbc8aaa832172098654",
   "display_name": "Python 3.7.6 64-bit"
  },
  "language_info": {
   "codemirror_mode": {
    "name": "ipython",
    "version": 3
   },
   "file_extension": ".py",
   "mimetype": "text/x-python",
   "name": "python",
   "nbconvert_exporter": "python",
   "pygments_lexer": "ipython3",
   "version": "3.7.6"
  },
  "metadata": {
   "interpreter": {
    "hash": "0600588c3b5f4418cbe7b5ebc6825b479f3bc010269d8b60d75058cdd010adfe"
   }
  }
 },
 "nbformat": 4,
 "nbformat_minor": 4
}