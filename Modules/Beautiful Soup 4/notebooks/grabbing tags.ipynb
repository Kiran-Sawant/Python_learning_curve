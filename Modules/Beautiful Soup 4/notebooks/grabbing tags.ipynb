{
 "metadata": {
  "language_info": {
   "codemirror_mode": {
    "name": "ipython",
    "version": 3
   },
   "file_extension": ".py",
   "mimetype": "text/x-python",
   "name": "python",
   "nbconvert_exporter": "python",
   "pygments_lexer": "ipython3",
   "version": "3.7.6-final"
  },
  "orig_nbformat": 2,
  "kernelspec": {
   "name": "python3",
   "display_name": "Python 3",
   "language": "python"
  }
 },
 "nbformat": 4,
 "nbformat_minor": 2,
 "cells": [
  {
   "cell_type": "code",
   "execution_count": 1,
   "metadata": {},
   "outputs": [],
   "source": [
    "import bs4 as bs\n",
    "import urllib.request as request"
   ]
  },
  {
   "cell_type": "code",
   "execution_count": 5,
   "metadata": {},
   "outputs": [],
   "source": [
    "# Getting the HTML byte string.\n",
    "sauce = request.urlopen(\"https://pythonprogramming.net/parsememcparseface/\").read()\n",
    "# Creating a Soup object from the HTML.\n",
    "soup = bs.BeautifulSoup(sauce, 'lxml')"
   ]
  },
  {
   "cell_type": "code",
   "execution_count": 21,
   "metadata": {},
   "outputs": [
    {
     "output_type": "execute_result",
     "data": {
      "text/plain": [
       "<title>Python Programming Tutorials</title>"
      ]
     },
     "metadata": {},
     "execution_count": 21
    }
   ],
   "source": [
    "# Returns a title Tag element.\n",
    "soup.title"
   ]
  },
  {
   "cell_type": "code",
   "execution_count": 7,
   "metadata": {},
   "outputs": [
    {
     "output_type": "execute_result",
     "data": {
      "text/plain": [
       "'Python Programming Tutorials'"
      ]
     },
     "metadata": {},
     "execution_count": 7
    }
   ],
   "source": [
    "# Returns the text between the opening & closing title tags.\n",
    "soup.title.text"
   ]
  },
  {
   "cell_type": "code",
   "execution_count": 9,
   "metadata": {},
   "outputs": [
    {
     "output_type": "execute_result",
     "data": {
      "text/plain": [
       "'Python Programming Tutorials'"
      ]
     },
     "metadata": {},
     "execution_count": 9
    }
   ],
   "source": [
    "# Same as above but will return None if there is a child tag in between.\n",
    "soup.title.string"
   ]
  },
  {
   "cell_type": "code",
   "execution_count": 8,
   "metadata": {},
   "outputs": [
    {
     "output_type": "execute_result",
     "data": {
      "text/plain": [
       "'title'"
      ]
     },
     "metadata": {},
     "execution_count": 8
    }
   ],
   "source": [
    "# returns name of the tag.\n",
    "soup.title.name"
   ]
  },
  {
   "cell_type": "code",
   "execution_count": 23,
   "metadata": {},
   "outputs": [
    {
     "output_type": "execute_result",
     "data": {
      "text/plain": [
       "<head>\n",
       "<!--\n",
       "\t\tpalette:\n",
       "\t\tdark blue: #003F72\n",
       "\t\tyellow: #FFD166\n",
       "\t\tsalmon: #EF476F\n",
       "\t\toffwhite: #e7d7d7\n",
       "\t\tLight Blue: #118AB2\n",
       "\t\tLight green: #7DDF64\n",
       "\t\t-->\n",
       "<meta content=\"width=device-width, initial-scale=1.0\" name=\"viewport\"/>\n",
       "<title>Python Programming Tutorials</title>\n",
       "<meta content=\"Python Programming tutorials from beginner to advanced on a massive variety of topics. All video and text tutorials are free.\" name=\"description\"/>\n",
       "<link href=\"/static/favicon.ico\" rel=\"shortcut icon\"/>\n",
       "<link href=\"/static/css/materialize.min.css\" rel=\"stylesheet\"/>\n",
       "<link href=\"https://fonts.googleapis.com/icon?family=Material+Icons\" rel=\"stylesheet\"/>\n",
       "<meta content=\"3fLok05gk5gGtWd_VSXbSSSH27F2kr1QqcxYz9vYq2k\" name=\"google-site-verification\"/>\n",
       "<link href=\"/static/css/bootstrap.css\" rel=\"stylesheet\" type=\"text/css\"/>\n",
       "<!-- Compiled and minified CSS -->\n",
       "<!-- Compiled and minified JavaScript -->\n",
       "<script src=\"https://code.jquery.com/jquery-2.1.4.min.js\"></script>\n",
       "<script src=\"https://cdnjs.cloudflare.com/ajax/libs/materialize/0.97.3/js/materialize.min.js\"></script>\n",
       "<style>\n",
       "\t\t@media (min-width:992px) {\n",
       "\t\t#aside {\n",
       "\t\t\twidth:250px;\n",
       "\t\t}\n",
       "\t\tpre { tab-size: 4;}\n",
       "\t\t.btn {background-color:#FFD166;\n",
       "\t\t\t  color:#000;\n",
       "\t\t      height:auto;\n",
       "\t\t\t  font-color:#000;\n",
       "\t\t\t  }\n",
       "\t\t.btn:hover {background-color:#FFD166;\n",
       "\t\t\t\t\t}\n",
       "\n",
       "\n",
       "\t\t</style>\n",
       "<!-- Google Tracking -->\n",
       "<script>\n",
       "\t\t\t  (function(i,s,o,g,r,a,m){i['GoogleAnalyticsObject']=r;i[r]=i[r]||function(){\n",
       "\t\t\t  (i[r].q=i[r].q||[]).push(arguments)},i[r].l=1*new Date();a=s.createElement(o),\n",
       "\t\t\t  m=s.getElementsByTagName(o)[0];a.async=1;a.src=g;m.parentNode.insertBefore(a,m)\n",
       "\t\t\t  })(window,document,'script','//www.google-analytics.com/analytics.js','ga');\n",
       "              ga('config', 'UA-51891827-1', {'anonymize_ip': true});﻿\n",
       "\t\t\t  ga('create', 'UA-51891827-1', 'auto');\n",
       "\t\t\t  ga('send', 'pageview');\n",
       "\n",
       "\t\t</script>\n",
       "<script async=\"\" src=\"//pagead2.googlesyndication.com/pagead/js/adsbygoogle.js\"></script>\n",
       "<script>\n",
       "                         (adsbygoogle = window.adsbygoogle || []).push({\n",
       "                              google_ad_client: \"ca-pub-1579050400541873\",\n",
       "                              enable_page_level_ads: true\n",
       "                         });\n",
       "                    </script>\n",
       "</head>"
      ]
     },
     "metadata": {},
     "execution_count": 23
    }
   ],
   "source": [
    "# Returns a Tag object of the parent tag of the title tag.\n",
    "soup.title.parent"
   ]
  },
  {
   "source": [
    "# Soup.find_all('tag') method\n",
    "#### This method returns a list of Tag objects, of the tag passed."
   ],
   "cell_type": "markdown",
   "metadata": {}
  },
  {
   "cell_type": "code",
   "execution_count": 17,
   "metadata": {},
   "outputs": [
    {
     "output_type": "stream",
     "name": "stdout",
     "text": [
      "Oh, hello! This is a wonderful page meant to let you practice web scraping. This page was originally created to help people work with the Beautiful Soup 4 library.\nThe following table gives some general information for the following programming languages:\nI think it's clear that, on a scale of 1-10, python is:\nJavascript (dynamic data) test:\ny u bad tho?\nWhᶐt hαppéns now¿\nsitemap\nContact: Harrison@pythonprogramming.net.\nProgramming is a superpower.\n"
     ]
    }
   ],
   "source": [
    "# Getting all paragraph tags.\n",
    "paras = soup.find_all(name='p')\n",
    "\n",
    "# use prints one at a time.\n",
    "for para in paras:\n",
    "    # print(para)\n",
    "    # print(type(para))\n",
    "    # print(para.string)\n",
    "    print(para.text)"
   ]
  },
  {
   "source": [
    "### Tag.get(attr) returns the value of an attribute in a HTML tag.              "
   ],
   "cell_type": "markdown",
   "metadata": {}
  },
  {
   "cell_type": "code",
   "execution_count": 19,
   "metadata": {},
   "outputs": [
    {
     "output_type": "stream",
     "name": "stdout",
     "text": [
      "/\n#\n/\n/+=1/\n/support/\nhttps://goo.gl/7zgAVQ\n/login/\n/register/\n/\n/+=1/\n/support/\nhttps://goo.gl/7zgAVQ\n/login/\n/register/\nhttps://www.crummy.com/software/BeautifulSoup/bs4/doc/\n/sitemap.xml\n/support-donate/\n/consulting/\nhttps://www.facebook.com/pythonprogramming.net/\nhttps://twitter.com/sentdex\nhttps://instagram.com/sentdex\n/about/tos/\n/about/privacy-policy/\nhttps://xkcd.com/353/\n"
     ]
    }
   ],
   "source": [
    "# Getting all Hyper-links in <a> tag.\n",
    "for link in soup.find_all(name='a'):\n",
    "    print(link.get('href'))"
   ]
  },
  {
   "cell_type": "code",
   "execution_count": null,
   "metadata": {},
   "outputs": [],
   "source": []
  }
 ]
}