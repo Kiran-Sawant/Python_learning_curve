{
 "metadata": {
  "language_info": {
   "codemirror_mode": {
    "name": "ipython",
    "version": 3
   },
   "file_extension": ".py",
   "mimetype": "text/x-python",
   "name": "python",
   "nbconvert_exporter": "python",
   "pygments_lexer": "ipython3",
   "version": "3.7.6-final"
  },
  "orig_nbformat": 2,
  "kernelspec": {
   "name": "python3",
   "display_name": "Python 3",
   "language": "python"
  }
 },
 "nbformat": 4,
 "nbformat_minor": 2,
 "cells": [
  {
   "cell_type": "code",
   "execution_count": 1,
   "metadata": {},
   "outputs": [],
   "source": [
    "import bs4 as bs\n",
    "import urllib.request as request\n",
    "import pandas as pd"
   ]
  },
  {
   "cell_type": "code",
   "execution_count": 2,
   "metadata": {},
   "outputs": [],
   "source": [
    "# Getting the HTML byte string.\n",
    "sauce = request.urlopen(\"https://pythonprogramming.net/parsememcparseface/\").read()\n",
    "# Creating a Soup object from the HTML.\n",
    "soup = bs.BeautifulSoup(sauce, 'lxml')"
   ]
  },
  {
   "cell_type": "code",
   "execution_count": 4,
   "metadata": {},
   "outputs": [],
   "source": [
    "# Creating a new soup object of the contants in <nav> tag\n",
    "# soup.nav\n",
    "nav = soup.nav"
   ]
  },
  {
   "cell_type": "code",
   "execution_count": 5,
   "metadata": {},
   "outputs": [
    {
     "output_type": "stream",
     "name": "stdout",
     "text": [
      "/\n#\n/\n/+=1/\n/support/\nhttps://goo.gl/7zgAVQ\n/login/\n/register/\n/\n/+=1/\n/support/\nhttps://goo.gl/7zgAVQ\n/login/\n/register/\n"
     ]
    }
   ],
   "source": [
    "# grabbing hyperlinks in the nav bar.\n",
    "# .get(attr) returns the value of that attribute.\n",
    "for link in nav.find_all('a'):\n",
    "    print(link.get('href'))"
   ]
  },
  {
   "source": [
    "# Grabbing specific tags\n",
    "#### Sometimes there might be multiple tags with the same names, but different attributes, and you might want to grab information from a specific tag with a specific attribute. For example, the page that we're working with has a div tag with the class of 'body' use attrs parameter to specify attributes & their values."
   ],
   "cell_type": "markdown",
   "metadata": {}
  },
  {
   "cell_type": "code",
   "execution_count": 6,
   "metadata": {},
   "outputs": [
    {
     "output_type": "stream",
     "name": "stdout",
     "text": [
      "\nOh, hello! This is a wonderful page meant to let you practice web scraping. This page was originally created to help people work with the Beautiful Soup 4 library.\nThe following table gives some general information for the following programming languages:\n\nPython\nPascal\nLisp\nD#\nCobol\nFortran\nHaskell\n\n\n\nProgram Name\nInternet Points\nKittens?\n\n\nPython\n932914021\nDefinitely\n\n\nPascal\n532\nUnlikely\n\n\nLisp\n1522\nUncertain\n\n\nD#\n12\nPossibly\n\n\nCobol\n3\nNo.\n\n\nFortran\n52124\nYes.\n\n\nHaskell\n24\nlol.\n\n\nI think it's clear that, on a scale of 1-10, python is:\n\n\n\n\n\n\nJavascript (dynamic data) test:\ny u bad tho?\n\n\nBeautiful is better than ugly.\nExplicit is better than implicit.\nSimple is better than complex.\nComplex is better than complicated.\nFlat is better than nested.\nSparse is better than dense.\nReadability counts.\nSpecial cases aren't special enough to break the rules.\nAlthough practicality beats purity.\nErrors should never pass silently.\nUnless explicitly silenced.\nIn the face of ambiguity, refuse the temptation to guess.\nThere should be one-- and preferably only one --obvious way to do it.\nAlthough that way may not be obvious at first unless you're Dutch.\nNow is better than never.\nAlthough never is often better than *right* now.\nIf the implementation is hard to explain, it's a bad idea.\nIf the implementation is easy to explain, it may be a good idea.\nNamespaces are one honking great idea -- let's do more of those!\nWhᶐt hαppéns now¿\nsitemap\n\n"
     ]
    }
   ],
   "source": [
    "for div in soup.find_all('div', attrs={'class': 'body'}):\n",
    "    print(div.text)"
   ]
  },
  {
   "cell_type": "code",
   "execution_count": null,
   "metadata": {},
   "outputs": [],
   "source": []
  }
 ]
}