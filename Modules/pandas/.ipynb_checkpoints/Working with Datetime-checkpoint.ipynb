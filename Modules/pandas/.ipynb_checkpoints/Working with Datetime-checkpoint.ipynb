{
 "cells": [
  {
   "cell_type": "code",
   "execution_count": 1,
   "metadata": {},
   "outputs": [],
   "source": [
    "import pandas as pd\n",
    "import datetime as dt\n",
    "from pandas_datareader import data"
   ]
  },
  {
   "cell_type": "markdown",
   "metadata": {},
   "source": [
    "# # Timestamp Object.\n",
    "#### A pandas Timestamp oject is a Datetime object of pandas.\n",
    "#### pd.Timestamp() takes argument in string format and gives an output in YYYY-MM-DD hh:mm:ss in 24 hour format."
   ]
  },
  {
   "cell_type": "code",
   "execution_count": 51,
   "metadata": {},
   "outputs": [
    {
     "data": {
      "text/plain": [
       "Timestamp('2020-06-30 00:31:08.608000')"
      ]
     },
     "execution_count": 51,
     "metadata": {},
     "output_type": "execute_result"
    }
   ],
   "source": [
    "# Creating a timestamp of current time.\n",
    "\n",
    "pd.Timestamp(dt.datetime.now())"
   ]
  },
  {
   "cell_type": "code",
   "execution_count": 10,
   "metadata": {},
   "outputs": [
    {
     "data": {
      "text/plain": [
       "Timestamp('2015-03-31 00:00:00')"
      ]
     },
     "execution_count": 10,
     "metadata": {},
     "output_type": "execute_result"
    }
   ],
   "source": [
    "# Creating a timestamp from passed date\n",
    "\n",
    "pd.Timestamp('2015-03-31')"
   ]
  },
  {
   "cell_type": "code",
   "execution_count": 11,
   "metadata": {},
   "outputs": [
    {
     "data": {
      "text/plain": [
       "Timestamp('1970-01-01 00:00:00.000000022')"
      ]
     },
     "execution_count": 11,
     "metadata": {},
     "output_type": "execute_result"
    }
   ],
   "source": [
    "pd.Timestamp(2015/3/30)     # a non-string argument is not right."
   ]
  },
  {
   "cell_type": "code",
   "execution_count": 12,
   "metadata": {},
   "outputs": [
    {
     "data": {
      "text/plain": [
       "Timestamp('2015-03-30 00:00:00')"
      ]
     },
     "execution_count": 12,
     "metadata": {},
     "output_type": "execute_result"
    }
   ],
   "source": [
    "# Creating timestamp with dates containing '/'\n",
    "\n",
    "pd.Timestamp('2015/3/30')"
   ]
  },
  {
   "cell_type": "code",
   "execution_count": 13,
   "metadata": {},
   "outputs": [
    {
     "data": {
      "text/plain": [
       "Timestamp('2015-05-06 00:00:00')"
      ]
     },
     "execution_count": 13,
     "metadata": {},
     "output_type": "execute_result"
    }
   ],
   "source": [
    "# making a Timestamp of 6th May 2015\n",
    "\n",
    "pd.Timestamp('2015, 5, 6')"
   ]
  },
  {
   "cell_type": "markdown",
   "metadata": {},
   "source": [
    "#### pd.Timestamp() expects the date format in YYYY-MM-DD format. other formats can cause error as shown below."
   ]
  },
  {
   "cell_type": "code",
   "execution_count": 14,
   "metadata": {},
   "outputs": [
    {
     "data": {
      "text/plain": [
       "Timestamp('2020-04-03 00:00:00')"
      ]
     },
     "execution_count": 14,
     "metadata": {},
     "output_type": "execute_result"
    }
   ],
   "source": [
    "# making a Timestamp of 4th March 2020.\n",
    "\n",
    "pd.Timestamp('4/3/2020')"
   ]
  },
  {
   "cell_type": "code",
   "execution_count": 16,
   "metadata": {},
   "outputs": [
    {
     "data": {
      "text/plain": [
       "Timestamp('2020-04-03 18:13:29')"
      ]
     },
     "execution_count": 16,
     "metadata": {},
     "output_type": "execute_result"
    }
   ],
   "source": [
    "# making a Timestamp of 4th March 2020 6:13 in the evening.\n",
    "\n",
    "pd.Timestamp('4/3/2020 6:13:29 PM')"
   ]
  },
  {
   "cell_type": "markdown",
   "metadata": {},
   "source": [
    "# # DateTimeIndex Object.\n",
    "\n",
    "#### pd.DateTimeIndex() is a container object that serves as a list of datetime objects."
   ]
  },
  {
   "cell_type": "code",
   "execution_count": 17,
   "metadata": {},
   "outputs": [
    {
     "data": {
      "text/plain": [
       "DatetimeIndex(['2015-11-03', '2077-05-10', '2020-10-05'], dtype='datetime64[ns]', freq=None)"
      ]
     },
     "execution_count": 17,
     "metadata": {},
     "output_type": "execute_result"
    }
   ],
   "source": [
    "# Creating a list of dates.\n",
    "dates = ['2015/11/3', '2077/05/10', '10/05/2020']\n",
    "\n",
    "# Creating a DatetimeIndex from a list of date strings.\n",
    "pd.DatetimeIndex(dates)"
   ]
  },
  {
   "cell_type": "code",
   "execution_count": 19,
   "metadata": {},
   "outputs": [],
   "source": [
    "# Creating a list of DateTime Date objects.\n",
    "dates_dt = [dt.date(2016, 1, 10), dt.date(2014, 11, 10), dt.date(2016, 12, 14)]\n",
    "\n",
    "# Creating a DatetimeIndex from a list of Datetime date objects.\n",
    "dtIndex = pd.DatetimeIndex(dates_dt)"
   ]
  },
  {
   "cell_type": "code",
   "execution_count": 21,
   "metadata": {},
   "outputs": [
    {
     "data": {
      "text/plain": [
       "2016-01-10    100\n",
       "2014-11-10    200\n",
       "2016-12-14    300\n",
       "dtype: int64"
      ]
     },
     "execution_count": 21,
     "metadata": {},
     "output_type": "execute_result"
    }
   ],
   "source": [
    "# Creating a list.\n",
    "values = [100, 200, 300]\n",
    "\n",
    "# Creating a series of a list, with DatetimeIndex as index.\n",
    "pd.Series(values, index=dtIndex)"
   ]
  },
  {
   "cell_type": "markdown",
   "metadata": {},
   "source": [
    "# # pd.to_datetime() method.\n",
    "\n",
    "#### The pd.to_datetime() method converts a given expression of a datetime, a string or UNIX timestamp, into any appropriate pandas datetime object like Timestamp or datetimeIndex."
   ]
  },
  {
   "cell_type": "code",
   "execution_count": 22,
   "metadata": {},
   "outputs": [
    {
     "data": {
      "text/plain": [
       "Timestamp('2001-04-19 00:00:00')"
      ]
     },
     "execution_count": 22,
     "metadata": {},
     "output_type": "execute_result"
    }
   ],
   "source": [
    "# Converting a date string to a Timestamp.\n",
    "\n",
    "pd.to_datetime('2001-04-19')"
   ]
  },
  {
   "cell_type": "code",
   "execution_count": 24,
   "metadata": {},
   "outputs": [
    {
     "data": {
      "text/plain": [
       "Timestamp('2020-11-25 00:00:00')"
      ]
     },
     "execution_count": 24,
     "metadata": {},
     "output_type": "execute_result"
    }
   ],
   "source": [
    "# Converting a date string with '/' to a Timestamp.\n",
    "\n",
    "pd.to_datetime('2020/11/25')"
   ]
  },
  {
   "cell_type": "code",
   "execution_count": 25,
   "metadata": {},
   "outputs": [
    {
     "data": {
      "text/plain": [
       "Timestamp('1997-05-10 00:00:00')"
      ]
     },
     "execution_count": 25,
     "metadata": {},
     "output_type": "execute_result"
    }
   ],
   "source": [
    "# Converting a alphabetical date string to a Timestamp.\n",
    "\n",
    "pd.to_datetime('10th May, 1997')"
   ]
  },
  {
   "cell_type": "code",
   "execution_count": 26,
   "metadata": {},
   "outputs": [
    {
     "data": {
      "text/plain": [
       "DatetimeIndex(['2001-04-19', '2020-11-25', '1997-05-10'], dtype='datetime64[ns]', freq=None)"
      ]
     },
     "execution_count": 26,
     "metadata": {},
     "output_type": "execute_result"
    }
   ],
   "source": [
    "# Converting a list of date strings to a DatetimeIndex.\n",
    "\n",
    "pd.to_datetime(['2001-04-19', '2020/11/25', '10th May, 1997'])"
   ]
  },
  {
   "cell_type": "markdown",
   "metadata": {},
   "source": [
    "#### IF you have strings in a series that are not in a valid Date form, set the \"errors\" parameter to 'coerce'.\n",
    "#### Setting errors='coerce' will represent invalid date strings as NaT (Not a Time)."
   ]
  },
  {
   "cell_type": "code",
   "execution_count": 29,
   "metadata": {},
   "outputs": [
    {
     "data": {
      "text/plain": [
       "0   2001-04-19\n",
       "1   2020-11-25\n",
       "2          NaT\n",
       "3          NaT\n",
       "dtype: datetime64[ns]"
      ]
     },
     "execution_count": 29,
     "metadata": {},
     "output_type": "execute_result"
    }
   ],
   "source": [
    "# A series including invalid date strings.\n",
    "dates = pd.Series(['2001-04-19', '2020/11/25', 'Banana', '2020-02-31'])\n",
    "\n",
    "pd.to_datetime(dates, errors='coerce')"
   ]
  },
  {
   "cell_type": "markdown",
   "metadata": {},
   "source": [
    "#### When converting UNIX timestamps to pandas Timestamps set \"unit\" parameter as 's' for second"
   ]
  },
  {
   "cell_type": "code",
   "execution_count": 30,
   "metadata": {},
   "outputs": [
    {
     "data": {
      "text/plain": [
       "DatetimeIndex(['2020-06-29 17:36:07', '1997-05-10 13:30:00',\n",
       "               '2077-11-08 00:00:00'],\n",
       "              dtype='datetime64[ns]', freq=None)"
      ]
     },
     "execution_count": 30,
     "metadata": {},
     "output_type": "execute_result"
    }
   ],
   "source": [
    "# Converting UNIX timestamps to pandas Timestamps.\n",
    "\n",
    "pd.to_datetime([1593452167, 863271000, 3403555200], unit='s')"
   ]
  },
  {
   "cell_type": "markdown",
   "metadata": {},
   "source": [
    "# # pd.date_range() method.\n",
    "\n",
    "#### pd.date_range() is used to create a DatetimeIndex() of a range of time.\n",
    "#### use the \"start\" & \"end\" parameter to specify the start and end of the range.\n",
    "#### use the 'freq' parameter to specify the frequency of the time."
   ]
  },
  {
   "cell_type": "code",
   "execution_count": 32,
   "metadata": {
    "collapsed": true
   },
   "outputs": [
    {
     "data": {
      "text/plain": [
       "DatetimeIndex(['2016-01-01', '2016-01-02', '2016-01-03', '2016-01-04',\n",
       "               '2016-01-05', '2016-01-06', '2016-01-07', '2016-01-08',\n",
       "               '2016-01-09', '2016-01-10'],\n",
       "              dtype='datetime64[ns]', freq='D')"
      ]
     },
     "execution_count": 32,
     "metadata": {},
     "output_type": "execute_result"
    }
   ],
   "source": [
    "# date_range from 1st jan 2016 to 10th jan 2016.\n",
    "# freq='D' for 1 day interval.\n",
    "\n",
    "pd.date_range(start='2016-01-01', end='2016-01-10', freq='D')"
   ]
  },
  {
   "cell_type": "code",
   "execution_count": 33,
   "metadata": {},
   "outputs": [
    {
     "data": {
      "text/plain": [
       "DatetimeIndex(['2016-01-01', '2016-01-03', '2016-01-05', '2016-01-07',\n",
       "               '2016-01-09'],\n",
       "              dtype='datetime64[ns]', freq='2D')"
      ]
     },
     "execution_count": 33,
     "metadata": {},
     "output_type": "execute_result"
    }
   ],
   "source": [
    "# freq='2D' for 2 day interval.\n",
    "\n",
    "pd.date_range(start='2016-01-01', end='2016-01-10', freq='2D')"
   ]
  },
  {
   "cell_type": "code",
   "execution_count": 35,
   "metadata": {
    "collapsed": true
   },
   "outputs": [
    {
     "data": {
      "text/plain": [
       "DatetimeIndex(['2016-01-01', '2016-02-01', '2016-03-01', '2016-04-01',\n",
       "               '2016-05-01', '2016-06-01', '2016-07-01', '2016-08-01',\n",
       "               '2016-09-01', '2016-10-01', '2016-11-01'],\n",
       "              dtype='datetime64[ns]', freq='MS')"
      ]
     },
     "execution_count": 35,
     "metadata": {},
     "output_type": "execute_result"
    }
   ],
   "source": [
    "# freq='M' for 1 month interval.\n",
    "pd.date_range(start='2016-01-01', end='2016-11-10', freq='M')\n",
    "\n",
    "# freq='MS' for 1 month interval from start.\n",
    "pd.date_range(start='2016-01-01', end='2016-11-10', freq='MS')"
   ]
  },
  {
   "cell_type": "code",
   "execution_count": 37,
   "metadata": {
    "collapsed": true
   },
   "outputs": [
    {
     "data": {
      "text/plain": [
       "DatetimeIndex(['2016-01-01 00:00:00', '2016-01-01 05:00:00',\n",
       "               '2016-01-01 10:00:00', '2016-01-01 15:00:00',\n",
       "               '2016-01-01 20:00:00', '2016-01-02 01:00:00',\n",
       "               '2016-01-02 06:00:00', '2016-01-02 11:00:00',\n",
       "               '2016-01-02 16:00:00', '2016-01-02 21:00:00',\n",
       "               '2016-01-03 02:00:00', '2016-01-03 07:00:00',\n",
       "               '2016-01-03 12:00:00', '2016-01-03 17:00:00',\n",
       "               '2016-01-03 22:00:00', '2016-01-04 03:00:00',\n",
       "               '2016-01-04 08:00:00', '2016-01-04 13:00:00',\n",
       "               '2016-01-04 18:00:00', '2016-01-04 23:00:00'],\n",
       "              dtype='datetime64[ns]', freq='5H')"
      ]
     },
     "execution_count": 37,
     "metadata": {},
     "output_type": "execute_result"
    }
   ],
   "source": [
    "# freq='H' for 1 hour interval.\n",
    "pd.date_range(start='2016-01-01', end='2016-1-5', freq='H')\n",
    "\n",
    "# freq='5H' for 5 hour interval.\n",
    "pd.date_range(start='2016-01-01', end='2016-1-5', freq='5H')"
   ]
  },
  {
   "cell_type": "code",
   "execution_count": 38,
   "metadata": {
    "collapsed": true
   },
   "outputs": [
    {
     "data": {
      "text/plain": [
       "DatetimeIndex(['2016-01-01', '2016-01-04', '2016-01-05', '2016-01-06',\n",
       "               '2016-01-07', '2016-01-08', '2016-01-11', '2016-01-12',\n",
       "               '2016-01-13', '2016-01-14', '2016-01-15', '2016-01-18',\n",
       "               '2016-01-19', '2016-01-20', '2016-01-21', '2016-01-22',\n",
       "               '2016-01-25', '2016-01-26', '2016-01-27', '2016-01-28',\n",
       "               '2016-01-29'],\n",
       "              dtype='datetime64[ns]', freq='B')"
      ]
     },
     "execution_count": 38,
     "metadata": {},
     "output_type": "execute_result"
    }
   ],
   "source": [
    "# getting all the business days between 1 & 31 jan 2016.\n",
    "# freq='B' for business days only.\n",
    "\n",
    "pd.date_range(start='2016-01-01', end='2016-1-31', freq='B')"
   ]
  },
  {
   "cell_type": "code",
   "execution_count": 44,
   "metadata": {},
   "outputs": [
    {
     "data": {
      "text/plain": [
       "DatetimeIndex(['2016-01-01', '2016-01-08', '2016-01-15', '2016-01-22',\n",
       "               '2016-01-29'],\n",
       "              dtype='datetime64[ns]', freq='W-FRI')"
      ]
     },
     "execution_count": 44,
     "metadata": {},
     "output_type": "execute_result"
    }
   ],
   "source": [
    "# freq='W-SUN' for weekday-Sunday.\n",
    "pd.date_range(start='2016-01-01', end='2016-1-31', freq='W-SUN')\n",
    "\n",
    "# freq='W-FRI' for weekday-Friday.\n",
    "pd.date_range(start='2016-01-01', end='2016-1-31', freq='W-Fri')"
   ]
  },
  {
   "cell_type": "code",
   "execution_count": 45,
   "metadata": {
    "collapsed": true
   },
   "outputs": [
    {
     "data": {
      "text/plain": [
       "DatetimeIndex(['2016-12-31', '2017-12-31', '2018-12-31', '2019-12-31',\n",
       "               '2020-12-31', '2021-12-31', '2022-12-31', '2023-12-31',\n",
       "               '2024-12-31', '2025-12-31', '2026-12-31', '2027-12-31',\n",
       "               '2028-12-31', '2029-12-31'],\n",
       "              dtype='datetime64[ns]', freq='A-DEC')"
      ]
     },
     "execution_count": 45,
     "metadata": {},
     "output_type": "execute_result"
    }
   ],
   "source": [
    "# freq='A' for end of the year.\n",
    "\n",
    "pd.date_range(start='2016-01-01', end='2030-1-31', freq='A')"
   ]
  },
  {
   "cell_type": "markdown",
   "metadata": {},
   "source": [
    "### Using the \"periods\" parameter.\n",
    "\n",
    "#### you can insert the start or end parameter and then use the periods parameter to mention how many Timestamps you need after or before the mentioned start or end time."
   ]
  },
  {
   "cell_type": "code",
   "execution_count": 47,
   "metadata": {},
   "outputs": [
    {
     "data": {
      "text/plain": [
       "DatetimeIndex(['2012-09-09', '2012-09-10', '2012-09-11', '2012-09-12',\n",
       "               '2012-09-13', '2012-09-14', '2012-09-15', '2012-09-16',\n",
       "               '2012-09-17', '2012-09-18'],\n",
       "              dtype='datetime64[ns]', freq='D')"
      ]
     },
     "execution_count": 47,
     "metadata": {},
     "output_type": "execute_result"
    }
   ],
   "source": [
    "# 10 days after 9-9-2012.\n",
    "\n",
    "pd.date_range(start='2012-9-9', periods=10, freq='D')"
   ]
  },
  {
   "cell_type": "code",
   "execution_count": 48,
   "metadata": {},
   "outputs": [
    {
     "data": {
      "text/plain": [
       "DatetimeIndex(['2012-09-10', '2012-09-11', '2012-09-12', '2012-09-13',\n",
       "               '2012-09-14', '2012-09-17', '2012-09-18', '2012-09-19',\n",
       "               '2012-09-20', '2012-09-21'],\n",
       "              dtype='datetime64[ns]', freq='B')"
      ]
     },
     "execution_count": 48,
     "metadata": {},
     "output_type": "execute_result"
    }
   ],
   "source": [
    "# 10 business days after 9-9-2012.\n",
    "\n",
    "pd.date_range(start='2012-9-9', periods=10, freq='B')"
   ]
  },
  {
   "cell_type": "code",
   "execution_count": 49,
   "metadata": {},
   "outputs": [
    {
     "data": {
      "text/plain": [
       "DatetimeIndex(['2020-06-28', '2020-06-29', '2020-06-30', '2020-07-01',\n",
       "               '2020-07-02', '2020-07-03', '2020-07-04'],\n",
       "              dtype='datetime64[ns]', freq='D')"
      ]
     },
     "execution_count": 49,
     "metadata": {},
     "output_type": "execute_result"
    }
   ],
   "source": [
    "# the week after 28-6-2020.\n",
    "\n",
    "pd.date_range(start='2020-6-28', periods=7, freq='D')"
   ]
  },
  {
   "cell_type": "markdown",
   "metadata": {},
   "source": [
    "#### Using the 'end' parameter along with periods will give you the number of timestamps before the end time in ascending order."
   ]
  },
  {
   "cell_type": "code",
   "execution_count": 50,
   "metadata": {},
   "outputs": [
    {
     "data": {
      "text/plain": [
       "DatetimeIndex(['1999-12-12', '1999-12-13', '1999-12-14', '1999-12-15',\n",
       "               '1999-12-16', '1999-12-17', '1999-12-18', '1999-12-19',\n",
       "               '1999-12-20', '1999-12-21', '1999-12-22', '1999-12-23',\n",
       "               '1999-12-24', '1999-12-25', '1999-12-26', '1999-12-27',\n",
       "               '1999-12-28', '1999-12-29', '1999-12-30', '1999-12-31'],\n",
       "              dtype='datetime64[ns]', freq='D')"
      ]
     },
     "execution_count": 50,
     "metadata": {},
     "output_type": "execute_result"
    }
   ],
   "source": [
    "# 20 days before 31-12-1999.\n",
    "\n",
    "pd.date_range(end='1999-12-31', periods=20, freq='D')"
   ]
  },
  {
   "cell_type": "markdown",
   "metadata": {},
   "source": [
    "# # .dt accessor."
   ]
  },
  {
   "cell_type": "code",
   "execution_count": 4,
   "metadata": {
    "collapsed": true
   },
   "outputs": [
    {
     "data": {
      "text/plain": [
       "0     2000-01-01\n",
       "1     2000-01-31\n",
       "2     2000-03-01\n",
       "3     2000-03-31\n",
       "4     2000-04-30\n",
       "         ...    \n",
       "129   2010-08-06\n",
       "130   2010-09-05\n",
       "131   2010-10-05\n",
       "132   2010-11-04\n",
       "133   2010-12-04\n",
       "Length: 134, dtype: datetime64[ns]"
      ]
     },
     "execution_count": 4,
     "metadata": {},
     "output_type": "execute_result"
    }
   ],
   "source": [
    "# Creating a new Timeseries.\n",
    "\n",
    "decade = pd.date_range(start='2000/01/01', end='2010/12/31', freq='30D')\n",
    "\n",
    "s = pd.Series(decade)\n",
    "s"
   ]
  },
  {
   "cell_type": "code",
   "execution_count": 6,
   "metadata": {},
   "outputs": [
    {
     "data": {
      "text/plain": [
       "0       1\n",
       "1      31\n",
       "2       1\n",
       "3      31\n",
       "4      30\n",
       "       ..\n",
       "129     6\n",
       "130     5\n",
       "131     5\n",
       "132     4\n",
       "133     4\n",
       "Length: 134, dtype: int64"
      ]
     },
     "execution_count": 6,
     "metadata": {},
     "output_type": "execute_result"
    }
   ],
   "source": [
    "# Extracting the \"Day\" value of every Timestamp in Timeseries.\n",
    "\n",
    "s.dt.day"
   ]
  },
  {
   "cell_type": "code",
   "execution_count": 8,
   "metadata": {},
   "outputs": [
    {
     "data": {
      "text/plain": [
       "0       Saturday\n",
       "1         Monday\n",
       "2      Wednesday\n",
       "3         Friday\n",
       "4         Sunday\n",
       "         ...    \n",
       "129       Friday\n",
       "130       Sunday\n",
       "131      Tuesday\n",
       "132     Thursday\n",
       "133     Saturday\n",
       "Length: 134, dtype: object"
      ]
     },
     "execution_count": 8,
     "metadata": {},
     "output_type": "execute_result"
    }
   ],
   "source": [
    "# Extracting the weekday name of every Timestamp in Timeseries.\n",
    "\n",
    "s.dt.day_name()"
   ]
  },
  {
   "cell_type": "code",
   "execution_count": 9,
   "metadata": {},
   "outputs": [
    {
     "data": {
      "text/plain": [
       "0      5\n",
       "1      0\n",
       "2      2\n",
       "3      4\n",
       "4      6\n",
       "      ..\n",
       "129    4\n",
       "130    6\n",
       "131    1\n",
       "132    3\n",
       "133    5\n",
       "Length: 134, dtype: int64"
      ]
     },
     "execution_count": 9,
     "metadata": {},
     "output_type": "execute_result"
    }
   ],
   "source": [
    "# Extracting the day of week of every Timestamp in Timeseries (monday=0,...sunday=6).\n",
    "\n",
    "s.dt.dayofweek"
   ]
  },
  {
   "cell_type": "code",
   "execution_count": 15,
   "metadata": {},
   "outputs": [
    {
     "data": {
      "text/plain": [
       "0       Saturday\n",
       "1         Monday\n",
       "2      Wednesday\n",
       "3         Friday\n",
       "4         Sunday\n",
       "         ...    \n",
       "129       Friday\n",
       "130       Sunday\n",
       "131      Tuesday\n",
       "132     Thursday\n",
       "133     Saturday\n",
       "Length: 134, dtype: object"
      ]
     },
     "execution_count": 15,
     "metadata": {},
     "output_type": "execute_result"
    }
   ],
   "source": [
    "# Extracting the weekday name of every Timestamp in Timeseries.\n",
    "\n",
    "\n",
    "s.dt.weekday_name"
   ]
  },
  {
   "cell_type": "code",
   "execution_count": 10,
   "metadata": {},
   "outputs": [
    {
     "data": {
      "text/plain": [
       "0       1\n",
       "1       1\n",
       "2       3\n",
       "3       3\n",
       "4       4\n",
       "       ..\n",
       "129     8\n",
       "130     9\n",
       "131    10\n",
       "132    11\n",
       "133    12\n",
       "Length: 134, dtype: int64"
      ]
     },
     "execution_count": 10,
     "metadata": {},
     "output_type": "execute_result"
    }
   ],
   "source": [
    "# Extracting the \"month\" value of every Timestamp in Timeseries.\n",
    "\n",
    "\n",
    "s.dt.month"
   ]
  },
  {
   "cell_type": "code",
   "execution_count": 12,
   "metadata": {},
   "outputs": [
    {
     "data": {
      "text/plain": [
       "0        January\n",
       "1        January\n",
       "2          March\n",
       "3          March\n",
       "4          April\n",
       "         ...    \n",
       "129       August\n",
       "130    September\n",
       "131      October\n",
       "132     November\n",
       "133     December\n",
       "Length: 134, dtype: object"
      ]
     },
     "execution_count": 12,
     "metadata": {},
     "output_type": "execute_result"
    }
   ],
   "source": [
    "# Extracting the month name of every Timestamp in Timeseries.\n",
    "\n",
    "s.dt.month_name()"
   ]
  },
  {
   "cell_type": "markdown",
   "metadata": {},
   "source": [
    "### .dt.is_ attributes are used to create a boolean series."
   ]
  },
  {
   "cell_type": "code",
   "execution_count": 16,
   "metadata": {
    "scrolled": true
   },
   "outputs": [
    {
     "data": {
      "text/plain": [
       "0       True\n",
       "1      False\n",
       "2       True\n",
       "3      False\n",
       "4      False\n",
       "       ...  \n",
       "129    False\n",
       "130    False\n",
       "131    False\n",
       "132    False\n",
       "133    False\n",
       "Length: 134, dtype: bool"
      ]
     },
     "execution_count": 16,
     "metadata": {},
     "output_type": "execute_result"
    }
   ],
   "source": [
    "# Checking if the date of Timestamp falls at month start.\n",
    "\n",
    "s.dt.is_month_start"
   ]
  },
  {
   "cell_type": "code",
   "execution_count": 17,
   "metadata": {
    "collapsed": true
   },
   "outputs": [
    {
     "data": {
      "text/plain": [
       "0       True\n",
       "1      False\n",
       "2      False\n",
       "3      False\n",
       "4      False\n",
       "       ...  \n",
       "129    False\n",
       "130    False\n",
       "131    False\n",
       "132    False\n",
       "133    False\n",
       "Length: 134, dtype: bool"
      ]
     },
     "execution_count": 17,
     "metadata": {},
     "output_type": "execute_result"
    }
   ],
   "source": [
    "# Checking if the date of Timestamp falls at quarter start.\n",
    "\n",
    "s.dt.is_quarter_start"
   ]
  },
  {
   "cell_type": "code",
   "execution_count": 18,
   "metadata": {
    "collapsed": true
   },
   "outputs": [
    {
     "data": {
      "text/plain": [
       "0      False\n",
       "1      False\n",
       "2      False\n",
       "3       True\n",
       "4      False\n",
       "       ...  \n",
       "129    False\n",
       "130    False\n",
       "131    False\n",
       "132    False\n",
       "133    False\n",
       "Length: 134, dtype: bool"
      ]
     },
     "execution_count": 18,
     "metadata": {},
     "output_type": "execute_result"
    }
   ],
   "source": [
    "# Checking if the date of Timestamp falls at quarter end.\n",
    "\n",
    "s.dt.is_quarter_end"
   ]
  },
  {
   "cell_type": "markdown",
   "metadata": {},
   "source": [
    "# # pandas_datareader\n",
    "\n",
    "pandas_datareader is a module that can be used to extract data from several Datasources.\n",
    "Paid sources require an API key.\n",
    "It returns the Data in a DataFrame format."
   ]
  },
  {
   "cell_type": "code",
   "execution_count": 33,
   "metadata": {},
   "outputs": [
    {
     "data": {
      "text/html": [
       "<div>\n",
       "<style scoped>\n",
       "    .dataframe tbody tr th:only-of-type {\n",
       "        vertical-align: middle;\n",
       "    }\n",
       "\n",
       "    .dataframe tbody tr th {\n",
       "        vertical-align: top;\n",
       "    }\n",
       "\n",
       "    .dataframe thead th {\n",
       "        text-align: right;\n",
       "    }\n",
       "</style>\n",
       "<table border=\"1\" class=\"dataframe\">\n",
       "  <thead>\n",
       "    <tr style=\"text-align: right;\">\n",
       "      <th></th>\n",
       "      <th>High</th>\n",
       "      <th>Low</th>\n",
       "      <th>Open</th>\n",
       "      <th>Close</th>\n",
       "      <th>Volume</th>\n",
       "      <th>Adj Close</th>\n",
       "    </tr>\n",
       "    <tr>\n",
       "      <th>Date</th>\n",
       "      <th></th>\n",
       "      <th></th>\n",
       "      <th></th>\n",
       "      <th></th>\n",
       "      <th></th>\n",
       "      <th></th>\n",
       "    </tr>\n",
       "  </thead>\n",
       "  <tbody>\n",
       "    <tr>\n",
       "      <th>2018-01-02</th>\n",
       "      <td>199.500000</td>\n",
       "      <td>194.500000</td>\n",
       "      <td>195.779999</td>\n",
       "      <td>199.350006</td>\n",
       "      <td>8890400.0</td>\n",
       "      <td>197.813309</td>\n",
       "    </tr>\n",
       "    <tr>\n",
       "      <th>2018-01-03</th>\n",
       "      <td>213.699997</td>\n",
       "      <td>203.750000</td>\n",
       "      <td>204.100006</td>\n",
       "      <td>212.470001</td>\n",
       "      <td>22867600.0</td>\n",
       "      <td>210.832153</td>\n",
       "    </tr>\n",
       "    <tr>\n",
       "      <th>2018-01-04</th>\n",
       "      <td>218.050003</td>\n",
       "      <td>212.690002</td>\n",
       "      <td>215.759995</td>\n",
       "      <td>213.589996</td>\n",
       "      <td>14581700.0</td>\n",
       "      <td>211.943512</td>\n",
       "    </tr>\n",
       "  </tbody>\n",
       "</table>\n",
       "</div>"
      ],
      "text/plain": [
       "                  High         Low        Open       Close      Volume  \\\n",
       "Date                                                                     \n",
       "2018-01-02  199.500000  194.500000  195.779999  199.350006   8890400.0   \n",
       "2018-01-03  213.699997  203.750000  204.100006  212.470001  22867600.0   \n",
       "2018-01-04  218.050003  212.690002  215.759995  213.589996  14581700.0   \n",
       "\n",
       "             Adj Close  \n",
       "Date                    \n",
       "2018-01-02  197.813309  \n",
       "2018-01-03  210.832153  \n",
       "2018-01-04  211.943512  "
      ]
     },
     "execution_count": 33,
     "metadata": {},
     "output_type": "execute_result"
    }
   ],
   "source": [
    "# Getting daily OHLCV of Nvidia fron 1/1/2018 till today.\n",
    "\n",
    "stocks = data.DataReader('NVDA', data_source='yahoo', start='2018/01/01')\n",
    "stocks.head(3)"
   ]
  },
  {
   "cell_type": "code",
   "execution_count": 34,
   "metadata": {},
   "outputs": [
    {
     "data": {
      "text/plain": [
       "array([[1.99500000e+02, 1.94500000e+02, 1.95779999e+02, 1.99350006e+02,\n",
       "        8.89040000e+06, 1.97813309e+02],\n",
       "       [2.13699997e+02, 2.03750000e+02, 2.04100006e+02, 2.12470001e+02,\n",
       "        2.28676000e+07, 2.10832153e+02],\n",
       "       [2.18050003e+02, 2.12690002e+02, 2.15759995e+02, 2.13589996e+02,\n",
       "        1.45817000e+07, 2.11943512e+02],\n",
       "       ...,\n",
       "       [3.80000000e+02, 3.65000000e+02, 3.80000000e+02, 3.66200012e+02,\n",
       "        1.48021000e+07, 3.66200012e+02],\n",
       "       [3.68179993e+02, 3.56000000e+02, 3.66790009e+02, 3.68000000e+02,\n",
       "        8.52650000e+06, 3.68000000e+02],\n",
       "       [3.81049988e+02, 3.70700012e+02, 3.72559998e+02, 3.77299988e+02,\n",
       "        5.29195400e+06, 3.77299988e+02]])"
      ]
     },
     "execution_count": 34,
     "metadata": {},
     "output_type": "execute_result"
    }
   ],
   "source": [
    "# Returns an array of  arrays of values in the dataframe.\n",
    "\n",
    "stocks.values"
   ]
  },
  {
   "cell_type": "code",
   "execution_count": 35,
   "metadata": {},
   "outputs": [
    {
     "data": {
      "text/plain": [
       "DatetimeIndex(['2018-01-02', '2018-01-03', '2018-01-04', '2018-01-05',\n",
       "               '2018-01-08', '2018-01-09', '2018-01-10', '2018-01-11',\n",
       "               '2018-01-12', '2018-01-16',\n",
       "               ...\n",
       "               '2020-06-17', '2020-06-18', '2020-06-19', '2020-06-22',\n",
       "               '2020-06-23', '2020-06-24', '2020-06-25', '2020-06-26',\n",
       "               '2020-06-29', '2020-06-30'],\n",
       "              dtype='datetime64[ns]', name='Date', length=628, freq=None)"
      ]
     },
     "execution_count": 35,
     "metadata": {},
     "output_type": "execute_result"
    }
   ],
   "source": [
    "# returns an array of row headers of Dataframe.\n",
    "\n",
    "stocks.index"
   ]
  },
  {
   "cell_type": "code",
   "execution_count": 36,
   "metadata": {},
   "outputs": [
    {
     "data": {
      "text/plain": [
       "Index(['High', 'Low', 'Open', 'Close', 'Volume', 'Adj Close'], dtype='object')"
      ]
     },
     "execution_count": 36,
     "metadata": {},
     "output_type": "execute_result"
    }
   ],
   "source": [
    "# returns an array of column headers.\n",
    "\n",
    "stocks.columns"
   ]
  },
  {
   "cell_type": "code",
   "execution_count": 37,
   "metadata": {},
   "outputs": [
    {
     "data": {
      "text/plain": [
       "[DatetimeIndex(['2018-01-02', '2018-01-03', '2018-01-04', '2018-01-05',\n",
       "                '2018-01-08', '2018-01-09', '2018-01-10', '2018-01-11',\n",
       "                '2018-01-12', '2018-01-16',\n",
       "                ...\n",
       "                '2020-06-17', '2020-06-18', '2020-06-19', '2020-06-22',\n",
       "                '2020-06-23', '2020-06-24', '2020-06-25', '2020-06-26',\n",
       "                '2020-06-29', '2020-06-30'],\n",
       "               dtype='datetime64[ns]', name='Date', length=628, freq=None),\n",
       " Index(['High', 'Low', 'Open', 'Close', 'Volume', 'Adj Close'], dtype='object')]"
      ]
     },
     "execution_count": 37,
     "metadata": {},
     "output_type": "execute_result"
    }
   ],
   "source": [
    "# Returns both column & row headers.\n",
    "\n",
    "stocks.axes"
   ]
  },
  {
   "cell_type": "code",
   "execution_count": 2,
   "metadata": {},
   "outputs": [
    {
     "data": {
      "text/html": [
       "<div>\n",
       "<style scoped>\n",
       "    .dataframe tbody tr th:only-of-type {\n",
       "        vertical-align: middle;\n",
       "    }\n",
       "\n",
       "    .dataframe tbody tr th {\n",
       "        vertical-align: top;\n",
       "    }\n",
       "\n",
       "    .dataframe thead th {\n",
       "        text-align: right;\n",
       "    }\n",
       "</style>\n",
       "<table border=\"1\" class=\"dataframe\">\n",
       "  <thead>\n",
       "    <tr style=\"text-align: right;\">\n",
       "      <th></th>\n",
       "      <th>High</th>\n",
       "      <th>Low</th>\n",
       "      <th>Open</th>\n",
       "      <th>Close</th>\n",
       "      <th>Volume</th>\n",
       "      <th>Adj Close</th>\n",
       "    </tr>\n",
       "    <tr>\n",
       "      <th>Date</th>\n",
       "      <th></th>\n",
       "      <th></th>\n",
       "      <th></th>\n",
       "      <th></th>\n",
       "      <th></th>\n",
       "      <th></th>\n",
       "    </tr>\n",
       "  </thead>\n",
       "  <tbody>\n",
       "    <tr>\n",
       "      <th>2015-07-06</th>\n",
       "      <td>126.230003</td>\n",
       "      <td>124.849998</td>\n",
       "      <td>124.940002</td>\n",
       "      <td>126.000000</td>\n",
       "      <td>28060400.0</td>\n",
       "      <td>116.122704</td>\n",
       "    </tr>\n",
       "    <tr>\n",
       "      <th>2015-07-07</th>\n",
       "      <td>126.150002</td>\n",
       "      <td>123.769997</td>\n",
       "      <td>125.889999</td>\n",
       "      <td>125.690002</td>\n",
       "      <td>46946800.0</td>\n",
       "      <td>115.837006</td>\n",
       "    </tr>\n",
       "    <tr>\n",
       "      <th>2015-07-08</th>\n",
       "      <td>124.639999</td>\n",
       "      <td>122.540001</td>\n",
       "      <td>124.480003</td>\n",
       "      <td>122.570000</td>\n",
       "      <td>60761600.0</td>\n",
       "      <td>112.961594</td>\n",
       "    </tr>\n",
       "  </tbody>\n",
       "</table>\n",
       "</div>"
      ],
      "text/plain": [
       "                  High         Low        Open       Close      Volume  \\\n",
       "Date                                                                     \n",
       "2015-07-06  126.230003  124.849998  124.940002  126.000000  28060400.0   \n",
       "2015-07-07  126.150002  123.769997  125.889999  125.690002  46946800.0   \n",
       "2015-07-08  124.639999  122.540001  124.480003  122.570000  60761600.0   \n",
       "\n",
       "             Adj Close  \n",
       "Date                    \n",
       "2015-07-06  116.122704  \n",
       "2015-07-07  115.837006  \n",
       "2015-07-08  112.961594  "
      ]
     },
     "execution_count": 2,
     "metadata": {},
     "output_type": "execute_result"
    }
   ],
   "source": [
    "# Getting apple Inc daily OHLCV data\n",
    "\n",
    "aaple = data.DataReader('AAPL', data_source='yahoo')\n",
    "aaple.head(3)"
   ]
  },
  {
   "cell_type": "markdown",
   "metadata": {},
   "source": [
    "### accessing rows on a TimeSeries DataFrame."
   ]
  },
  {
   "cell_type": "code",
   "execution_count": 51,
   "metadata": {},
   "outputs": [
    {
     "data": {
      "text/plain": [
       "High         3.223500e+02\n",
       "Low          3.172100e+02\n",
       "Open         3.177500e+02\n",
       "Close        3.218500e+02\n",
       "Volume       2.019780e+07\n",
       "Adj Close    3.218500e+02\n",
       "Name: 2020-06-01 00:00:00, dtype: float64"
      ]
     },
     "execution_count": 51,
     "metadata": {},
     "output_type": "execute_result"
    }
   ],
   "source": [
    "# extracting the OHLCV on 1-6-20\n",
    "\n",
    "aaple.loc['2020-06-01']"
   ]
  },
  {
   "cell_type": "code",
   "execution_count": 53,
   "metadata": {},
   "outputs": [
    {
     "data": {
      "text/plain": [
       "High         3.223500e+02\n",
       "Low          3.172100e+02\n",
       "Open         3.177500e+02\n",
       "Close        3.218500e+02\n",
       "Volume       2.019780e+07\n",
       "Adj Close    3.218500e+02\n",
       "Name: 2020-06-01 00:00:00, dtype: float64"
      ]
     },
     "execution_count": 53,
     "metadata": {},
     "output_type": "execute_result"
    }
   ],
   "source": [
    "# extracting the OHLCV on 1-6-20\n",
    "\n",
    "aaple.loc[pd.Timestamp('2020-06-01')]"
   ]
  },
  {
   "cell_type": "code",
   "execution_count": 58,
   "metadata": {},
   "outputs": [
    {
     "data": {
      "text/html": [
       "<div>\n",
       "<style scoped>\n",
       "    .dataframe tbody tr th:only-of-type {\n",
       "        vertical-align: middle;\n",
       "    }\n",
       "\n",
       "    .dataframe tbody tr th {\n",
       "        vertical-align: top;\n",
       "    }\n",
       "\n",
       "    .dataframe thead th {\n",
       "        text-align: right;\n",
       "    }\n",
       "</style>\n",
       "<table border=\"1\" class=\"dataframe\">\n",
       "  <thead>\n",
       "    <tr style=\"text-align: right;\">\n",
       "      <th></th>\n",
       "      <th>High</th>\n",
       "      <th>Low</th>\n",
       "      <th>Open</th>\n",
       "      <th>Close</th>\n",
       "      <th>Volume</th>\n",
       "      <th>Adj Close</th>\n",
       "    </tr>\n",
       "    <tr>\n",
       "      <th>Date</th>\n",
       "      <th></th>\n",
       "      <th></th>\n",
       "      <th></th>\n",
       "      <th></th>\n",
       "      <th></th>\n",
       "      <th></th>\n",
       "    </tr>\n",
       "  </thead>\n",
       "  <tbody>\n",
       "    <tr>\n",
       "      <th>2020-06-01</th>\n",
       "      <td>322.350006</td>\n",
       "      <td>317.209991</td>\n",
       "      <td>317.75</td>\n",
       "      <td>321.850006</td>\n",
       "      <td>20197800.0</td>\n",
       "      <td>321.850006</td>\n",
       "    </tr>\n",
       "    <tr>\n",
       "      <th>2020-05-01</th>\n",
       "      <td>299.000000</td>\n",
       "      <td>285.850006</td>\n",
       "      <td>286.25</td>\n",
       "      <td>289.070007</td>\n",
       "      <td>60154200.0</td>\n",
       "      <td>288.289612</td>\n",
       "    </tr>\n",
       "  </tbody>\n",
       "</table>\n",
       "</div>"
      ],
      "text/plain": [
       "                  High         Low    Open       Close      Volume   Adj Close\n",
       "Date                                                                          \n",
       "2020-06-01  322.350006  317.209991  317.75  321.850006  20197800.0  321.850006\n",
       "2020-05-01  299.000000  285.850006  286.25  289.070007  60154200.0  288.289612"
      ]
     },
     "execution_count": 58,
     "metadata": {},
     "output_type": "execute_result"
    }
   ],
   "source": [
    "# extracting the OHLCV on 1-6-20 & 1-5-20\n",
    "\n",
    "aaple.loc[[pd.Timestamp('2020-06-01'), pd.Timestamp('2020-05-01')]]"
   ]
  },
  {
   "cell_type": "code",
   "execution_count": 60,
   "metadata": {
    "scrolled": true
   },
   "outputs": [
    {
     "data": {
      "text/html": [
       "<div>\n",
       "<style scoped>\n",
       "    .dataframe tbody tr th:only-of-type {\n",
       "        vertical-align: middle;\n",
       "    }\n",
       "\n",
       "    .dataframe tbody tr th {\n",
       "        vertical-align: top;\n",
       "    }\n",
       "\n",
       "    .dataframe thead th {\n",
       "        text-align: right;\n",
       "    }\n",
       "</style>\n",
       "<table border=\"1\" class=\"dataframe\">\n",
       "  <thead>\n",
       "    <tr style=\"text-align: right;\">\n",
       "      <th></th>\n",
       "      <th>High</th>\n",
       "      <th>Low</th>\n",
       "      <th>Open</th>\n",
       "      <th>Close</th>\n",
       "      <th>Volume</th>\n",
       "      <th>Adj Close</th>\n",
       "    </tr>\n",
       "    <tr>\n",
       "      <th>Date</th>\n",
       "      <th></th>\n",
       "      <th></th>\n",
       "      <th></th>\n",
       "      <th></th>\n",
       "      <th></th>\n",
       "      <th></th>\n",
       "    </tr>\n",
       "  </thead>\n",
       "  <tbody>\n",
       "    <tr>\n",
       "      <th>2020-05-01</th>\n",
       "      <td>299.000000</td>\n",
       "      <td>285.850006</td>\n",
       "      <td>286.250000</td>\n",
       "      <td>289.070007</td>\n",
       "      <td>60154200.0</td>\n",
       "      <td>288.289612</td>\n",
       "    </tr>\n",
       "    <tr>\n",
       "      <th>2020-05-04</th>\n",
       "      <td>293.690002</td>\n",
       "      <td>286.320007</td>\n",
       "      <td>289.170013</td>\n",
       "      <td>293.160004</td>\n",
       "      <td>33392000.0</td>\n",
       "      <td>292.368561</td>\n",
       "    </tr>\n",
       "    <tr>\n",
       "      <th>2020-05-05</th>\n",
       "      <td>301.000000</td>\n",
       "      <td>294.459991</td>\n",
       "      <td>295.059998</td>\n",
       "      <td>297.559998</td>\n",
       "      <td>36937800.0</td>\n",
       "      <td>296.756683</td>\n",
       "    </tr>\n",
       "    <tr>\n",
       "      <th>2020-05-06</th>\n",
       "      <td>303.239990</td>\n",
       "      <td>298.869995</td>\n",
       "      <td>300.459991</td>\n",
       "      <td>300.630005</td>\n",
       "      <td>35583400.0</td>\n",
       "      <td>299.818390</td>\n",
       "    </tr>\n",
       "    <tr>\n",
       "      <th>2020-05-07</th>\n",
       "      <td>305.170013</td>\n",
       "      <td>301.970001</td>\n",
       "      <td>303.220001</td>\n",
       "      <td>303.739990</td>\n",
       "      <td>28803800.0</td>\n",
       "      <td>302.919983</td>\n",
       "    </tr>\n",
       "    <tr>\n",
       "      <th>2020-05-08</th>\n",
       "      <td>310.350006</td>\n",
       "      <td>304.290009</td>\n",
       "      <td>305.640015</td>\n",
       "      <td>310.130005</td>\n",
       "      <td>33512000.0</td>\n",
       "      <td>310.130005</td>\n",
       "    </tr>\n",
       "    <tr>\n",
       "      <th>2020-05-11</th>\n",
       "      <td>317.049988</td>\n",
       "      <td>307.239990</td>\n",
       "      <td>308.100006</td>\n",
       "      <td>315.010010</td>\n",
       "      <td>36405900.0</td>\n",
       "      <td>315.010010</td>\n",
       "    </tr>\n",
       "    <tr>\n",
       "      <th>2020-05-12</th>\n",
       "      <td>319.690002</td>\n",
       "      <td>310.910004</td>\n",
       "      <td>317.829987</td>\n",
       "      <td>311.410004</td>\n",
       "      <td>40575300.0</td>\n",
       "      <td>311.410004</td>\n",
       "    </tr>\n",
       "    <tr>\n",
       "      <th>2020-05-13</th>\n",
       "      <td>315.950012</td>\n",
       "      <td>303.209991</td>\n",
       "      <td>312.149994</td>\n",
       "      <td>307.649994</td>\n",
       "      <td>50155600.0</td>\n",
       "      <td>307.649994</td>\n",
       "    </tr>\n",
       "    <tr>\n",
       "      <th>2020-05-14</th>\n",
       "      <td>309.790009</td>\n",
       "      <td>301.529999</td>\n",
       "      <td>304.510010</td>\n",
       "      <td>309.540009</td>\n",
       "      <td>39732300.0</td>\n",
       "      <td>309.540009</td>\n",
       "    </tr>\n",
       "    <tr>\n",
       "      <th>2020-05-15</th>\n",
       "      <td>307.899994</td>\n",
       "      <td>300.209991</td>\n",
       "      <td>300.350006</td>\n",
       "      <td>307.709991</td>\n",
       "      <td>41587100.0</td>\n",
       "      <td>307.709991</td>\n",
       "    </tr>\n",
       "    <tr>\n",
       "      <th>2020-05-18</th>\n",
       "      <td>316.500000</td>\n",
       "      <td>310.320007</td>\n",
       "      <td>313.170013</td>\n",
       "      <td>314.959991</td>\n",
       "      <td>33843100.0</td>\n",
       "      <td>314.959991</td>\n",
       "    </tr>\n",
       "    <tr>\n",
       "      <th>2020-05-19</th>\n",
       "      <td>318.519989</td>\n",
       "      <td>313.010010</td>\n",
       "      <td>315.029999</td>\n",
       "      <td>313.140015</td>\n",
       "      <td>25432400.0</td>\n",
       "      <td>313.140015</td>\n",
       "    </tr>\n",
       "    <tr>\n",
       "      <th>2020-05-20</th>\n",
       "      <td>319.519989</td>\n",
       "      <td>316.519989</td>\n",
       "      <td>316.679993</td>\n",
       "      <td>319.230011</td>\n",
       "      <td>27876200.0</td>\n",
       "      <td>319.230011</td>\n",
       "    </tr>\n",
       "    <tr>\n",
       "      <th>2020-05-21</th>\n",
       "      <td>320.890015</td>\n",
       "      <td>315.869995</td>\n",
       "      <td>318.660004</td>\n",
       "      <td>316.850006</td>\n",
       "      <td>25672200.0</td>\n",
       "      <td>316.850006</td>\n",
       "    </tr>\n",
       "    <tr>\n",
       "      <th>2020-05-22</th>\n",
       "      <td>319.230011</td>\n",
       "      <td>315.350006</td>\n",
       "      <td>315.769989</td>\n",
       "      <td>318.890015</td>\n",
       "      <td>20450800.0</td>\n",
       "      <td>318.890015</td>\n",
       "    </tr>\n",
       "    <tr>\n",
       "      <th>2020-05-26</th>\n",
       "      <td>324.239990</td>\n",
       "      <td>316.500000</td>\n",
       "      <td>323.500000</td>\n",
       "      <td>316.730011</td>\n",
       "      <td>31380500.0</td>\n",
       "      <td>316.730011</td>\n",
       "    </tr>\n",
       "    <tr>\n",
       "      <th>2020-05-27</th>\n",
       "      <td>318.709991</td>\n",
       "      <td>313.089996</td>\n",
       "      <td>316.140015</td>\n",
       "      <td>318.109985</td>\n",
       "      <td>28236300.0</td>\n",
       "      <td>318.109985</td>\n",
       "    </tr>\n",
       "    <tr>\n",
       "      <th>2020-05-28</th>\n",
       "      <td>323.440002</td>\n",
       "      <td>315.630005</td>\n",
       "      <td>316.769989</td>\n",
       "      <td>318.250000</td>\n",
       "      <td>33390200.0</td>\n",
       "      <td>318.250000</td>\n",
       "    </tr>\n",
       "    <tr>\n",
       "      <th>2020-05-29</th>\n",
       "      <td>321.149994</td>\n",
       "      <td>316.470001</td>\n",
       "      <td>319.250000</td>\n",
       "      <td>317.940002</td>\n",
       "      <td>38399500.0</td>\n",
       "      <td>317.940002</td>\n",
       "    </tr>\n",
       "    <tr>\n",
       "      <th>2020-06-01</th>\n",
       "      <td>322.350006</td>\n",
       "      <td>317.209991</td>\n",
       "      <td>317.750000</td>\n",
       "      <td>321.850006</td>\n",
       "      <td>20197800.0</td>\n",
       "      <td>321.850006</td>\n",
       "    </tr>\n",
       "  </tbody>\n",
       "</table>\n",
       "</div>"
      ],
      "text/plain": [
       "                  High         Low        Open       Close      Volume  \\\n",
       "Date                                                                     \n",
       "2020-05-01  299.000000  285.850006  286.250000  289.070007  60154200.0   \n",
       "2020-05-04  293.690002  286.320007  289.170013  293.160004  33392000.0   \n",
       "2020-05-05  301.000000  294.459991  295.059998  297.559998  36937800.0   \n",
       "2020-05-06  303.239990  298.869995  300.459991  300.630005  35583400.0   \n",
       "2020-05-07  305.170013  301.970001  303.220001  303.739990  28803800.0   \n",
       "2020-05-08  310.350006  304.290009  305.640015  310.130005  33512000.0   \n",
       "2020-05-11  317.049988  307.239990  308.100006  315.010010  36405900.0   \n",
       "2020-05-12  319.690002  310.910004  317.829987  311.410004  40575300.0   \n",
       "2020-05-13  315.950012  303.209991  312.149994  307.649994  50155600.0   \n",
       "2020-05-14  309.790009  301.529999  304.510010  309.540009  39732300.0   \n",
       "2020-05-15  307.899994  300.209991  300.350006  307.709991  41587100.0   \n",
       "2020-05-18  316.500000  310.320007  313.170013  314.959991  33843100.0   \n",
       "2020-05-19  318.519989  313.010010  315.029999  313.140015  25432400.0   \n",
       "2020-05-20  319.519989  316.519989  316.679993  319.230011  27876200.0   \n",
       "2020-05-21  320.890015  315.869995  318.660004  316.850006  25672200.0   \n",
       "2020-05-22  319.230011  315.350006  315.769989  318.890015  20450800.0   \n",
       "2020-05-26  324.239990  316.500000  323.500000  316.730011  31380500.0   \n",
       "2020-05-27  318.709991  313.089996  316.140015  318.109985  28236300.0   \n",
       "2020-05-28  323.440002  315.630005  316.769989  318.250000  33390200.0   \n",
       "2020-05-29  321.149994  316.470001  319.250000  317.940002  38399500.0   \n",
       "2020-06-01  322.350006  317.209991  317.750000  321.850006  20197800.0   \n",
       "\n",
       "             Adj Close  \n",
       "Date                    \n",
       "2020-05-01  288.289612  \n",
       "2020-05-04  292.368561  \n",
       "2020-05-05  296.756683  \n",
       "2020-05-06  299.818390  \n",
       "2020-05-07  302.919983  \n",
       "2020-05-08  310.130005  \n",
       "2020-05-11  315.010010  \n",
       "2020-05-12  311.410004  \n",
       "2020-05-13  307.649994  \n",
       "2020-05-14  309.540009  \n",
       "2020-05-15  307.709991  \n",
       "2020-05-18  314.959991  \n",
       "2020-05-19  313.140015  \n",
       "2020-05-20  319.230011  \n",
       "2020-05-21  316.850006  \n",
       "2020-05-22  318.890015  \n",
       "2020-05-26  316.730011  \n",
       "2020-05-27  318.109985  \n",
       "2020-05-28  318.250000  \n",
       "2020-05-29  317.940002  \n",
       "2020-06-01  321.850006  "
      ]
     },
     "execution_count": 60,
     "metadata": {},
     "output_type": "execute_result"
    }
   ],
   "source": [
    "# extracting the OHLCV from 1-5-20 to 1-6-20.\n",
    "\n",
    "aaple.loc[pd.Timestamp('2020-05-01'): pd.Timestamp('2020-06-01')]"
   ]
  },
  {
   "cell_type": "code",
   "execution_count": 54,
   "metadata": {},
   "outputs": [
    {
     "data": {
      "text/plain": [
       "High         1.174400e+02\n",
       "Low          1.121000e+02\n",
       "Open         1.129500e+02\n",
       "Close        1.154000e+02\n",
       "Volume       9.931260e+07\n",
       "Adj Close    1.063537e+02\n",
       "Name: 2015-08-05 00:00:00, dtype: float64"
      ]
     },
     "execution_count": 54,
     "metadata": {},
     "output_type": "execute_result"
    }
   ],
   "source": [
    "# extracting the OHLCV on row 24.\n",
    "\n",
    "aaple.iloc[23]"
   ]
  },
  {
   "cell_type": "code",
   "execution_count": 61,
   "metadata": {},
   "outputs": [
    {
     "data": {
      "text/plain": [
       "High         3.658800e+02\n",
       "Low          3.600000e+02\n",
       "Open         3.600800e+02\n",
       "Close        3.624300e+02\n",
       "Volume       2.100596e+07\n",
       "Adj Close    3.624300e+02\n",
       "Name: 2020-06-30 00:00:00, dtype: float64"
      ]
     },
     "execution_count": 61,
     "metadata": {},
     "output_type": "execute_result"
    }
   ],
   "source": [
    "# extracting the OHLCV on the last row.\n",
    "\n",
    "aaple.iloc[-1]"
   ]
  },
  {
   "cell_type": "code",
   "execution_count": 55,
   "metadata": {
    "scrolled": true
   },
   "outputs": [
    {
     "data": {
      "text/html": [
       "<div>\n",
       "<style scoped>\n",
       "    .dataframe tbody tr th:only-of-type {\n",
       "        vertical-align: middle;\n",
       "    }\n",
       "\n",
       "    .dataframe tbody tr th {\n",
       "        vertical-align: top;\n",
       "    }\n",
       "\n",
       "    .dataframe thead th {\n",
       "        text-align: right;\n",
       "    }\n",
       "</style>\n",
       "<table border=\"1\" class=\"dataframe\">\n",
       "  <thead>\n",
       "    <tr style=\"text-align: right;\">\n",
       "      <th></th>\n",
       "      <th>High</th>\n",
       "      <th>Low</th>\n",
       "      <th>Open</th>\n",
       "      <th>Close</th>\n",
       "      <th>Volume</th>\n",
       "      <th>Adj Close</th>\n",
       "    </tr>\n",
       "    <tr>\n",
       "      <th>Date</th>\n",
       "      <th></th>\n",
       "      <th></th>\n",
       "      <th></th>\n",
       "      <th></th>\n",
       "      <th></th>\n",
       "      <th></th>\n",
       "    </tr>\n",
       "  </thead>\n",
       "  <tbody>\n",
       "    <tr>\n",
       "      <th>2015-08-05</th>\n",
       "      <td>117.440002</td>\n",
       "      <td>112.099998</td>\n",
       "      <td>112.949997</td>\n",
       "      <td>115.400002</td>\n",
       "      <td>99312600.0</td>\n",
       "      <td>106.353653</td>\n",
       "    </tr>\n",
       "    <tr>\n",
       "      <th>2015-08-06</th>\n",
       "      <td>116.500000</td>\n",
       "      <td>114.120003</td>\n",
       "      <td>115.970001</td>\n",
       "      <td>115.129997</td>\n",
       "      <td>52903000.0</td>\n",
       "      <td>106.585083</td>\n",
       "    </tr>\n",
       "    <tr>\n",
       "      <th>2015-08-07</th>\n",
       "      <td>116.250000</td>\n",
       "      <td>114.500000</td>\n",
       "      <td>114.580002</td>\n",
       "      <td>115.519997</td>\n",
       "      <td>38670400.0</td>\n",
       "      <td>106.946136</td>\n",
       "    </tr>\n",
       "    <tr>\n",
       "      <th>2015-08-10</th>\n",
       "      <td>119.989998</td>\n",
       "      <td>116.529999</td>\n",
       "      <td>116.529999</td>\n",
       "      <td>119.720001</td>\n",
       "      <td>54951600.0</td>\n",
       "      <td>110.834412</td>\n",
       "    </tr>\n",
       "    <tr>\n",
       "      <th>2015-08-11</th>\n",
       "      <td>118.180000</td>\n",
       "      <td>113.330002</td>\n",
       "      <td>117.809998</td>\n",
       "      <td>113.489998</td>\n",
       "      <td>97082800.0</td>\n",
       "      <td>105.066818</td>\n",
       "    </tr>\n",
       "    <tr>\n",
       "      <th>2015-08-12</th>\n",
       "      <td>115.419998</td>\n",
       "      <td>109.629997</td>\n",
       "      <td>112.529999</td>\n",
       "      <td>115.239998</td>\n",
       "      <td>101217500.0</td>\n",
       "      <td>106.686913</td>\n",
       "    </tr>\n",
       "    <tr>\n",
       "      <th>2015-08-13</th>\n",
       "      <td>116.400002</td>\n",
       "      <td>114.540001</td>\n",
       "      <td>116.040001</td>\n",
       "      <td>115.150002</td>\n",
       "      <td>48535800.0</td>\n",
       "      <td>106.603600</td>\n",
       "    </tr>\n",
       "    <tr>\n",
       "      <th>2015-08-14</th>\n",
       "      <td>116.309998</td>\n",
       "      <td>114.010002</td>\n",
       "      <td>114.320000</td>\n",
       "      <td>115.959999</td>\n",
       "      <td>42929500.0</td>\n",
       "      <td>107.353477</td>\n",
       "    </tr>\n",
       "    <tr>\n",
       "      <th>2015-08-17</th>\n",
       "      <td>117.650002</td>\n",
       "      <td>115.500000</td>\n",
       "      <td>116.040001</td>\n",
       "      <td>117.160004</td>\n",
       "      <td>40884700.0</td>\n",
       "      <td>108.464417</td>\n",
       "    </tr>\n",
       "    <tr>\n",
       "      <th>2015-08-18</th>\n",
       "      <td>117.440002</td>\n",
       "      <td>116.010002</td>\n",
       "      <td>116.430000</td>\n",
       "      <td>116.500000</td>\n",
       "      <td>34560700.0</td>\n",
       "      <td>107.853416</td>\n",
       "    </tr>\n",
       "    <tr>\n",
       "      <th>2015-08-19</th>\n",
       "      <td>116.519997</td>\n",
       "      <td>114.680000</td>\n",
       "      <td>116.099998</td>\n",
       "      <td>115.010002</td>\n",
       "      <td>48286500.0</td>\n",
       "      <td>106.474007</td>\n",
       "    </tr>\n",
       "    <tr>\n",
       "      <th>2015-08-20</th>\n",
       "      <td>114.349998</td>\n",
       "      <td>111.629997</td>\n",
       "      <td>114.080002</td>\n",
       "      <td>112.650002</td>\n",
       "      <td>68501600.0</td>\n",
       "      <td>104.289146</td>\n",
       "    </tr>\n",
       "    <tr>\n",
       "      <th>2015-08-21</th>\n",
       "      <td>111.900002</td>\n",
       "      <td>105.650002</td>\n",
       "      <td>110.430000</td>\n",
       "      <td>105.760002</td>\n",
       "      <td>128275500.0</td>\n",
       "      <td>97.910515</td>\n",
       "    </tr>\n",
       "    <tr>\n",
       "      <th>2015-08-24</th>\n",
       "      <td>108.800003</td>\n",
       "      <td>92.000000</td>\n",
       "      <td>94.870003</td>\n",
       "      <td>103.120003</td>\n",
       "      <td>162206300.0</td>\n",
       "      <td>95.466469</td>\n",
       "    </tr>\n",
       "    <tr>\n",
       "      <th>2015-08-25</th>\n",
       "      <td>111.110001</td>\n",
       "      <td>103.500000</td>\n",
       "      <td>111.110001</td>\n",
       "      <td>103.739998</td>\n",
       "      <td>103601600.0</td>\n",
       "      <td>96.040459</td>\n",
       "    </tr>\n",
       "    <tr>\n",
       "      <th>2015-08-26</th>\n",
       "      <td>109.889999</td>\n",
       "      <td>105.050003</td>\n",
       "      <td>107.089996</td>\n",
       "      <td>109.690002</td>\n",
       "      <td>96774600.0</td>\n",
       "      <td>101.548851</td>\n",
       "    </tr>\n",
       "    <tr>\n",
       "      <th>2015-08-27</th>\n",
       "      <td>113.239998</td>\n",
       "      <td>110.019997</td>\n",
       "      <td>112.230003</td>\n",
       "      <td>112.919998</td>\n",
       "      <td>84616100.0</td>\n",
       "      <td>104.539131</td>\n",
       "    </tr>\n",
       "    <tr>\n",
       "      <th>2015-08-28</th>\n",
       "      <td>113.309998</td>\n",
       "      <td>111.540001</td>\n",
       "      <td>112.169998</td>\n",
       "      <td>113.290001</td>\n",
       "      <td>53164400.0</td>\n",
       "      <td>104.881653</td>\n",
       "    </tr>\n",
       "    <tr>\n",
       "      <th>2015-08-31</th>\n",
       "      <td>114.529999</td>\n",
       "      <td>112.000000</td>\n",
       "      <td>112.029999</td>\n",
       "      <td>112.760002</td>\n",
       "      <td>56229300.0</td>\n",
       "      <td>104.390999</td>\n",
       "    </tr>\n",
       "    <tr>\n",
       "      <th>2015-09-01</th>\n",
       "      <td>111.879997</td>\n",
       "      <td>107.360001</td>\n",
       "      <td>110.150002</td>\n",
       "      <td>107.720001</td>\n",
       "      <td>76845900.0</td>\n",
       "      <td>99.725060</td>\n",
       "    </tr>\n",
       "  </tbody>\n",
       "</table>\n",
       "</div>"
      ],
      "text/plain": [
       "                  High         Low        Open       Close       Volume  \\\n",
       "Date                                                                      \n",
       "2015-08-05  117.440002  112.099998  112.949997  115.400002   99312600.0   \n",
       "2015-08-06  116.500000  114.120003  115.970001  115.129997   52903000.0   \n",
       "2015-08-07  116.250000  114.500000  114.580002  115.519997   38670400.0   \n",
       "2015-08-10  119.989998  116.529999  116.529999  119.720001   54951600.0   \n",
       "2015-08-11  118.180000  113.330002  117.809998  113.489998   97082800.0   \n",
       "2015-08-12  115.419998  109.629997  112.529999  115.239998  101217500.0   \n",
       "2015-08-13  116.400002  114.540001  116.040001  115.150002   48535800.0   \n",
       "2015-08-14  116.309998  114.010002  114.320000  115.959999   42929500.0   \n",
       "2015-08-17  117.650002  115.500000  116.040001  117.160004   40884700.0   \n",
       "2015-08-18  117.440002  116.010002  116.430000  116.500000   34560700.0   \n",
       "2015-08-19  116.519997  114.680000  116.099998  115.010002   48286500.0   \n",
       "2015-08-20  114.349998  111.629997  114.080002  112.650002   68501600.0   \n",
       "2015-08-21  111.900002  105.650002  110.430000  105.760002  128275500.0   \n",
       "2015-08-24  108.800003   92.000000   94.870003  103.120003  162206300.0   \n",
       "2015-08-25  111.110001  103.500000  111.110001  103.739998  103601600.0   \n",
       "2015-08-26  109.889999  105.050003  107.089996  109.690002   96774600.0   \n",
       "2015-08-27  113.239998  110.019997  112.230003  112.919998   84616100.0   \n",
       "2015-08-28  113.309998  111.540001  112.169998  113.290001   53164400.0   \n",
       "2015-08-31  114.529999  112.000000  112.029999  112.760002   56229300.0   \n",
       "2015-09-01  111.879997  107.360001  110.150002  107.720001   76845900.0   \n",
       "\n",
       "             Adj Close  \n",
       "Date                    \n",
       "2015-08-05  106.353653  \n",
       "2015-08-06  106.585083  \n",
       "2015-08-07  106.946136  \n",
       "2015-08-10  110.834412  \n",
       "2015-08-11  105.066818  \n",
       "2015-08-12  106.686913  \n",
       "2015-08-13  106.603600  \n",
       "2015-08-14  107.353477  \n",
       "2015-08-17  108.464417  \n",
       "2015-08-18  107.853416  \n",
       "2015-08-19  106.474007  \n",
       "2015-08-20  104.289146  \n",
       "2015-08-21   97.910515  \n",
       "2015-08-24   95.466469  \n",
       "2015-08-25   96.040459  \n",
       "2015-08-26  101.548851  \n",
       "2015-08-27  104.539131  \n",
       "2015-08-28  104.881653  \n",
       "2015-08-31  104.390999  \n",
       "2015-09-01   99.725060  "
      ]
     },
     "execution_count": 55,
     "metadata": {},
     "output_type": "execute_result"
    }
   ],
   "source": [
    "# extracting the OHLCV from 24th to 43th row\n",
    "\n",
    "aaple.iloc[23: 43]"
   ]
  },
  {
   "cell_type": "code",
   "execution_count": 56,
   "metadata": {},
   "outputs": [
    {
     "data": {
      "text/html": [
       "<div>\n",
       "<style scoped>\n",
       "    .dataframe tbody tr th:only-of-type {\n",
       "        vertical-align: middle;\n",
       "    }\n",
       "\n",
       "    .dataframe tbody tr th {\n",
       "        vertical-align: top;\n",
       "    }\n",
       "\n",
       "    .dataframe thead th {\n",
       "        text-align: right;\n",
       "    }\n",
       "</style>\n",
       "<table border=\"1\" class=\"dataframe\">\n",
       "  <thead>\n",
       "    <tr style=\"text-align: right;\">\n",
       "      <th></th>\n",
       "      <th>High</th>\n",
       "      <th>Low</th>\n",
       "      <th>Open</th>\n",
       "      <th>Close</th>\n",
       "      <th>Volume</th>\n",
       "      <th>Adj Close</th>\n",
       "    </tr>\n",
       "    <tr>\n",
       "      <th>Date</th>\n",
       "      <th></th>\n",
       "      <th></th>\n",
       "      <th></th>\n",
       "      <th></th>\n",
       "      <th></th>\n",
       "      <th></th>\n",
       "    </tr>\n",
       "  </thead>\n",
       "  <tbody>\n",
       "    <tr>\n",
       "      <th>2015-08-05</th>\n",
       "      <td>117.440002</td>\n",
       "      <td>112.099998</td>\n",
       "      <td>112.949997</td>\n",
       "      <td>115.400002</td>\n",
       "      <td>99312600.0</td>\n",
       "      <td>106.353653</td>\n",
       "    </tr>\n",
       "    <tr>\n",
       "      <th>2015-09-04</th>\n",
       "      <td>110.449997</td>\n",
       "      <td>108.510002</td>\n",
       "      <td>108.970001</td>\n",
       "      <td>109.269997</td>\n",
       "      <td>49996300.0</td>\n",
       "      <td>101.160019</td>\n",
       "    </tr>\n",
       "    <tr>\n",
       "      <th>2015-09-08</th>\n",
       "      <td>112.559998</td>\n",
       "      <td>110.320000</td>\n",
       "      <td>111.750000</td>\n",
       "      <td>112.309998</td>\n",
       "      <td>54843600.0</td>\n",
       "      <td>103.974388</td>\n",
       "    </tr>\n",
       "  </tbody>\n",
       "</table>\n",
       "</div>"
      ],
      "text/plain": [
       "                  High         Low        Open       Close      Volume  \\\n",
       "Date                                                                     \n",
       "2015-08-05  117.440002  112.099998  112.949997  115.400002  99312600.0   \n",
       "2015-09-04  110.449997  108.510002  108.970001  109.269997  49996300.0   \n",
       "2015-09-08  112.559998  110.320000  111.750000  112.309998  54843600.0   \n",
       "\n",
       "             Adj Close  \n",
       "Date                    \n",
       "2015-08-05  106.353653  \n",
       "2015-09-04  101.160019  \n",
       "2015-09-08  103.974388  "
      ]
     },
     "execution_count": 56,
     "metadata": {},
     "output_type": "execute_result"
    }
   ],
   "source": [
    "# extracting the OHLCV on 24th, 46th & 47th row.\n",
    "\n",
    "aaple.iloc[[23, 45, 46]]"
   ]
  },
  {
   "cell_type": "markdown",
   "metadata": {},
   "source": [
    "### The df.truncate() method would drop the rows before & after the mentioned arguments."
   ]
  },
  {
   "cell_type": "code",
   "execution_count": 62,
   "metadata": {},
   "outputs": [
    {
     "data": {
      "text/html": [
       "<div>\n",
       "<style scoped>\n",
       "    .dataframe tbody tr th:only-of-type {\n",
       "        vertical-align: middle;\n",
       "    }\n",
       "\n",
       "    .dataframe tbody tr th {\n",
       "        vertical-align: top;\n",
       "    }\n",
       "\n",
       "    .dataframe thead th {\n",
       "        text-align: right;\n",
       "    }\n",
       "</style>\n",
       "<table border=\"1\" class=\"dataframe\">\n",
       "  <thead>\n",
       "    <tr style=\"text-align: right;\">\n",
       "      <th></th>\n",
       "      <th>High</th>\n",
       "      <th>Low</th>\n",
       "      <th>Open</th>\n",
       "      <th>Close</th>\n",
       "      <th>Volume</th>\n",
       "      <th>Adj Close</th>\n",
       "    </tr>\n",
       "    <tr>\n",
       "      <th>Date</th>\n",
       "      <th></th>\n",
       "      <th></th>\n",
       "      <th></th>\n",
       "      <th></th>\n",
       "      <th></th>\n",
       "      <th></th>\n",
       "    </tr>\n",
       "  </thead>\n",
       "  <tbody>\n",
       "    <tr>\n",
       "      <th>2020-01-02</th>\n",
       "      <td>300.600006</td>\n",
       "      <td>295.190002</td>\n",
       "      <td>296.239990</td>\n",
       "      <td>300.350006</td>\n",
       "      <td>33870100.0</td>\n",
       "      <td>298.829956</td>\n",
       "    </tr>\n",
       "    <tr>\n",
       "      <th>2020-01-03</th>\n",
       "      <td>300.579987</td>\n",
       "      <td>296.500000</td>\n",
       "      <td>297.149994</td>\n",
       "      <td>297.429993</td>\n",
       "      <td>36580700.0</td>\n",
       "      <td>295.924713</td>\n",
       "    </tr>\n",
       "    <tr>\n",
       "      <th>2020-01-06</th>\n",
       "      <td>299.959991</td>\n",
       "      <td>292.750000</td>\n",
       "      <td>293.790009</td>\n",
       "      <td>299.799988</td>\n",
       "      <td>29596800.0</td>\n",
       "      <td>298.282715</td>\n",
       "    </tr>\n",
       "    <tr>\n",
       "      <th>2020-01-07</th>\n",
       "      <td>300.899994</td>\n",
       "      <td>297.480011</td>\n",
       "      <td>299.839996</td>\n",
       "      <td>298.390015</td>\n",
       "      <td>27218000.0</td>\n",
       "      <td>296.879883</td>\n",
       "    </tr>\n",
       "    <tr>\n",
       "      <th>2020-01-08</th>\n",
       "      <td>304.440002</td>\n",
       "      <td>297.160004</td>\n",
       "      <td>297.160004</td>\n",
       "      <td>303.190002</td>\n",
       "      <td>33019800.0</td>\n",
       "      <td>301.655548</td>\n",
       "    </tr>\n",
       "    <tr>\n",
       "      <th>...</th>\n",
       "      <td>...</td>\n",
       "      <td>...</td>\n",
       "      <td>...</td>\n",
       "      <td>...</td>\n",
       "      <td>...</td>\n",
       "      <td>...</td>\n",
       "    </tr>\n",
       "    <tr>\n",
       "      <th>2020-05-22</th>\n",
       "      <td>319.230011</td>\n",
       "      <td>315.350006</td>\n",
       "      <td>315.769989</td>\n",
       "      <td>318.890015</td>\n",
       "      <td>20450800.0</td>\n",
       "      <td>318.890015</td>\n",
       "    </tr>\n",
       "    <tr>\n",
       "      <th>2020-05-26</th>\n",
       "      <td>324.239990</td>\n",
       "      <td>316.500000</td>\n",
       "      <td>323.500000</td>\n",
       "      <td>316.730011</td>\n",
       "      <td>31380500.0</td>\n",
       "      <td>316.730011</td>\n",
       "    </tr>\n",
       "    <tr>\n",
       "      <th>2020-05-27</th>\n",
       "      <td>318.709991</td>\n",
       "      <td>313.089996</td>\n",
       "      <td>316.140015</td>\n",
       "      <td>318.109985</td>\n",
       "      <td>28236300.0</td>\n",
       "      <td>318.109985</td>\n",
       "    </tr>\n",
       "    <tr>\n",
       "      <th>2020-05-28</th>\n",
       "      <td>323.440002</td>\n",
       "      <td>315.630005</td>\n",
       "      <td>316.769989</td>\n",
       "      <td>318.250000</td>\n",
       "      <td>33390200.0</td>\n",
       "      <td>318.250000</td>\n",
       "    </tr>\n",
       "    <tr>\n",
       "      <th>2020-05-29</th>\n",
       "      <td>321.149994</td>\n",
       "      <td>316.470001</td>\n",
       "      <td>319.250000</td>\n",
       "      <td>317.940002</td>\n",
       "      <td>38399500.0</td>\n",
       "      <td>317.940002</td>\n",
       "    </tr>\n",
       "  </tbody>\n",
       "</table>\n",
       "<p>103 rows × 6 columns</p>\n",
       "</div>"
      ],
      "text/plain": [
       "                  High         Low        Open       Close      Volume  \\\n",
       "Date                                                                     \n",
       "2020-01-02  300.600006  295.190002  296.239990  300.350006  33870100.0   \n",
       "2020-01-03  300.579987  296.500000  297.149994  297.429993  36580700.0   \n",
       "2020-01-06  299.959991  292.750000  293.790009  299.799988  29596800.0   \n",
       "2020-01-07  300.899994  297.480011  299.839996  298.390015  27218000.0   \n",
       "2020-01-08  304.440002  297.160004  297.160004  303.190002  33019800.0   \n",
       "...                ...         ...         ...         ...         ...   \n",
       "2020-05-22  319.230011  315.350006  315.769989  318.890015  20450800.0   \n",
       "2020-05-26  324.239990  316.500000  323.500000  316.730011  31380500.0   \n",
       "2020-05-27  318.709991  313.089996  316.140015  318.109985  28236300.0   \n",
       "2020-05-28  323.440002  315.630005  316.769989  318.250000  33390200.0   \n",
       "2020-05-29  321.149994  316.470001  319.250000  317.940002  38399500.0   \n",
       "\n",
       "             Adj Close  \n",
       "Date                    \n",
       "2020-01-02  298.829956  \n",
       "2020-01-03  295.924713  \n",
       "2020-01-06  298.282715  \n",
       "2020-01-07  296.879883  \n",
       "2020-01-08  301.655548  \n",
       "...                ...  \n",
       "2020-05-22  318.890015  \n",
       "2020-05-26  316.730011  \n",
       "2020-05-27  318.109985  \n",
       "2020-05-28  318.250000  \n",
       "2020-05-29  317.940002  \n",
       "\n",
       "[103 rows x 6 columns]"
      ]
     },
     "execution_count": 62,
     "metadata": {},
     "output_type": "execute_result"
    }
   ],
   "source": [
    "# getting the OHLCV from 1-1-20 to 31-5-20.\n",
    "\n",
    "aaple.truncate(before='2020-01-01', after='2020-05-31')"
   ]
  },
  {
   "cell_type": "markdown",
   "metadata": {},
   "source": [
    "# # pd.DateOffset object\n",
    "\n",
    "#### Adding time to a given timestamp is not straightforward, eg. adding 3 days to 28th feb of one year might not be the same as other. The DateOffset object takes care of problems like these.\n",
    "\n",
    "#### keyword args of pd.DateOffset().\n",
    "\n",
    "    - years\n",
    "    - months\n",
    "    - weeks\n",
    "    - days\n",
    "    - hours\n",
    "    - minutes\n",
    "    - seconds\n",
    "    - microseconds\n",
    "    - nanoseconds"
   ]
  },
  {
   "cell_type": "code",
   "execution_count": 5,
   "metadata": {
    "collapsed": true
   },
   "outputs": [
    {
     "ename": "NullFrequencyError",
     "evalue": "Cannot shift with no freq",
     "output_type": "error",
     "traceback": [
      "\u001b[1;31m---------------------------------------------------------------------------\u001b[0m",
      "\u001b[1;31mNullFrequencyError\u001b[0m                        Traceback (most recent call last)",
      "\u001b[1;32m<ipython-input-5-bd208d279eaf>\u001b[0m in \u001b[0;36m<module>\u001b[1;34m\u001b[0m\n\u001b[0;32m      1\u001b[0m \u001b[1;31m# trying to add 5 days to every date in Timeseriesindex\u001b[0m\u001b[1;33m\u001b[0m\u001b[1;33m\u001b[0m\u001b[1;33m\u001b[0m\u001b[0m\n\u001b[0;32m      2\u001b[0m \u001b[1;33m\u001b[0m\u001b[0m\n\u001b[1;32m----> 3\u001b[1;33m \u001b[0maaple\u001b[0m\u001b[1;33m.\u001b[0m\u001b[0mindex\u001b[0m \u001b[1;33m+\u001b[0m \u001b[1;36m5\u001b[0m\u001b[1;33m\u001b[0m\u001b[1;33m\u001b[0m\u001b[0m\n\u001b[0m",
      "\u001b[1;32mc:\\program files\\python37\\lib\\site-packages\\pandas\\core\\indexes\\datetimelike.py\u001b[0m in \u001b[0;36m__add__\u001b[1;34m(self, other)\u001b[0m\n\u001b[0;32m    508\u001b[0m         \u001b[1;32mdef\u001b[0m \u001b[0m__add__\u001b[0m\u001b[1;33m(\u001b[0m\u001b[0mself\u001b[0m\u001b[1;33m,\u001b[0m \u001b[0mother\u001b[0m\u001b[1;33m)\u001b[0m\u001b[1;33m:\u001b[0m\u001b[1;33m\u001b[0m\u001b[1;33m\u001b[0m\u001b[0m\n\u001b[0;32m    509\u001b[0m             \u001b[1;31m# dispatch to ExtensionArray implementation\u001b[0m\u001b[1;33m\u001b[0m\u001b[1;33m\u001b[0m\u001b[1;33m\u001b[0m\u001b[0m\n\u001b[1;32m--> 510\u001b[1;33m             \u001b[0mresult\u001b[0m \u001b[1;33m=\u001b[0m \u001b[0mself\u001b[0m\u001b[1;33m.\u001b[0m\u001b[0m_data\u001b[0m\u001b[1;33m.\u001b[0m\u001b[0m__add__\u001b[0m\u001b[1;33m(\u001b[0m\u001b[0mmaybe_unwrap_index\u001b[0m\u001b[1;33m(\u001b[0m\u001b[0mother\u001b[0m\u001b[1;33m)\u001b[0m\u001b[1;33m)\u001b[0m\u001b[1;33m\u001b[0m\u001b[1;33m\u001b[0m\u001b[0m\n\u001b[0m\u001b[0;32m    511\u001b[0m             \u001b[1;32mreturn\u001b[0m \u001b[0mwrap_arithmetic_op\u001b[0m\u001b[1;33m(\u001b[0m\u001b[0mself\u001b[0m\u001b[1;33m,\u001b[0m \u001b[0mother\u001b[0m\u001b[1;33m,\u001b[0m \u001b[0mresult\u001b[0m\u001b[1;33m)\u001b[0m\u001b[1;33m\u001b[0m\u001b[1;33m\u001b[0m\u001b[0m\n\u001b[0;32m    512\u001b[0m \u001b[1;33m\u001b[0m\u001b[0m\n",
      "\u001b[1;32mc:\\program files\\python37\\lib\\site-packages\\pandas\\core\\arrays\\datetimelike.py\u001b[0m in \u001b[0;36m__add__\u001b[1;34m(self, other)\u001b[0m\n\u001b[0;32m   1218\u001b[0m             \u001b[1;32mif\u001b[0m \u001b[1;32mnot\u001b[0m \u001b[0mis_period_dtype\u001b[0m\u001b[1;33m(\u001b[0m\u001b[0mself\u001b[0m\u001b[1;33m)\u001b[0m\u001b[1;33m:\u001b[0m\u001b[1;33m\u001b[0m\u001b[1;33m\u001b[0m\u001b[0m\n\u001b[0;32m   1219\u001b[0m                 \u001b[0mmaybe_integer_op_deprecated\u001b[0m\u001b[1;33m(\u001b[0m\u001b[0mself\u001b[0m\u001b[1;33m)\u001b[0m\u001b[1;33m\u001b[0m\u001b[1;33m\u001b[0m\u001b[0m\n\u001b[1;32m-> 1220\u001b[1;33m             \u001b[0mresult\u001b[0m \u001b[1;33m=\u001b[0m \u001b[0mself\u001b[0m\u001b[1;33m.\u001b[0m\u001b[0m_time_shift\u001b[0m\u001b[1;33m(\u001b[0m\u001b[0mother\u001b[0m\u001b[1;33m)\u001b[0m\u001b[1;33m\u001b[0m\u001b[1;33m\u001b[0m\u001b[0m\n\u001b[0m\u001b[0;32m   1221\u001b[0m \u001b[1;33m\u001b[0m\u001b[0m\n\u001b[0;32m   1222\u001b[0m         \u001b[1;31m# array-like others\u001b[0m\u001b[1;33m\u001b[0m\u001b[1;33m\u001b[0m\u001b[1;33m\u001b[0m\u001b[0m\n",
      "\u001b[1;32mc:\\program files\\python37\\lib\\site-packages\\pandas\\core\\arrays\\datetimelike.py\u001b[0m in \u001b[0;36m_time_shift\u001b[1;34m(self, periods, freq)\u001b[0m\n\u001b[0;32m   1188\u001b[0m \u001b[1;33m\u001b[0m\u001b[0m\n\u001b[0;32m   1189\u001b[0m         \u001b[1;32mif\u001b[0m \u001b[0mself\u001b[0m\u001b[1;33m.\u001b[0m\u001b[0mfreq\u001b[0m \u001b[1;32mis\u001b[0m \u001b[1;32mNone\u001b[0m\u001b[1;33m:\u001b[0m\u001b[1;33m\u001b[0m\u001b[1;33m\u001b[0m\u001b[0m\n\u001b[1;32m-> 1190\u001b[1;33m             \u001b[1;32mraise\u001b[0m \u001b[0mNullFrequencyError\u001b[0m\u001b[1;33m(\u001b[0m\u001b[1;34m\"Cannot shift with no freq\"\u001b[0m\u001b[1;33m)\u001b[0m\u001b[1;33m\u001b[0m\u001b[1;33m\u001b[0m\u001b[0m\n\u001b[0m\u001b[0;32m   1191\u001b[0m \u001b[1;33m\u001b[0m\u001b[0m\n\u001b[0;32m   1192\u001b[0m         \u001b[0mstart\u001b[0m \u001b[1;33m=\u001b[0m \u001b[0mself\u001b[0m\u001b[1;33m[\u001b[0m\u001b[1;36m0\u001b[0m\u001b[1;33m]\u001b[0m \u001b[1;33m+\u001b[0m \u001b[0mperiods\u001b[0m \u001b[1;33m*\u001b[0m \u001b[0mself\u001b[0m\u001b[1;33m.\u001b[0m\u001b[0mfreq\u001b[0m\u001b[1;33m\u001b[0m\u001b[1;33m\u001b[0m\u001b[0m\n",
      "\u001b[1;31mNullFrequencyError\u001b[0m: Cannot shift with no freq"
     ]
    }
   ],
   "source": [
    "# trying to add 5 days to every date in Timeseriesindex\n",
    "\n",
    "aaple.index + 5"
   ]
  },
  {
   "cell_type": "code",
   "execution_count": 6,
   "metadata": {},
   "outputs": [
    {
     "data": {
      "text/plain": [
       "DatetimeIndex(['2015-07-11', '2015-07-12', '2015-07-13', '2015-07-14',\n",
       "               '2015-07-15', '2015-07-18', '2015-07-19', '2015-07-20',\n",
       "               '2015-07-21', '2015-07-22',\n",
       "               ...\n",
       "               '2020-06-24', '2020-06-27', '2020-06-28', '2020-06-29',\n",
       "               '2020-06-30', '2020-07-01', '2020-07-04', '2020-07-05',\n",
       "               '2020-07-06', '2020-07-07'],\n",
       "              dtype='datetime64[ns]', name='Date', length=1259, freq=None)"
      ]
     },
     "execution_count": 6,
     "metadata": {},
     "output_type": "execute_result"
    }
   ],
   "source": [
    "aaple.index + pd.DateOffset(days=5)"
   ]
  },
  {
   "cell_type": "code",
   "execution_count": 7,
   "metadata": {},
   "outputs": [
    {
     "data": {
      "text/plain": [
       "DatetimeIndex(['2015-07-01', '2015-07-02', '2015-07-03', '2015-07-04',\n",
       "               '2015-07-05', '2015-07-08', '2015-07-09', '2015-07-10',\n",
       "               '2015-07-11', '2015-07-12',\n",
       "               ...\n",
       "               '2020-06-14', '2020-06-17', '2020-06-18', '2020-06-19',\n",
       "               '2020-06-20', '2020-06-21', '2020-06-24', '2020-06-25',\n",
       "               '2020-06-26', '2020-06-27'],\n",
       "              dtype='datetime64[ns]', name='Date', length=1259, freq=None)"
      ]
     },
     "execution_count": 7,
     "metadata": {},
     "output_type": "execute_result"
    }
   ],
   "source": [
    "# Subtracting 5 days from each date in DatetimeIndex.\n",
    "\n",
    "# aaple.index - pd.DateOffset(days=5)\n",
    "\n",
    "aaple.index + pd.DateOffset(days=-5)"
   ]
  },
  {
   "cell_type": "code",
   "execution_count": null,
   "metadata": {},
   "outputs": [],
   "source": [
    "aaple.index + pd.DateOffset(weeks=1)     # Adding 1 week.\n",
    "aaple.index - pd.DateOffset(weeks=1)     # Subtracting 1 week.\n",
    "\n",
    "aaple.index + pd.DateOffset(months=1)    # Adding 1 month.\n",
    "aaple.index - pd.DateOffset(months=1)    # Subtracting 1 month."
   ]
  },
  {
   "cell_type": "markdown",
   "metadata": {},
   "source": [
    "# # pd.tseries.offsets() methods."
   ]
  },
  {
   "cell_type": "code",
   "execution_count": 12,
   "metadata": {},
   "outputs": [
    {
     "data": {
      "text/plain": [
       "DatetimeIndex(['2015-07-13', '2015-07-14', '2015-07-15', '2015-07-16',\n",
       "               '2015-07-17', '2015-07-20', '2015-07-21', '2015-07-22',\n",
       "               '2015-07-23', '2015-07-24',\n",
       "               ...\n",
       "               '2020-06-26', '2020-06-29', '2020-06-30', '2020-07-01',\n",
       "               '2020-07-02', '2020-07-03', '2020-07-06', '2020-07-07',\n",
       "               '2020-07-08', '2020-07-09'],\n",
       "              dtype='datetime64[ns]', name='Date', length=1259, freq=None)"
      ]
     },
     "execution_count": 12,
     "metadata": {},
     "output_type": "execute_result"
    }
   ],
   "source": [
    "# Offsetting all the timestamps in the timeseries by 3 business days\n",
    "\n",
    "aaple.index + pd.tseries.offsets.BDay(3)"
   ]
  },
  {
   "cell_type": "code",
   "execution_count": 14,
   "metadata": {},
   "outputs": [
    {
     "name": "stderr",
     "output_type": "stream",
     "text": [
      "c:\\program files\\python37\\lib\\site-packages\\pandas\\core\\arrays\\datetimes.py:837: PerformanceWarning: Non-vectorized DateOffset being applied to Series or DatetimeIndex\n",
      "  PerformanceWarning,\n"
     ]
    },
    {
     "data": {
      "text/plain": [
       "DatetimeIndex(['2015-07-07', '2015-07-08', '2015-07-09', '2015-07-10',\n",
       "               '2015-07-13', '2015-07-14', '2015-07-15', '2015-07-16',\n",
       "               '2015-07-17', '2015-07-20',\n",
       "               ...\n",
       "               '2020-06-22', '2020-06-23', '2020-06-24', '2020-06-25',\n",
       "               '2020-06-26', '2020-06-29', '2020-06-30', '2020-07-01',\n",
       "               '2020-07-02', '2020-07-03'],\n",
       "              dtype='datetime64[ns]', name='Date', length=1259, freq=None)"
      ]
     },
     "execution_count": 14,
     "metadata": {},
     "output_type": "execute_result"
    }
   ],
   "source": [
    "# Custom business days \n",
    "\n",
    "aaple.index + pd.tseries.offsets.CDay(holidays=[pd.Timestamp('2020/05/10')])"
   ]
  },
  {
   "cell_type": "code",
   "execution_count": 19,
   "metadata": {},
   "outputs": [
    {
     "data": {
      "text/plain": [
       "DatetimeIndex(['2015-07-07', '2015-07-08', '2015-07-09', '2015-07-10',\n",
       "               '2015-07-13', '2015-07-14', '2015-07-15', '2015-07-16',\n",
       "               '2015-07-17', '2015-07-20',\n",
       "               ...\n",
       "               '2020-06-22', '2020-06-23', '2020-06-24', '2020-06-25',\n",
       "               '2020-06-26', '2020-06-29', '2020-06-30', '2020-07-01',\n",
       "               '2020-07-02', '2020-07-03'],\n",
       "              dtype='datetime64[ns]', name='Date', length=1259, freq=None)"
      ]
     },
     "execution_count": 19,
     "metadata": {},
     "output_type": "execute_result"
    }
   ],
   "source": [
    "# aaple.index + pd.tseries.offsets.BMonthBegin()\n",
    "# aaple.index + pd.tseries.offsets.BMonthEnd()\n",
    "aaple.index + pd.tseries.offsets.BusinessDay()"
   ]
  },
  {
   "cell_type": "markdown",
   "metadata": {},
   "source": [
    "# # pd.Timedelta() Object\n",
    "\n",
    "#### pd.Timedelta() indicats the difference in time.\n",
    "\n",
    "#### Valid keywords for directly producing a timedelta object are [weeks, days, hours, minutes, seconds, milliseconds, microseconds, nanoseconds]."
   ]
  },
  {
   "cell_type": "code",
   "execution_count": 20,
   "metadata": {},
   "outputs": [
    {
     "data": {
      "text/plain": [
       "Timedelta('11 days 00:00:00')"
      ]
     },
     "execution_count": 20,
     "metadata": {},
     "output_type": "execute_result"
    }
   ],
   "source": [
    "# creating timedelta through timestamps.\n",
    "\n",
    "time_a = pd.Timestamp('2020-03-31')\n",
    "time_b = pd.Timestamp('2020-03-20')\n",
    "\n",
    "time_a - time_b"
   ]
  },
  {
   "cell_type": "code",
   "execution_count": 21,
   "metadata": {},
   "outputs": [
    {
     "data": {
      "text/plain": [
       "Timedelta('-11 days +00:00:00')"
      ]
     },
     "execution_count": 21,
     "metadata": {},
     "output_type": "execute_result"
    }
   ],
   "source": [
    "time_b - time_a"
   ]
  },
  {
   "cell_type": "code",
   "execution_count": 29,
   "metadata": {},
   "outputs": [
    {
     "data": {
      "text/plain": [
       "Timedelta('7 days 03:40:40')"
      ]
     },
     "execution_count": 29,
     "metadata": {},
     "output_type": "execute_result"
    }
   ],
   "source": [
    "# Creting Timedelta directly.\n",
    "\n",
    "pd.Timedelta(days=3)\n",
    "pd.Timedelta(hours=3, minutes=40)\n",
    "pd.Timedelta(weeks=1, hours=3, minutes=40)\n",
    "pd.Timedelta(weeks=1, hours=3, minutes=40, seconds=40)"
   ]
  },
  {
   "cell_type": "code",
   "execution_count": 39,
   "metadata": {},
   "outputs": [
    {
     "data": {
      "text/plain": [
       "Timedelta('0 days 00:00:00.001000')"
      ]
     },
     "execution_count": 39,
     "metadata": {},
     "output_type": "execute_result"
    }
   ],
   "source": [
    "# Creating timedelta through strings.\n",
    "\n",
    "pd.Timedelta('1 minute')\n",
    "pd.Timedelta('1 sec')\n",
    "pd.Timedelta('1 milli')\n",
    "pd.Timedelta('1 nano')"
   ]
  },
  {
   "cell_type": "markdown",
   "metadata": {},
   "source": [
    "## Woking with Timedelta"
   ]
  },
  {
   "cell_type": "code",
   "execution_count": 42,
   "metadata": {},
   "outputs": [
    {
     "data": {
      "text/html": [
       "<div>\n",
       "<style scoped>\n",
       "    .dataframe tbody tr th:only-of-type {\n",
       "        vertical-align: middle;\n",
       "    }\n",
       "\n",
       "    .dataframe tbody tr th {\n",
       "        vertical-align: top;\n",
       "    }\n",
       "\n",
       "    .dataframe thead th {\n",
       "        text-align: right;\n",
       "    }\n",
       "</style>\n",
       "<table border=\"1\" class=\"dataframe\">\n",
       "  <thead>\n",
       "    <tr style=\"text-align: right;\">\n",
       "      <th></th>\n",
       "      <th>order_date</th>\n",
       "      <th>delivery_date</th>\n",
       "    </tr>\n",
       "    <tr>\n",
       "      <th>ID</th>\n",
       "      <th></th>\n",
       "      <th></th>\n",
       "    </tr>\n",
       "  </thead>\n",
       "  <tbody>\n",
       "    <tr>\n",
       "      <th>1</th>\n",
       "      <td>1998-05-24</td>\n",
       "      <td>1999-02-05</td>\n",
       "    </tr>\n",
       "    <tr>\n",
       "      <th>2</th>\n",
       "      <td>1992-04-22</td>\n",
       "      <td>1998-03-06</td>\n",
       "    </tr>\n",
       "    <tr>\n",
       "      <th>4</th>\n",
       "      <td>1991-02-10</td>\n",
       "      <td>1992-08-26</td>\n",
       "    </tr>\n",
       "  </tbody>\n",
       "</table>\n",
       "</div>"
      ],
      "text/plain": [
       "   order_date delivery_date\n",
       "ID                         \n",
       "1  1998-05-24    1999-02-05\n",
       "2  1992-04-22    1998-03-06\n",
       "4  1991-02-10    1992-08-26"
      ]
     },
     "execution_count": 42,
     "metadata": {},
     "output_type": "execute_result"
    }
   ],
   "source": [
    "ecom = pd.read_csv('Datasets/ecommerce.csv', index_col='ID', parse_dates=['order_date', 'delivery_date'])\n",
    "ecom.head(3)"
   ]
  },
  {
   "cell_type": "code",
   "execution_count": 43,
   "metadata": {},
   "outputs": [
    {
     "data": {
      "text/plain": [
       "ID\n",
       "1      257 days\n",
       "2     2144 days\n",
       "4      563 days\n",
       "5     1948 days\n",
       "7     1742 days\n",
       "         ...   \n",
       "990   1684 days\n",
       "991   2394 days\n",
       "993   2719 days\n",
       "994     10 days\n",
       "997    637 days\n",
       "Length: 501, dtype: timedelta64[ns]"
      ]
     },
     "execution_count": 43,
     "metadata": {},
     "output_type": "execute_result"
    }
   ],
   "source": [
    "ecom['delivery_date'] - ecom['order_date']"
   ]
  },
  {
   "cell_type": "code",
   "execution_count": 44,
   "metadata": {},
   "outputs": [],
   "source": [
    "ecom.insert(2, 'delivery Time', ecom['delivery_date'] - ecom['order_date'])"
   ]
  },
  {
   "cell_type": "code",
   "execution_count": 45,
   "metadata": {},
   "outputs": [
    {
     "data": {
      "text/html": [
       "<div>\n",
       "<style scoped>\n",
       "    .dataframe tbody tr th:only-of-type {\n",
       "        vertical-align: middle;\n",
       "    }\n",
       "\n",
       "    .dataframe tbody tr th {\n",
       "        vertical-align: top;\n",
       "    }\n",
       "\n",
       "    .dataframe thead th {\n",
       "        text-align: right;\n",
       "    }\n",
       "</style>\n",
       "<table border=\"1\" class=\"dataframe\">\n",
       "  <thead>\n",
       "    <tr style=\"text-align: right;\">\n",
       "      <th></th>\n",
       "      <th>order_date</th>\n",
       "      <th>delivery_date</th>\n",
       "      <th>delivery Time</th>\n",
       "    </tr>\n",
       "    <tr>\n",
       "      <th>ID</th>\n",
       "      <th></th>\n",
       "      <th></th>\n",
       "      <th></th>\n",
       "    </tr>\n",
       "  </thead>\n",
       "  <tbody>\n",
       "    <tr>\n",
       "      <th>1</th>\n",
       "      <td>1998-05-24</td>\n",
       "      <td>1999-02-05</td>\n",
       "      <td>257 days</td>\n",
       "    </tr>\n",
       "    <tr>\n",
       "      <th>2</th>\n",
       "      <td>1992-04-22</td>\n",
       "      <td>1998-03-06</td>\n",
       "      <td>2144 days</td>\n",
       "    </tr>\n",
       "    <tr>\n",
       "      <th>4</th>\n",
       "      <td>1991-02-10</td>\n",
       "      <td>1992-08-26</td>\n",
       "      <td>563 days</td>\n",
       "    </tr>\n",
       "  </tbody>\n",
       "</table>\n",
       "</div>"
      ],
      "text/plain": [
       "   order_date delivery_date delivery Time\n",
       "ID                                       \n",
       "1  1998-05-24    1999-02-05      257 days\n",
       "2  1992-04-22    1998-03-06     2144 days\n",
       "4  1991-02-10    1992-08-26      563 days"
      ]
     },
     "execution_count": 45,
     "metadata": {},
     "output_type": "execute_result"
    }
   ],
   "source": [
    "ecom.head(3)"
   ]
  },
  {
   "cell_type": "code",
   "execution_count": 47,
   "metadata": {},
   "outputs": [
    {
     "data": {
      "text/plain": [
       "ID\n",
       "1      False\n",
       "2       True\n",
       "4       True\n",
       "5       True\n",
       "7       True\n",
       "       ...  \n",
       "990     True\n",
       "991     True\n",
       "993     True\n",
       "994    False\n",
       "997     True\n",
       "Name: delivery Time, Length: 501, dtype: bool"
      ]
     },
     "execution_count": 47,
     "metadata": {},
     "output_type": "execute_result"
    }
   ],
   "source": [
    "ecom['delivery Time'] > pd.Timedelta('365 days')"
   ]
  },
  {
   "cell_type": "code",
   "execution_count": 46,
   "metadata": {},
   "outputs": [
    {
     "data": {
      "text/plain": [
       "ID\n",
       "1      False\n",
       "2       True\n",
       "4       True\n",
       "5       True\n",
       "7       True\n",
       "       ...  \n",
       "990     True\n",
       "991     True\n",
       "993     True\n",
       "994    False\n",
       "997     True\n",
       "Name: delivery Time, Length: 501, dtype: bool"
      ]
     },
     "execution_count": 46,
     "metadata": {},
     "output_type": "execute_result"
    }
   ],
   "source": [
    "ecom['delivery Time'] > '365 days'"
   ]
  },
  {
   "cell_type": "code",
   "execution_count": null,
   "metadata": {},
   "outputs": [],
   "source": []
  }
 ],
 "metadata": {
  "kernelspec": {
   "display_name": "Python 3",
   "language": "python",
   "name": "python3"
  },
  "language_info": {
   "codemirror_mode": {
    "name": "ipython",
    "version": 3
   },
   "file_extension": ".py",
   "mimetype": "text/x-python",
   "name": "python",
   "nbconvert_exporter": "python",
   "pygments_lexer": "ipython3",
   "version": "3.7.6"
  }
 },
 "nbformat": 4,
 "nbformat_minor": 4
}
