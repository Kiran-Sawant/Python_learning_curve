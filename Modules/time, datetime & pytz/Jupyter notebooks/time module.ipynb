{
 "metadata": {
  "language_info": {
   "codemirror_mode": {
    "name": "ipython",
    "version": 3
   },
   "file_extension": ".py",
   "mimetype": "text/x-python",
   "name": "python",
   "nbconvert_exporter": "python",
   "pygments_lexer": "ipython3",
   "version": "3.7.6-final"
  },
  "orig_nbformat": 2,
  "kernelspec": {
   "name": "python3",
   "display_name": "Python 3"
  }
 },
 "nbformat": 4,
 "nbformat_minor": 2,
 "cells": [
  {
   "cell_type": "code",
   "execution_count": 1,
   "metadata": {},
   "outputs": [],
   "source": [
    "import time"
   ]
  },
  {
   "source": [
    "### gmtime()"
   ],
   "cell_type": "markdown",
   "metadata": {}
  },
  {
   "cell_type": "code",
   "execution_count": 2,
   "metadata": {},
   "outputs": [
    {
     "output_type": "stream",
     "name": "stdout",
     "text": [
      "time.struct_time(tm_year=2020, tm_mon=12, tm_mday=1, tm_hour=14, tm_min=14, tm_sec=34, tm_wday=1, tm_yday=336, tm_isdst=0)\n"
     ]
    }
   ],
   "source": [
    "# Gives UTC time(London time) as a time.struct\n",
    "\n",
    "UTCtime = time.gmtime()\n",
    "print(UTCtime)"
   ]
  },
  {
   "source": [
    "### localtime()"
   ],
   "cell_type": "markdown",
   "metadata": {}
  },
  {
   "cell_type": "code",
   "execution_count": 3,
   "metadata": {},
   "outputs": [
    {
     "output_type": "stream",
     "name": "stdout",
     "text": [
      "time.struct_time(tm_year=2020, tm_mon=12, tm_mday=1, tm_hour=19, tm_min=45, tm_sec=20, tm_wday=1, tm_yday=336, tm_isdst=0)\n"
     ]
    }
   ],
   "source": [
    "# Gives local time of the system\n",
    "\n",
    "localTime = time.localtime()\n",
    "print(localTime)"
   ]
  },
  {
   "source": [
    "### time()"
   ],
   "cell_type": "markdown",
   "metadata": {}
  },
  {
   "cell_type": "code",
   "execution_count": 4,
   "metadata": {},
   "outputs": [
    {
     "output_type": "execute_result",
     "data": {
      "text/plain": [
       "1606832153.4666007"
      ]
     },
     "metadata": {},
     "execution_count": 4
    }
   ],
   "source": [
    "# Gives time since epoch in seconds\n",
    "\n",
    "time.time()"
   ]
  },
  {
   "source": [
    "### sleep()"
   ],
   "cell_type": "markdown",
   "metadata": {}
  },
  {
   "cell_type": "code",
   "execution_count": 5,
   "metadata": {},
   "outputs": [
    {
     "output_type": "stream",
     "name": "stdout",
     "text": [
      "start\n",
      "end\n"
     ]
    }
   ],
   "source": [
    "# takes number of sec as parameter & stops the program for that no of sec\n",
    "\n",
    "print('start')\n",
    "time.sleep(2)\n",
    "print('end')"
   ]
  },
  {
   "source": [
    "### perf_counter()"
   ],
   "cell_type": "markdown",
   "metadata": {}
  },
  {
   "cell_type": "code",
   "execution_count": 8,
   "metadata": {},
   "outputs": [
    {
     "output_type": "stream",
     "name": "stdout",
     "text": [
      "9656.470303863\n"
     ]
    }
   ],
   "source": [
    "# gives time taken since process start to this line including sleep\n",
    "\n",
    "k = time.perf_counter()\n",
    "print(k)"
   ]
  },
  {
   "source": [
    "### process_time()"
   ],
   "cell_type": "markdown",
   "metadata": {}
  },
  {
   "cell_type": "code",
   "execution_count": 9,
   "metadata": {},
   "outputs": [
    {
     "output_type": "stream",
     "name": "stdout",
     "text": [
      "2.2308143\n"
     ]
    }
   ],
   "source": [
    "# Gives time taken by the CPU to process the code upto this line excluding sleep\n",
    "\n",
    "j = time.process_time()\n",
    "print(j)"
   ]
  },
  {
   "source": [
    "### strftime()"
   ],
   "cell_type": "markdown",
   "metadata": {}
  },
  {
   "cell_type": "code",
   "execution_count": 10,
   "metadata": {},
   "outputs": [
    {
     "output_type": "stream",
     "name": "stdout",
     "text": [
      "Tuesday 01 12 2020\n"
     ]
    }
   ],
   "source": [
    "# strftime takes a time.struct & gives the dates and time in\n",
    "#the desired format as a string, format is given by the flags passed in args\n",
    "\n",
    "print(time.strftime('%A %d %m %Y', localTime))"
   ]
  },
  {
   "source": [
    "### strptime()"
   ],
   "cell_type": "markdown",
   "metadata": {}
  },
  {
   "cell_type": "code",
   "execution_count": 11,
   "metadata": {},
   "outputs": [
    {
     "output_type": "stream",
     "name": "stdout",
     "text": [
      "time.struct_time(tm_year=2020, tm_mon=2, tm_mday=12, tm_hour=0, tm_min=0, tm_sec=0, tm_wday=2, tm_yday=43, tm_isdst=-1)\n"
     ]
    }
   ],
   "source": [
    "#Inverse of .strftime(), retrns a time.struct from string\n",
    "\n",
    "strp = time.strptime(\"12 Feb 20\", '%d %b %y') \n",
    "print(strp)"
   ]
  },
  {
   "source": [
    "### get_clock_info()"
   ],
   "cell_type": "markdown",
   "metadata": {}
  },
  {
   "cell_type": "code",
   "execution_count": 12,
   "metadata": {},
   "outputs": [
    {
     "output_type": "stream",
     "name": "stdout",
     "text": [
      "namespace(adjustable=False, implementation='GetProcessTimes()', monotonic=True, resolution=1e-07)\n"
     ]
    }
   ],
   "source": [
    "# gives information about a perticular type of clock\n",
    "\n",
    "info = time.get_clock_info('process_time')\n",
    "print(info)"
   ]
  },
  {
   "source": [
    "### tzname() & timezone()"
   ],
   "cell_type": "markdown",
   "metadata": {}
  },
  {
   "cell_type": "code",
   "execution_count": null,
   "metadata": {},
   "outputs": [],
   "source": [
    "#.tzname gives the system timezone name & .timezone gives the offset from UTC\n",
    "\n",
    "print(\"The timezone on the system is {0} with an offset of {1}\".format(time.tzname, time.timezone))"
   ]
  },
  {
   "source": [
    "### daylight"
   ],
   "cell_type": "markdown",
   "metadata": {}
  },
  {
   "cell_type": "code",
   "execution_count": 14,
   "metadata": {},
   "outputs": [
    {
     "output_type": "stream",
     "name": "stdout",
     "text": [
      "No daylight savings.\n"
     ]
    }
   ],
   "source": [
    "#.daylight passes a boolean for localtime\n",
    "\n",
    "if time.daylight != 0:\n",
    "    print(\"\\tDaylight savings is in effect\")\n",
    "else:\n",
    "    print('No daylight savings.')"
   ]
  },
  {
   "cell_type": "code",
   "execution_count": null,
   "metadata": {},
   "outputs": [],
   "source": []
  }
 ]
}