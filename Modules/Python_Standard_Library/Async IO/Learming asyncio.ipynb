{
 "cells": [
  {
   "cell_type": "markdown",
   "metadata": {},
   "source": [
    "#### A synchronus code is when the interpreter reads the code line by line and executes the function in the order that we have mentioned.\n",
    "#### Below is an example of a Synchronus code that executes the tasks in the order that we have mentioned in the main() method. In the code given below the time taken for the function to execute depends on the magnitude of the number passed to it. Like wise there might be I/O bound operations in your application that migh take an unpredictable amount of time to complete. Therefore, in such senarios it is better to use Pythons asyncio module and its associated syntaxes to handle those I/O operations."
   ]
  },
  {
   "cell_type": "code",
   "execution_count": 7,
   "metadata": {},
   "outputs": [
    {
     "name": "stdout",
     "output_type": "stream",
     "text": [
      "Highest prime below 100000\n",
      "Highest prime number below 100000 is 99991\n",
      "Highest prime below 10000\n",
      "Highest prime number below 10000 is 9973\n",
      "Highest prime below 1000\n",
      "Highest prime number below 1000 is 997\n"
     ]
    }
   ],
   "source": [
    "def is_prime(x: int):\n",
    "    \"\"\"Returns True if x is prime\"\"\"\n",
    "\n",
    "    return not any(x//y == x/y for y in range(x-1, 1, -1))\n",
    "\n",
    "def highest_prime_below(x):\n",
    "\n",
    "    print(f\"Highest prime below {x}\")\n",
    "\n",
    "    for y in range(x-1, 0, -1):\n",
    "        if is_prime(y):\n",
    "            print(f\"Highest prime number below {x} is {y}\")\n",
    "            return y\n",
    "    return None                                     # If no prime number found.\n",
    "\n",
    "def main():\n",
    "    #_________Tasks___________#\n",
    "    highest_prime_below(100000)\n",
    "    highest_prime_below(10000)\n",
    "    highest_prime_below(1000)\n",
    "\n",
    "# Programs entry point.\n",
    "main()\n",
    "\n",
    "# As you can see in the output below the answer is returned in the order we executed the functions above"
   ]
  },
  {
   "cell_type": "markdown",
   "metadata": {},
   "source": [
    "# asyncio\n",
    "\n",
    "#### An async piece of code is not designed to execute the tasks in a predefined order, rather an async program rapidly switches between tasks for a certain amount of time defined by .sleep() method. async methods do not make use of multiple threads, there is only a single thread that switches between tasks. Therefore, it is recomended to use asyncio for I/O bound operations and not CPU bound operations. Never use a Blocking statement like time.sleep in an async corutine.\n",
    "\n",
    "#### Below is an example of async version code of the code above. A function that can be used asynchronusly is called a corutine. To define a corutine use the keyword 'async' before the def keyword. A corutine must contain an await statement that defines where to pause and switch to another task in the eventloop.\n",
    "\n",
    "### The event sequence of the code given below is as follows:-\n",
    "\n",
    "#### 1. We first create an eventloop object (line-35), an event-loop is used to define a set of awaitable tasks that are needed to be executed asynchronously. we use the .run_until_complete() on it and pass a corutine to it (line-36), that corutine contains an awaitable wait function. .run_until_complete() will run all the tasks until they all return a value.\n",
    "\n",
    "#### 2. The main() function has an awaitable assigned to wait function. A wait function takes an iterable of awaitables, runs them asynchronusly, blocks the program to move beyond this point until the return_when is satisfied. In  our case it is set to All_COMPLETE, other options are FIRST_COMPLETED & FIRST_EXCEPTION.\n",
    "\n",
    "#### 3. highest_prime_below() is a corutine. That means, tasks for this functions can be made to wait at a certain point and then be resumed after a certain amount of time. Therefore, we need to mention at what point in that function we want to pause it, we do that using 'await' keyword. Every async function must have an await statement.\n",
    "\n",
    "#### 4. In the highest_prime_below() function, we make the taks await after returning y, at await the tasks sleeps for 0.01 second. Note, it uses async.sleep and not time.sleep. time.sleep is a blocking function i.e. It stops the CPU from doing any sort of work. However, async.sleep makes the task to go to sleep for the mentioned time and picks another task from the event_loop and after the time expires resumes the previous session. its this async.sleep method that really makes this piece of code truly asynchronous."
   ]
  },
  {
   "cell_type": "code",
   "execution_count": 10,
   "metadata": {},
   "outputs": [
    {
     "ename": "RuntimeError",
     "evalue": "This event loop is already running",
     "output_type": "error",
     "traceback": [
      "\u001b[1;31m---------------------------------------------------------------------------\u001b[0m",
      "\u001b[1;31mRuntimeError\u001b[0m                              Traceback (most recent call last)",
      "\u001b[1;32m<ipython-input-10-8bc8b01e616a>\u001b[0m in \u001b[0;36m<module>\u001b[1;34m\u001b[0m\n\u001b[0;32m     34\u001b[0m \u001b[1;33m\u001b[0m\u001b[0m\n\u001b[0;32m     35\u001b[0m \u001b[0mloop\u001b[0m \u001b[1;33m=\u001b[0m \u001b[0masyncio\u001b[0m\u001b[1;33m.\u001b[0m\u001b[0mget_event_loop\u001b[0m\u001b[1;33m(\u001b[0m\u001b[1;33m)\u001b[0m\u001b[1;33m\u001b[0m\u001b[1;33m\u001b[0m\u001b[0m\n\u001b[1;32m---> 36\u001b[1;33m \u001b[0mloop\u001b[0m\u001b[1;33m.\u001b[0m\u001b[0mrun_until_complete\u001b[0m\u001b[1;33m(\u001b[0m\u001b[0mmain\u001b[0m\u001b[1;33m(\u001b[0m\u001b[1;33m)\u001b[0m\u001b[1;33m)\u001b[0m\u001b[1;33m\u001b[0m\u001b[1;33m\u001b[0m\u001b[0m\n\u001b[0m\u001b[0;32m     37\u001b[0m \u001b[1;31m# loop.close()\u001b[0m\u001b[1;33m\u001b[0m\u001b[1;33m\u001b[0m\u001b[1;33m\u001b[0m\u001b[0m\n",
      "\u001b[1;32mC:\\Program Files\\Python37\\lib\\asyncio\\base_events.py\u001b[0m in \u001b[0;36mrun_until_complete\u001b[1;34m(self, future)\u001b[0m\n\u001b[0;32m    568\u001b[0m         \u001b[0mfuture\u001b[0m\u001b[1;33m.\u001b[0m\u001b[0madd_done_callback\u001b[0m\u001b[1;33m(\u001b[0m\u001b[0m_run_until_complete_cb\u001b[0m\u001b[1;33m)\u001b[0m\u001b[1;33m\u001b[0m\u001b[1;33m\u001b[0m\u001b[0m\n\u001b[0;32m    569\u001b[0m         \u001b[1;32mtry\u001b[0m\u001b[1;33m:\u001b[0m\u001b[1;33m\u001b[0m\u001b[1;33m\u001b[0m\u001b[0m\n\u001b[1;32m--> 570\u001b[1;33m             \u001b[0mself\u001b[0m\u001b[1;33m.\u001b[0m\u001b[0mrun_forever\u001b[0m\u001b[1;33m(\u001b[0m\u001b[1;33m)\u001b[0m\u001b[1;33m\u001b[0m\u001b[1;33m\u001b[0m\u001b[0m\n\u001b[0m\u001b[0;32m    571\u001b[0m         \u001b[1;32mexcept\u001b[0m\u001b[1;33m:\u001b[0m\u001b[1;33m\u001b[0m\u001b[1;33m\u001b[0m\u001b[0m\n\u001b[0;32m    572\u001b[0m             \u001b[1;32mif\u001b[0m \u001b[0mnew_task\u001b[0m \u001b[1;32mand\u001b[0m \u001b[0mfuture\u001b[0m\u001b[1;33m.\u001b[0m\u001b[0mdone\u001b[0m\u001b[1;33m(\u001b[0m\u001b[1;33m)\u001b[0m \u001b[1;32mand\u001b[0m \u001b[1;32mnot\u001b[0m \u001b[0mfuture\u001b[0m\u001b[1;33m.\u001b[0m\u001b[0mcancelled\u001b[0m\u001b[1;33m(\u001b[0m\u001b[1;33m)\u001b[0m\u001b[1;33m:\u001b[0m\u001b[1;33m\u001b[0m\u001b[1;33m\u001b[0m\u001b[0m\n",
      "\u001b[1;32mC:\\Program Files\\Python37\\lib\\asyncio\\base_events.py\u001b[0m in \u001b[0;36mrun_forever\u001b[1;34m(self)\u001b[0m\n\u001b[0;32m    523\u001b[0m         \u001b[0mself\u001b[0m\u001b[1;33m.\u001b[0m\u001b[0m_check_closed\u001b[0m\u001b[1;33m(\u001b[0m\u001b[1;33m)\u001b[0m\u001b[1;33m\u001b[0m\u001b[1;33m\u001b[0m\u001b[0m\n\u001b[0;32m    524\u001b[0m         \u001b[1;32mif\u001b[0m \u001b[0mself\u001b[0m\u001b[1;33m.\u001b[0m\u001b[0mis_running\u001b[0m\u001b[1;33m(\u001b[0m\u001b[1;33m)\u001b[0m\u001b[1;33m:\u001b[0m\u001b[1;33m\u001b[0m\u001b[1;33m\u001b[0m\u001b[0m\n\u001b[1;32m--> 525\u001b[1;33m             \u001b[1;32mraise\u001b[0m \u001b[0mRuntimeError\u001b[0m\u001b[1;33m(\u001b[0m\u001b[1;34m'This event loop is already running'\u001b[0m\u001b[1;33m)\u001b[0m\u001b[1;33m\u001b[0m\u001b[1;33m\u001b[0m\u001b[0m\n\u001b[0m\u001b[0;32m    526\u001b[0m         \u001b[1;32mif\u001b[0m \u001b[0mevents\u001b[0m\u001b[1;33m.\u001b[0m\u001b[0m_get_running_loop\u001b[0m\u001b[1;33m(\u001b[0m\u001b[1;33m)\u001b[0m \u001b[1;32mis\u001b[0m \u001b[1;32mnot\u001b[0m \u001b[1;32mNone\u001b[0m\u001b[1;33m:\u001b[0m\u001b[1;33m\u001b[0m\u001b[1;33m\u001b[0m\u001b[0m\n\u001b[0;32m    527\u001b[0m             raise RuntimeError(\n",
      "\u001b[1;31mRuntimeError\u001b[0m: This event loop is already running"
     ]
    }
   ],
   "source": [
    "import time\n",
    "import asyncio\n",
    "\n",
    "def is_prime(x: int)-> bool:\n",
    "    \"\"\"Returns True if x is prime\"\"\"\n",
    "\n",
    "    return not any(x//y == x/y for y in range(x-1, 1, -1))\n",
    "\n",
    "# creating a corutine\n",
    "async def highest_prime_below(x):\n",
    "\n",
    "    print(f\"Highest prime below {x}\")\n",
    "\n",
    "    for y in range(x-1, 0, -1):\n",
    "        if is_prime(y):\n",
    "            print(f\"Highest prime number below {x} is {y}\")\n",
    "            return y\n",
    "        await asyncio.sleep(0.01)           # suspention point\n",
    "    return None                                     # If no prime number found.\n",
    "\n",
    "# Programs entry point.\n",
    "async def main():\n",
    "\n",
    "    #_________This will not work_________#\n",
    "    # await highest_prime_below(100000)\n",
    "    # await highest_prime_below(10000)\n",
    "    # await highest_prime_below(1000)\n",
    "\n",
    "    #________Use this Insted_____________#\n",
    "    await asyncio.wait([\n",
    "        highest_prime_below(100000),\n",
    "        highest_prime_below(10000),\n",
    "        highest_prime_below(1000) ], return_when=asyncio.ALL_COMPLETED)\n",
    "\n",
    "loop = asyncio.get_event_loop()     # Initializing an event loop\n",
    "loop.run_until_complete(main())     # passing a coroutine to our event loop, and making it run until they complete\n",
    "loop.close()                        # terminating event loop\n",
    "\n",
    "# The above code doesn't work on notebook, use console insted."
   ]
  },
  {
   "cell_type": "code",
   "execution_count": null,
   "metadata": {},
   "outputs": [],
   "source": []
  }
 ],
 "metadata": {
  "kernelspec": {
   "display_name": "Python 3",
   "language": "python",
   "name": "python3"
  },
  "language_info": {
   "codemirror_mode": {
    "name": "ipython",
    "version": 3
   },
   "file_extension": ".py",
   "mimetype": "text/x-python",
   "name": "python",
   "nbconvert_exporter": "python",
   "pygments_lexer": "ipython3",
   "version": "3.7.6"
  }
 },
 "nbformat": 4,
 "nbformat_minor": 2
}