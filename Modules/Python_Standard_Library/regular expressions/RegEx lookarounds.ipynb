{
 "metadata": {
  "language_info": {
   "codemirror_mode": {
    "name": "ipython",
    "version": 3
   },
   "file_extension": ".py",
   "mimetype": "text/x-python",
   "name": "python",
   "nbconvert_exporter": "python",
   "pygments_lexer": "ipython3",
   "version": "3.7.6"
  },
  "orig_nbformat": 2,
  "kernelspec": {
   "name": "python3",
   "display_name": "Python 3.7.6 64-bit",
   "metadata": {
    "interpreter": {
     "hash": "0600588c3b5f4418cbe7b5ebc6825b479f3bc010269d8b60d75058cdd010adfe"
    }
   }
  }
 },
 "nbformat": 4,
 "nbformat_minor": 2,
 "cells": [
  {
   "cell_type": "code",
   "execution_count": 3,
   "metadata": {},
   "outputs": [],
   "source": [
    "import re"
   ]
  },
  {
   "source": [
    "# lookarounds\n",
    "lookarounds in RegEx's are are non-capturing groups like ^ and $. A lookaround is used to capture a segment of string that contains a special pattern before or after it but does not capture the special segment itself.\n",
    "\n",
    "There are 4 types of lookarounds; lookahead, negative-lookahead, lookbehind and negative-lookbehind.\n",
    "\n",
    "## lookahead (?= ... )\n",
    "A lookahead matches a pattern that has the specified pattern after it.\n",
    "\n",
    "## negative-lookahead (?! ... )\n",
    "A negative-lookahead any matches a pattern that does not have the specified pattern after it.\n",
    "\n",
    "## lookbehind (?<= ... )\n",
    "A lookbehind matches a pattern that has the specified pattern before it.\n",
    "\n",
    "## negative-lookbehind (?!< ... )\n",
    "A negative-lookbehind would match any pattern that does not have the specified pattern before it"
   ],
   "cell_type": "markdown",
   "metadata": {}
  },
  {
   "cell_type": "code",
   "execution_count": 24,
   "metadata": {},
   "outputs": [],
   "source": [
    "string1 = \"1000USD 3000INR\"\n",
    "string2 =  \"JPY1000 GBP100\""
   ]
  },
  {
   "cell_type": "code",
   "execution_count": 8,
   "metadata": {},
   "outputs": [
    {
     "output_type": "stream",
     "name": "stdout",
     "text": [
      "['1000']\n"
     ]
    }
   ],
   "source": [
    "# Lookahead.\n",
    "# Capturing an integer string segment that has 'USD' just ahead of it.\n",
    "\n",
    "print(re.findall(r\"\\d+(?=USD)\", string1))"
   ]
  },
  {
   "cell_type": "code",
   "execution_count": 16,
   "metadata": {},
   "outputs": [
    {
     "output_type": "stream",
     "name": "stdout",
     "text": [
      "['3000']\n"
     ]
    }
   ],
   "source": [
    "# Negative-Lookahead\n",
    "# Capturing any integer segment that does not have USD or another integer right after it (3000)\n",
    "\n",
    "# print(re.findall(r\"\\d+(?!USD)\", string1))         # wrong\n",
    "print(re.findall(r\"\\d+(?!\\d|USD)\", string1))"
   ]
  },
  {
   "cell_type": "code",
   "execution_count": 41,
   "metadata": {},
   "outputs": [
    {
     "output_type": "stream",
     "name": "stdout",
     "text": [
      "['1000']\n"
     ]
    }
   ],
   "source": [
    "# Lookbehind\n",
    "# Capture 1 or more digits that have 'JPY' Right before them in string2.\n",
    "\n",
    "print(re.findall(r\"(?<=JPY)\\d+\", string2))"
   ]
  },
  {
   "cell_type": "code",
   "execution_count": 40,
   "metadata": {},
   "outputs": [
    {
     "output_type": "stream",
     "name": "stdout",
     "text": [
      "['100']\n"
     ]
    }
   ],
   "source": [
    "# Negative-lookbehind\n",
    "# Negative-lookbehinds need a fixed width parameter, can't use ?, +, *\n",
    "# capturing a group of digit strings that do not have 'JPY' and a group of intigers behind them.\n",
    "\n",
    "print(re.findall(r\"(?<!JPY)(?<!\\d)(\\d+)\", string2))"
   ]
  }
 ]
}