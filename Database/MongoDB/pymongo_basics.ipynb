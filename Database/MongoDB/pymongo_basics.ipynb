{
 "metadata": {
  "language_info": {
   "codemirror_mode": {
    "name": "ipython",
    "version": 3
   },
   "file_extension": ".py",
   "mimetype": "text/x-python",
   "name": "python",
   "nbconvert_exporter": "python",
   "pygments_lexer": "ipython3",
   "version": "3.7.6"
  },
  "orig_nbformat": 2,
  "kernelspec": {
   "name": "python37664bit2c9c6823d89c4cbc8aaa832172098654",
   "display_name": "Python 3.7.6 64-bit"
  },
  "metadata": {
   "interpreter": {
    "hash": "0600588c3b5f4418cbe7b5ebc6825b479f3bc010269d8b60d75058cdd010adfe"
   }
  }
 },
 "nbformat": 4,
 "nbformat_minor": 2,
 "cells": [
  {
   "cell_type": "code",
   "execution_count": 1,
   "metadata": {},
   "outputs": [],
   "source": [
    "# Importing modules\n",
    "\n",
    "import pymongo as pygo\n",
    "from pymongo import MongoClient\n",
    "import pandas as pd"
   ]
  },
  {
   "source": [
    "## # Creating a connection object."
   ],
   "cell_type": "markdown",
   "metadata": {}
  },
  {
   "cell_type": "code",
   "execution_count": 2,
   "metadata": {},
   "outputs": [],
   "source": [
    "# Connecting to MongoDB server.\n",
    "\n",
    "connection = MongoClient('localhost', 27017)\n",
    "# connection = MongoClient('remote_server string')"
   ]
  },
  {
   "cell_type": "code",
   "execution_count": 4,
   "metadata": {},
   "outputs": [
    {
     "output_type": "execute_result",
     "data": {
      "text/plain": [
       "Database(MongoClient(host=['localhost:27017'], document_class=dict, tz_aware=False, connect=True), 'test_database')"
      ]
     },
     "metadata": {},
     "execution_count": 4
    }
   ],
   "source": [
    "# retrieving informating about the server.\n",
    "\n",
    "connection.test_database"
   ]
  },
  {
   "cell_type": "code",
   "execution_count": 5,
   "metadata": {},
   "outputs": [
    {
     "output_type": "execute_result",
     "data": {
      "text/plain": [
       "['acme', 'admin', 'config', 'horse_barn', 'local']"
      ]
     },
     "metadata": {},
     "execution_count": 5
    }
   ],
   "source": [
    "# getting all database names on the server.\n",
    "\n",
    "connection.list_database_names()"
   ]
  },
  {
   "source": [
    "## # Creating a DataBasse object."
   ],
   "cell_type": "markdown",
   "metadata": {}
  },
  {
   "cell_type": "code",
   "execution_count": 6,
   "metadata": {},
   "outputs": [],
   "source": [
    "# switching to a DB in server.\n",
    "\n",
    "db_horse_barn = connection[\"horse_barn\"]"
   ]
  },
  {
   "cell_type": "code",
   "execution_count": 7,
   "metadata": {},
   "outputs": [
    {
     "output_type": "execute_result",
     "data": {
      "text/plain": [
       "['unicorns']"
      ]
     },
     "metadata": {},
     "execution_count": 7
    }
   ],
   "source": [
    "# listing all the collections in the horse_barn DB.\n",
    "\n",
    "db_horse_barn.list_collection_names()"
   ]
  },
  {
   "source": [
    "## # Creating a collection object."
   ],
   "cell_type": "markdown",
   "metadata": {}
  },
  {
   "cell_type": "code",
   "execution_count": 8,
   "metadata": {},
   "outputs": [],
   "source": [
    "# creating a collection instance, to work on that collection in the Database.\n",
    "\n",
    "unicorns = db_horse_barn[\"unicorns\"]"
   ]
  },
  {
   "source": [
    "# CRUD operations"
   ],
   "cell_type": "markdown",
   "metadata": {}
  },
  {
   "source": [
    "### # Database.create_collection(collection_name:str)"
   ],
   "cell_type": "markdown",
   "metadata": {}
  },
  {
   "cell_type": "code",
   "execution_count": 19,
   "metadata": {},
   "outputs": [
    {
     "output_type": "execute_result",
     "data": {
      "text/plain": [
       "Collection(Database(MongoClient(host=['localhost:27017'], document_class=dict, tz_aware=False, connect=True), 'horse_barn'), 'Stallions')"
      ]
     },
     "metadata": {},
     "execution_count": 19
    }
   ],
   "source": [
    "# Creates a collection in a database.\n",
    "\n",
    "db_horse_barn.create_collection(\"Stallions\")"
   ]
  },
  {
   "source": [
    "### # Collection.insert_one(doc:dict)"
   ],
   "cell_type": "markdown",
   "metadata": {}
  },
  {
   "cell_type": "code",
   "execution_count": 19,
   "metadata": {},
   "outputs": [
    {
     "output_type": "execute_result",
     "data": {
      "text/plain": [
       "<pymongo.results.InsertOneResult at 0x9faf448>"
      ]
     },
     "metadata": {},
     "execution_count": 19
    }
   ],
   "source": [
    "# inserting a single document into a collection\n",
    "\n",
    "doc = {'name': 'Jack', 'weight': 500, 'gender': 'f', 'vampires': 50}\n",
    "unicorns.insert_one(doc)"
   ]
  },
  {
   "source": [
    "### # Collection.insert_many(docs:list)"
   ],
   "cell_type": "markdown",
   "metadata": {}
  },
  {
   "cell_type": "code",
   "execution_count": 20,
   "metadata": {},
   "outputs": [
    {
     "output_type": "execute_result",
     "data": {
      "text/plain": [
       "<pymongo.results.InsertManyResult at 0x92c3c08>"
      ]
     },
     "metadata": {},
     "execution_count": 20
    }
   ],
   "source": [
    "# inserting multiple documents in a collection.\n",
    "\n",
    "doc1 = {'name': 'Mack', 'weight': 550, 'gender': 'm', 'vampires': 53}\n",
    "doc2 = {'name': 'Ronny', 'weight': 600, 'gender': 'm', 'vampires': 100}\n",
    "\n",
    "unicorns.insert_many([doc1, doc2])"
   ]
  },
  {
   "source": [
    "### # Collection.find(condition:dict)"
   ],
   "cell_type": "markdown",
   "metadata": {}
  },
  {
   "cell_type": "code",
   "execution_count": 32,
   "metadata": {},
   "outputs": [],
   "source": [
    "# Retrieving a document from a collection.\n",
    "# .find method returns a Cursor object.\n",
    "\n",
    "results = unicorns.find({'name': 'Horny'})"
   ]
  },
  {
   "cell_type": "code",
   "execution_count": 22,
   "metadata": {},
   "outputs": [
    {
     "output_type": "stream",
     "name": "stdout",
     "text": [
      "<pymongo.cursor.Cursor object at 0x00000000093D6FC8>\n"
     ]
    }
   ],
   "source": [
    "print(results)"
   ]
  },
  {
   "cell_type": "code",
   "execution_count": 34,
   "metadata": {},
   "outputs": [
    {
     "output_type": "stream",
     "name": "stdout",
     "text": [
      "{'_id': ObjectId('6087eb02f03b34de185a6c59'), 'name': 'Horny', 'dob': datetime.datetime(1992, 3, 13, 2, 17), 'loves': ['carrot', 'papaya', 'Pineapple'], 'weight': 600.0, 'gender': 'm', 'vampires': 63.0, 'vaccinated': True}\n"
     ]
    }
   ],
   "source": [
    "# Iterating over a cursor.\n",
    "\n",
    "for result in results:\n",
    "    print(result)"
   ]
  },
  {
   "source": [
    "### # Collection.delete_one(condition:dict)"
   ],
   "cell_type": "markdown",
   "metadata": {}
  },
  {
   "cell_type": "code",
   "execution_count": 35,
   "metadata": {},
   "outputs": [
    {
     "output_type": "execute_result",
     "data": {
      "text/plain": [
       "<pymongo.results.DeleteResult at 0x9949888>"
      ]
     },
     "metadata": {},
     "execution_count": 35
    }
   ],
   "source": [
    "# Deleting a single document that satisfies the condition.\n",
    "# It will delete the first document it comes across and leave the rest.\n",
    "\n",
    "unicorns.delete_one({'name': 'Jack'})"
   ]
  },
  {
   "source": [
    "### # Collection.delete_many(condition:dict)"
   ],
   "cell_type": "markdown",
   "metadata": {}
  },
  {
   "cell_type": "code",
   "execution_count": 36,
   "metadata": {},
   "outputs": [
    {
     "output_type": "execute_result",
     "data": {
      "text/plain": [
       "<pymongo.results.DeleteResult at 0x99be708>"
      ]
     },
     "metadata": {},
     "execution_count": 36
    }
   ],
   "source": [
    "# deletes all documents that satisfy the condition.\n",
    "\n",
    "unicorns.delete_many({'name': 'Jack'})"
   ]
  },
  {
   "source": [
    "### # Collection.update_one(condition:dict, update:dict)"
   ],
   "cell_type": "markdown",
   "metadata": {}
  },
  {
   "cell_type": "code",
   "execution_count": 9,
   "metadata": {},
   "outputs": [
    {
     "output_type": "execute_result",
     "data": {
      "text/plain": [
       "<pymongo.results.UpdateResult at 0x131ac308>"
      ]
     },
     "metadata": {},
     "execution_count": 9
    }
   ],
   "source": [
    "# Updates a single document that satisfies the condition with the passed document(2nd arg)\n",
    "# Updates first document that it comes across and leaves the rest.\n",
    "\n",
    "unicorns.update_one({'name': 'Ronny'}, {'$set': {'vaccinated': True}})"
   ]
  },
  {
   "cell_type": "code",
   "execution_count": 39,
   "metadata": {},
   "outputs": [
    {
     "output_type": "execute_result",
     "data": {
      "text/plain": [
       "14"
      ]
     },
     "metadata": {},
     "execution_count": 39
    }
   ],
   "source": [
    "# Gives an estimated count of number of documents in a collection.\n",
    "\n",
    "unicorns.estimated_document_count()"
   ]
  },
  {
   "source": [
    "## # Cursor to DataFrame"
   ],
   "cell_type": "markdown",
   "metadata": {}
  },
  {
   "cell_type": "code",
   "execution_count": 14,
   "metadata": {},
   "outputs": [
    {
     "output_type": "execute_result",
     "data": {
      "text/plain": [
       "{'_id': ObjectId('6087eb02f03b34de185a6c59'),\n",
       " 'name': 'Horny',\n",
       " 'dob': datetime.datetime(1992, 3, 13, 2, 17),\n",
       " 'loves': ['carrot', 'papaya', 'Pineapple'],\n",
       " 'weight': 600.0,\n",
       " 'gender': 'm',\n",
       " 'vampires': 63.0,\n",
       " 'vaccinated': True}"
      ]
     },
     "metadata": {},
     "execution_count": 14
    }
   ],
   "source": [
    "cursor = unicorns.find()\n",
    "\n",
    "# converting the cursor into a list of dictionaries.\n",
    "list_cur = list(cursor)\n",
    "list_cur[0]"
   ]
  },
  {
   "cell_type": "code",
   "execution_count": 13,
   "metadata": {
    "tags": []
   },
   "outputs": [
    {
     "output_type": "execute_result",
     "data": {
      "text/plain": [
       "                         _id         name                 dob  \\\n",
       "0   6087eb02f03b34de185a6c59        Horny 1992-03-13 02:17:00   \n",
       "1   6087ebc99aa6314e1b627ab4       Aurora 1991-01-24 07:30:00   \n",
       "2   6087ebc99aa6314e1b627ab5      Unicrom 1973-02-09 16:40:00   \n",
       "3   6087ebc99aa6314e1b627ab6  Roooooodles 1979-08-18 13:14:00   \n",
       "4   6087ebd09aa6314e1b627ab7      Solnara 1985-07-03 20:31:00   \n",
       "5   6087ec2e9aa6314e1b627ab8        Kenny 1997-07-01 05:12:00   \n",
       "6   6087ec2e9aa6314e1b627ab9      Raleigh 2005-05-02 19:27:00   \n",
       "7   6087ec2e9aa6314e1b627aba         Leia 2001-10-08 09:23:00   \n",
       "8   6087ec2e9aa6314e1b627abb        Pilot 1997-02-28 23:33:00   \n",
       "9   6087ec2e9aa6314e1b627abc        Nimue 1999-12-20 10:45:00   \n",
       "10  6087ec329aa6314e1b627abd         Dunx 1976-07-18 12:48:00   \n",
       "11  6087ecb69aa6314e1b627abe         Ayns 1998-03-07 03:00:00   \n",
       "12  6088febe5cf730cda33d69c1         Mack                 NaT   \n",
       "13  6088febe5cf730cda33d69c2        Ronny                 NaT   \n",
       "\n",
       "                          loves  weight gender  vampires  vaccinated  \n",
       "0   [carrot, papaya, Pineapple]   600.0      m      63.0        True  \n",
       "1               [carrot, grape]   450.0      f      43.0        True  \n",
       "2            [energon, redbull]   984.0      m     182.0        True  \n",
       "3                       [apple]   575.0      m      99.0        True  \n",
       "4    [apple, carrot, chocolate]   550.0      f      80.0        True  \n",
       "5                [grape, lemon]   690.0      m      39.0        True  \n",
       "6                [apple, sugar]   421.0      m       2.0        True  \n",
       "7           [apple, watermelon]   601.0      f      33.0        True  \n",
       "8           [apple, watermelon]   650.0      m      54.0        True  \n",
       "9    [grape, carrot, Pineapple]   590.0      f       NaN        True  \n",
       "10          [grape, watermelon]   704.0      m     165.0        True  \n",
       "11                          NaN   733.0      f      40.0        True  \n",
       "12                          NaN   550.0      m      53.0        True  \n",
       "13                          NaN   600.0      m     100.0        True  "
      ],
      "text/html": "<div>\n<style scoped>\n    .dataframe tbody tr th:only-of-type {\n        vertical-align: middle;\n    }\n\n    .dataframe tbody tr th {\n        vertical-align: top;\n    }\n\n    .dataframe thead th {\n        text-align: right;\n    }\n</style>\n<table border=\"1\" class=\"dataframe\">\n  <thead>\n    <tr style=\"text-align: right;\">\n      <th></th>\n      <th>_id</th>\n      <th>name</th>\n      <th>dob</th>\n      <th>loves</th>\n      <th>weight</th>\n      <th>gender</th>\n      <th>vampires</th>\n      <th>vaccinated</th>\n    </tr>\n  </thead>\n  <tbody>\n    <tr>\n      <th>0</th>\n      <td>6087eb02f03b34de185a6c59</td>\n      <td>Horny</td>\n      <td>1992-03-13 02:17:00</td>\n      <td>[carrot, papaya, Pineapple]</td>\n      <td>600.0</td>\n      <td>m</td>\n      <td>63.0</td>\n      <td>True</td>\n    </tr>\n    <tr>\n      <th>1</th>\n      <td>6087ebc99aa6314e1b627ab4</td>\n      <td>Aurora</td>\n      <td>1991-01-24 07:30:00</td>\n      <td>[carrot, grape]</td>\n      <td>450.0</td>\n      <td>f</td>\n      <td>43.0</td>\n      <td>True</td>\n    </tr>\n    <tr>\n      <th>2</th>\n      <td>6087ebc99aa6314e1b627ab5</td>\n      <td>Unicrom</td>\n      <td>1973-02-09 16:40:00</td>\n      <td>[energon, redbull]</td>\n      <td>984.0</td>\n      <td>m</td>\n      <td>182.0</td>\n      <td>True</td>\n    </tr>\n    <tr>\n      <th>3</th>\n      <td>6087ebc99aa6314e1b627ab6</td>\n      <td>Roooooodles</td>\n      <td>1979-08-18 13:14:00</td>\n      <td>[apple]</td>\n      <td>575.0</td>\n      <td>m</td>\n      <td>99.0</td>\n      <td>True</td>\n    </tr>\n    <tr>\n      <th>4</th>\n      <td>6087ebd09aa6314e1b627ab7</td>\n      <td>Solnara</td>\n      <td>1985-07-03 20:31:00</td>\n      <td>[apple, carrot, chocolate]</td>\n      <td>550.0</td>\n      <td>f</td>\n      <td>80.0</td>\n      <td>True</td>\n    </tr>\n    <tr>\n      <th>5</th>\n      <td>6087ec2e9aa6314e1b627ab8</td>\n      <td>Kenny</td>\n      <td>1997-07-01 05:12:00</td>\n      <td>[grape, lemon]</td>\n      <td>690.0</td>\n      <td>m</td>\n      <td>39.0</td>\n      <td>True</td>\n    </tr>\n    <tr>\n      <th>6</th>\n      <td>6087ec2e9aa6314e1b627ab9</td>\n      <td>Raleigh</td>\n      <td>2005-05-02 19:27:00</td>\n      <td>[apple, sugar]</td>\n      <td>421.0</td>\n      <td>m</td>\n      <td>2.0</td>\n      <td>True</td>\n    </tr>\n    <tr>\n      <th>7</th>\n      <td>6087ec2e9aa6314e1b627aba</td>\n      <td>Leia</td>\n      <td>2001-10-08 09:23:00</td>\n      <td>[apple, watermelon]</td>\n      <td>601.0</td>\n      <td>f</td>\n      <td>33.0</td>\n      <td>True</td>\n    </tr>\n    <tr>\n      <th>8</th>\n      <td>6087ec2e9aa6314e1b627abb</td>\n      <td>Pilot</td>\n      <td>1997-02-28 23:33:00</td>\n      <td>[apple, watermelon]</td>\n      <td>650.0</td>\n      <td>m</td>\n      <td>54.0</td>\n      <td>True</td>\n    </tr>\n    <tr>\n      <th>9</th>\n      <td>6087ec2e9aa6314e1b627abc</td>\n      <td>Nimue</td>\n      <td>1999-12-20 10:45:00</td>\n      <td>[grape, carrot, Pineapple]</td>\n      <td>590.0</td>\n      <td>f</td>\n      <td>NaN</td>\n      <td>True</td>\n    </tr>\n    <tr>\n      <th>10</th>\n      <td>6087ec329aa6314e1b627abd</td>\n      <td>Dunx</td>\n      <td>1976-07-18 12:48:00</td>\n      <td>[grape, watermelon]</td>\n      <td>704.0</td>\n      <td>m</td>\n      <td>165.0</td>\n      <td>True</td>\n    </tr>\n    <tr>\n      <th>11</th>\n      <td>6087ecb69aa6314e1b627abe</td>\n      <td>Ayns</td>\n      <td>1998-03-07 03:00:00</td>\n      <td>NaN</td>\n      <td>733.0</td>\n      <td>f</td>\n      <td>40.0</td>\n      <td>True</td>\n    </tr>\n    <tr>\n      <th>12</th>\n      <td>6088febe5cf730cda33d69c1</td>\n      <td>Mack</td>\n      <td>NaT</td>\n      <td>NaN</td>\n      <td>550.0</td>\n      <td>m</td>\n      <td>53.0</td>\n      <td>True</td>\n    </tr>\n    <tr>\n      <th>13</th>\n      <td>6088febe5cf730cda33d69c2</td>\n      <td>Ronny</td>\n      <td>NaT</td>\n      <td>NaN</td>\n      <td>600.0</td>\n      <td>m</td>\n      <td>100.0</td>\n      <td>True</td>\n    </tr>\n  </tbody>\n</table>\n</div>"
     },
     "metadata": {},
     "execution_count": 13
    }
   ],
   "source": [
    "df = pd.DataFrame(list_cur)\n",
    "df"
   ]
  },
  {
   "cell_type": "code",
   "execution_count": 15,
   "metadata": {},
   "outputs": [
    {
     "output_type": "stream",
     "name": "stdout",
     "text": [
      "<class 'pandas.core.frame.DataFrame'>\nRangeIndex: 14 entries, 0 to 13\nData columns (total 8 columns):\n_id           14 non-null object\nname          14 non-null object\ndob           12 non-null datetime64[ns]\nloves         11 non-null object\nweight        14 non-null float64\ngender        14 non-null object\nvampires      13 non-null float64\nvaccinated    14 non-null bool\ndtypes: bool(1), datetime64[ns](1), float64(2), object(4)\nmemory usage: 926.0+ bytes\n"
     ]
    }
   ],
   "source": [
    "df.info()"
   ]
  },
  {
   "cell_type": "code",
   "execution_count": 17,
   "metadata": {},
   "outputs": [],
   "source": [
    "df['gender'] = df['gender'].astype('category')"
   ]
  },
  {
   "cell_type": "code",
   "execution_count": 18,
   "metadata": {},
   "outputs": [
    {
     "output_type": "stream",
     "name": "stdout",
     "text": [
      "<class 'pandas.core.frame.DataFrame'>\nRangeIndex: 14 entries, 0 to 13\nData columns (total 8 columns):\n_id           14 non-null object\nname          14 non-null object\ndob           12 non-null datetime64[ns]\nloves         11 non-null object\nweight        14 non-null float64\ngender        14 non-null category\nvampires      13 non-null float64\nvaccinated    14 non-null bool\ndtypes: bool(1), category(1), datetime64[ns](1), float64(2), object(3)\nmemory usage: 924.0+ bytes\n"
     ]
    }
   ],
   "source": [
    "df.info()"
   ]
  },
  {
   "source": [
    "# Cursor to JSON"
   ],
   "cell_type": "markdown",
   "metadata": {}
  },
  {
   "cell_type": "code",
   "execution_count": 28,
   "metadata": {},
   "outputs": [],
   "source": [
    "# importing some JSON utils\n",
    "# bson is installed with pymongo\n",
    "\n",
    "from bson.json_util import loads, dumps\n",
    "import json"
   ]
  },
  {
   "cell_type": "code",
   "execution_count": 31,
   "metadata": {},
   "outputs": [
    {
     "output_type": "execute_result",
     "data": {
      "text/plain": [
       "'[\\n  {\\n    \"_id\": {\\n      \"$oid\": \"6087eb02f03b34de185a6c59\"\\n    },\\n    \"name\": \"Horny\",\\n    \"dob\": {\\n      \"$date\": 700453020000\\n    },\\n    \"loves\": [\\n      \"carrot\",\\n      \"papaya\",\\n      \"Pineapple\"\\n    ],\\n    \"weight\": 600.0,\\n    \"gender\": \"m\",\\n    \"vampires\": 63.0,\\n    \"vaccinated\": true\\n  },\\n  {\\n    \"_id\": {\\n      \"$oid\": \"6087ebc99aa6314e1b627ab4\"\\n    },\\n    \"name\": \"Aurora\",\\n    \"dob\": {\\n      \"$date\": 664702200000\\n    },\\n    \"loves\": [\\n      \"carrot\",\\n      \"grape\"\\n    ],\\n    \"weight\": 450.0,\\n    \"gender\": \"f\",\\n    \"vampires\": 43.0,\\n    \"vaccinated\": true\\n  },\\n  {\\n    \"_id\": {\\n      \"$oid\": \"6087ebc99aa6314e1b627ab5\"\\n    },\\n    \"name\": \"Unicrom\",\\n    \"dob\": {\\n      \"$date\": 98124000000\\n    },\\n    \"loves\": [\\n      \"energon\",\\n      \"redbull\"\\n    ],\\n    \"weight\": 984.0,\\n    \"gender\": \"m\",\\n    \"vampires\": 182.0,\\n    \"vaccinated\": true\\n  },\\n  {\\n    \"_id\": {\\n      \"$oid\": \"6087ebc99aa6314e1b627ab6\"\\n    },\\n    \"name\": \"Roooooodles\",\\n    \"dob\": {\\n      \"$date\": 303830040000\\n    },\\n    \"loves\": [\\n      \"apple\"\\n    ],\\n    \"weight\": 575.0,\\n    \"gender\": \"m\",\\n    \"vampires\": 99.0,\\n    \"vaccinated\": true\\n  },\\n  {\\n    \"_id\": {\\n      \"$oid\": \"6087ebd09aa6314e1b627ab7\"\\n    },\\n    \"name\": \"Solnara\",\\n    \"dob\": {\\n      \"$date\": 489270660000\\n    },\\n    \"loves\": [\\n      \"apple\",\\n      \"carrot\",\\n      \"chocolate\"\\n    ],\\n    \"weight\": 550.0,\\n    \"gender\": \"f\",\\n    \"vampires\": 80.0,\\n    \"vaccinated\": true\\n  },\\n  {\\n    \"_id\": {\\n      \"$oid\": \"6087ec2e9aa6314e1b627ab8\"\\n    },\\n    \"name\": \"Kenny\",\\n    \"dob\": {\\n      \"$date\": 867733920000\\n    },\\n    \"loves\": [\\n      \"grape\",\\n      \"lemon\"\\n    ],\\n    \"weight\": 690.0,\\n    \"gender\": \"m\",\\n    \"vampires\": 39.0,\\n    \"vaccinated\": true\\n  },\\n  {\\n    \"_id\": {\\n      \"$oid\": \"6087ec2e9aa6314e1b627ab9\"\\n    },\\n    \"name\": \"Raleigh\",\\n    \"dob\": {\\n      \"$date\": 1115062020000\\n    },\\n    \"loves\": [\\n      \"apple\",\\n      \"sugar\"\\n    ],\\n    \"weight\": 421.0,\\n    \"gender\": \"m\",\\n    \"vampires\": 2.0,\\n    \"vaccinated\": true\\n  },\\n  {\\n    \"_id\": {\\n      \"$oid\": \"6087ec2e9aa6314e1b627aba\"\\n    },\\n    \"name\": \"Leia\",\\n    \"dob\": {\\n      \"$date\": 1002532980000\\n    },\\n    \"loves\": [\\n      \"apple\",\\n      \"watermelon\"\\n    ],\\n    \"weight\": 601.0,\\n    \"gender\": \"f\",\\n    \"vampires\": 33.0,\\n    \"vaccinated\": true\\n  },\\n  {\\n    \"_id\": {\\n      \"$oid\": \"6087ec2e9aa6314e1b627abb\"\\n    },\\n    \"name\": \"Pilot\",\\n    \"dob\": {\\n      \"$date\": 857172780000\\n    },\\n    \"loves\": [\\n      \"apple\",\\n      \"watermelon\"\\n    ],\\n    \"weight\": 650.0,\\n    \"gender\": \"m\",\\n    \"vampires\": 54.0,\\n    \"vaccinated\": true\\n  },\\n  {\\n    \"_id\": {\\n      \"$oid\": \"6087ec2e9aa6314e1b627abc\"\\n    },\\n    \"name\": \"Nimue\",\\n    \"dob\": {\\n      \"$date\": 945686700000\\n    },\\n    \"loves\": [\\n      \"grape\",\\n      \"carrot\",\\n      \"Pineapple\"\\n    ],\\n    \"weight\": 590.0,\\n    \"gender\": \"f\",\\n    \"vaccinated\": true\\n  },\\n  {\\n    \"_id\": {\\n      \"$oid\": \"6087ec329aa6314e1b627abd\"\\n    },\\n    \"name\": \"Dunx\",\\n    \"dob\": {\\n      \"$date\": 206542080000\\n    },\\n    \"loves\": [\\n      \"grape\",\\n      \"watermelon\"\\n    ],\\n    \"weight\": 704.0,\\n    \"gender\": \"m\",\\n    \"vampires\": 165.0,\\n    \"vaccinated\": true\\n  },\\n  {\\n    \"_id\": {\\n      \"$oid\": \"6087ecb69aa6314e1b627abe\"\\n    },\\n    \"name\": \"Ayns\",\\n    \"dob\": {\\n      \"$date\": 889239600000\\n    },\\n    \"weight\": 733.0,\\n    \"gender\": \"f\",\\n    \"vampires\": 40.0,\\n    \"vaccinated\": true\\n  },\\n  {\\n    \"_id\": {\\n      \"$oid\": \"6088febe5cf730cda33d69c1\"\\n    },\\n    \"name\": \"Mack\",\\n    \"weight\": 550,\\n    \"gender\": \"m\",\\n    \"vampires\": 53,\\n    \"vaccinated\": true\\n  },\\n  {\\n    \"_id\": {\\n      \"$oid\": \"6088febe5cf730cda33d69c2\"\\n    },\\n    \"name\": \"Ronny\",\\n    \"weight\": 600,\\n    \"gender\": \"m\",\\n    \"vampires\": 100,\\n    \"vaccinated\": true\\n  }\\n]'"
      ]
     },
     "metadata": {},
     "execution_count": 31
    }
   ],
   "source": [
    "# convertign the list of dictionaries into an array of documents\n",
    "\n",
    "jason_data = dumps(list_cur, indent=2)\n",
    "jason_data"
   ]
  },
  {
   "cell_type": "code",
   "execution_count": 27,
   "metadata": {},
   "outputs": [
    {
     "output_type": "execute_result",
     "data": {
      "text/plain": [
       "str"
      ]
     },
     "metadata": {},
     "execution_count": 27
    }
   ],
   "source": [
    "type(jason_data)"
   ]
  },
  {
   "cell_type": "code",
   "execution_count": 32,
   "metadata": {},
   "outputs": [],
   "source": [
    "with open('unicorn.json', mode='w') as file_:\n",
    "    json.dump(jason_data, file_)"
   ]
  },
  {
   "cell_type": "code",
   "execution_count": null,
   "metadata": {},
   "outputs": [],
   "source": []
  }
 ]
}