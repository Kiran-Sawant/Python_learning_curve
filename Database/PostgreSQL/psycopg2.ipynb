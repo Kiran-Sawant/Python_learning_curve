{
 "metadata": {
  "language_info": {
   "codemirror_mode": {
    "name": "ipython",
    "version": 3
   },
   "file_extension": ".py",
   "mimetype": "text/x-python",
   "name": "python",
   "nbconvert_exporter": "python",
   "pygments_lexer": "ipython3",
   "version": "3.7.6"
  },
  "orig_nbformat": 2,
  "kernelspec": {
   "name": "python376jvsc74a57bd00600588c3b5f4418cbe7b5ebc6825b479f3bc010269d8b60d75058cdd010adfe",
   "display_name": "Python 3.7.6 64-bit"
  }
 },
 "nbformat": 4,
 "nbformat_minor": 2,
 "cells": [
  {
   "source": [
    "# PostgreSQL with Python\n",
    "## Psycopg2"
   ],
   "cell_type": "markdown",
   "metadata": {}
  },
  {
   "cell_type": "code",
   "execution_count": 2,
   "metadata": {},
   "outputs": [],
   "source": [
    "# importing psycopg2 module.\n",
    "import psycopg2 as pg2"
   ]
  },
  {
   "cell_type": "code",
   "execution_count": 3,
   "metadata": {},
   "outputs": [],
   "source": [
    "# Database password\n",
    "db_pass = r'MargretThacheris100%sexy'"
   ]
  },
  {
   "cell_type": "code",
   "execution_count": 4,
   "metadata": {},
   "outputs": [],
   "source": [
    "# Establishing connection with a PostgreSQL server\r\n",
    "# host and port are optional parameters if running on a remote server.\r\n",
    "\r\n",
    "conn = pg2.connect(database='dvdrental', user='postgres', password=db_pass)"
   ]
  },
  {
   "cell_type": "code",
   "execution_count": 14,
   "metadata": {},
   "outputs": [
    {
     "output_type": "execute_result",
     "data": {
      "text/plain": [
       "{'user': 'postgres',\n",
       " 'dbname': 'dvdrental',\n",
       " 'port': '5432',\n",
       " 'tty': '',\n",
       " 'options': '',\n",
       " 'sslmode': 'prefer',\n",
       " 'sslcompression': '0',\n",
       " 'krbsrvname': 'postgres',\n",
       " 'target_session_attrs': 'any'}"
      ]
     },
     "metadata": {},
     "execution_count": 14
    }
   ],
   "source": [
    "# PostgreSQL server information\n",
    "conn.get_dsn_parameters()"
   ]
  },
  {
   "cell_type": "code",
   "execution_count": 5,
   "metadata": {},
   "outputs": [],
   "source": [
    "# Creating a cursor object for dvdrental.\n",
    "# cursor object is used for database traversal.\n",
    "\n",
    "dvdrental_cursor = conn.cursor()"
   ]
  },
  {
   "source": [
    "# Retrival operations"
   ],
   "cell_type": "markdown",
   "metadata": {}
  },
  {
   "cell_type": "code",
   "execution_count": 13,
   "metadata": {},
   "outputs": [
    {
     "output_type": "execute_result",
     "data": {
      "text/plain": [
       "[(17503,\n",
       "  341,\n",
       "  2,\n",
       "  1520,\n",
       "  Decimal('7.99'),\n",
       "  datetime.datetime(2007, 2, 15, 22, 25, 46, 996577)),\n",
       " (17504,\n",
       "  341,\n",
       "  1,\n",
       "  1778,\n",
       "  Decimal('1.99'),\n",
       "  datetime.datetime(2007, 2, 16, 17, 23, 14, 996577)),\n",
       " (17505,\n",
       "  341,\n",
       "  1,\n",
       "  1849,\n",
       "  Decimal('7.99'),\n",
       "  datetime.datetime(2007, 2, 16, 22, 41, 45, 996577))]"
      ]
     },
     "metadata": {},
     "execution_count": 13
    }
   ],
   "source": [
    "# executing a query on dvdrental database\n",
    "\n",
    "dvdrental_cursor.execute('select * from payment')\n",
    "\n",
    "# fetching the output values from the revious query. \n",
    "dvdrental_cursor.fetchmany(3)"
   ]
  },
  {
   "cell_type": "code",
   "execution_count": null,
   "metadata": {},
   "outputs": [],
   "source": [
    "# closing cursor and disconnecting with Database.\n",
    "\n",
    "dvdrental_cursor.close()\n",
    "conn.close()"
   ]
  }
 ]
}