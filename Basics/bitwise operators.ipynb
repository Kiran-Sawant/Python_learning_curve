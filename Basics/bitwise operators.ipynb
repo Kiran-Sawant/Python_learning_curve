{
 "metadata": {
  "language_info": {
   "codemirror_mode": {
    "name": "ipython",
    "version": 3
   },
   "file_extension": ".py",
   "mimetype": "text/x-python",
   "name": "python",
   "nbconvert_exporter": "python",
   "pygments_lexer": "ipython3",
   "version": "3.7.6"
  },
  "orig_nbformat": 2,
  "kernelspec": {
   "name": "python3",
   "display_name": "Python 3.7.6 64-bit",
   "metadata": {
    "interpreter": {
     "hash": "0600588c3b5f4418cbe7b5ebc6825b479f3bc010269d8b60d75058cdd010adfe"
    }
   }
  }
 },
 "nbformat": 4,
 "nbformat_minor": 2,
 "cells": [
  {
   "source": [
    "### In python Bitwise operators work only on integers."
   ],
   "cell_type": "markdown",
   "metadata": {}
  },
  {
   "cell_type": "code",
   "execution_count": 1,
   "metadata": {},
   "outputs": [],
   "source": [
    "a = 10      # 1010 (Binary)\n",
    "b = 4       # 0100 (Binary)"
   ]
  },
  {
   "source": [
    "### # Bitwise AND operator '&'\n",
    "Bitwise AND compares the bit representation of both the integers and performs logical AND operation on each bit returning 1 if both the bits are 1, and then returns the integer representatioon of resulting bit string."
   ],
   "cell_type": "markdown",
   "metadata": {}
  },
  {
   "cell_type": "code",
   "execution_count": 5,
   "metadata": {},
   "outputs": [
    {
     "output_type": "execute_result",
     "data": {
      "text/plain": [
       "0"
      ]
     },
     "metadata": {},
     "execution_count": 5
    }
   ],
   "source": [
    "# 1010 & 0100 = 0000\n",
    "\n",
    "a & b"
   ]
  },
  {
   "source": [
    "### # Bitwise OR operator '|'\n",
    "Bitwise OR compares the bit representation of both the integers and performs logical OR operation on each bit, returning 1 if either of them are 1; else 0"
   ],
   "cell_type": "markdown",
   "metadata": {}
  },
  {
   "cell_type": "code",
   "execution_count": 6,
   "metadata": {},
   "outputs": [
    {
     "output_type": "execute_result",
     "data": {
      "text/plain": [
       "14"
      ]
     },
     "metadata": {},
     "execution_count": 6
    }
   ],
   "source": [
    "# 1010 | 0100 = 1110\n",
    "\n",
    "a | b"
   ]
  },
  {
   "source": [
    "### # Bitwise NOT operator '~'\n",
    "Bitwise NOT compares the bit representation of both the integers and performs logical NOT on each bits, returning the compliment of the number."
   ],
   "cell_type": "markdown",
   "metadata": {}
  },
  {
   "cell_type": "code",
   "execution_count": 11,
   "metadata": {},
   "outputs": [
    {
     "output_type": "execute_result",
     "data": {
      "text/plain": [
       "-11"
      ]
     },
     "metadata": {},
     "execution_count": 11
    }
   ],
   "source": [
    "# ~1010 = 0101\n",
    "~a"
   ]
  },
  {
   "source": [
    "### # Bitwise XOR operator '^'\n",
    "Bitwise XOR operator compares the bit representation of the integers and performs logical Xor opperation on each bit, returning 1 if and only if both the bits are different"
   ],
   "cell_type": "markdown",
   "metadata": {}
  },
  {
   "cell_type": "code",
   "execution_count": 12,
   "metadata": {},
   "outputs": [
    {
     "output_type": "execute_result",
     "data": {
      "text/plain": [
       "14"
      ]
     },
     "metadata": {},
     "execution_count": 12
    }
   ],
   "source": [
    "# 1010 ^ 0100 = 1110\n",
    "\n",
    "a ^ b"
   ]
  },
  {
   "source": [
    "### # Bitwise shift Right '>> n'\n",
    "Shifts the bits of the number to the right and fills 0 on voids left as a result.\n",
    "Shift right by 1 produces same result as dividing the number by 2."
   ],
   "cell_type": "markdown",
   "metadata": {}
  },
  {
   "cell_type": "code",
   "execution_count": 19,
   "metadata": {},
   "outputs": [
    {
     "output_type": "stream",
     "name": "stdout",
     "text": [
      "0b101\n"
     ]
    },
    {
     "output_type": "execute_result",
     "data": {
      "text/plain": [
       "5"
      ]
     },
     "metadata": {},
     "execution_count": 19
    }
   ],
   "source": [
    "# 1010 >> 1 = 0101\n",
    "\n",
    "print(bin(a >> 1))\n",
    "a >> 1"
   ]
  },
  {
   "source": [
    "### # Bitwise shift Left '<< n'\n",
    "\n",
    "Shifts the bits of the number to the left and fills 0, on voids left as a result.\n",
    "Shift right by 1 produces same result as multiplying the number by 2."
   ],
   "cell_type": "markdown",
   "metadata": {}
  },
  {
   "cell_type": "code",
   "execution_count": 21,
   "metadata": {},
   "outputs": [
    {
     "output_type": "stream",
     "name": "stdout",
     "text": [
      "0b10100\n"
     ]
    },
    {
     "output_type": "execute_result",
     "data": {
      "text/plain": [
       "20"
      ]
     },
     "metadata": {},
     "execution_count": 21
    }
   ],
   "source": [
    "print(bin(a << 1))\n",
    "a << 1"
   ]
  }
 ]
}